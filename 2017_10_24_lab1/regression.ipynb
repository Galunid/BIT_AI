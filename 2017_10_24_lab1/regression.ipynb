{
 "cells": [
  {
   "cell_type": "markdown",
   "metadata": {},
   "source": [
    "# Welcome!"
   ]
  },
  {
   "cell_type": "markdown",
   "metadata": {},
   "source": [
    "We are going to dive into powerful universe of machine learning models. We will start with the easiest one. The idea of learning and intuition will be the same in almost all models, so make sure that you understand upcoming concept first."
   ]
  },
  {
   "cell_type": "markdown",
   "metadata": {},
   "source": [
    "## Linear model"
   ]
  },
  {
   "cell_type": "markdown",
   "metadata": {},
   "source": [
    "# $$\\hat{y} = w_0 + w_1x_1+ w_2x_2+ w_3x_3+ ... + w_nx_n$$ "
   ]
  },
  {
   "cell_type": "markdown",
   "metadata": {},
   "source": [
    "# $$\\hat{y} = w_0 + w_1x_1$$ "
   ]
  },
  {
   "cell_type": "markdown",
   "metadata": {},
   "source": [
    "### Imports"
   ]
  },
  {
   "cell_type": "markdown",
   "metadata": {},
   "source": [
    "numpy: https://s3.amazonaws.com/assets.datacamp.com/blog_assets/Numpy_Python_Cheat_Sheet.pdf"
   ]
  },
  {
   "cell_type": "code",
   "execution_count": null,
   "metadata": {},
   "outputs": [],
   "source": [
    "import numpy as np\n",
    "import matplotlib.pyplot as plt\n",
    "from ipywidgets import interact, fixed\n",
    "import ipywidgets as widgets\n",
    "import andrzej\n",
    "\n",
    "%matplotlib inline"
   ]
  },
  {
   "cell_type": "markdown",
   "metadata": {},
   "source": [
    "### My favorite numbers"
   ]
  },
  {
   "cell_type": "code",
   "execution_count": null,
   "metadata": {},
   "outputs": [],
   "source": [
    "x = andrzej.x\n",
    "y = andrzej.y"
   ]
  },
  {
   "cell_type": "code",
   "execution_count": null,
   "metadata": {},
   "outputs": [],
   "source": [
    "plt.scatter(andrzej.x, andrzej.y)\n",
    "plt.show()"
   ]
  },
  {
   "cell_type": "code",
   "execution_count": null,
   "metadata": {},
   "outputs": [],
   "source": [
    "def plot_linear_model(a, b):\n",
    "    y_pred = a * x + b\n",
    "    plt.scatter(x, y)\n",
    "    plt.plot(x, y_pred, 'r')\n",
    "    plt.xlim([-1, 11])\n",
    "    plt.ylim([-2, 22])\n",
    "    plt.show()"
   ]
  },
  {
   "cell_type": "code",
   "execution_count": null,
   "metadata": {},
   "outputs": [],
   "source": [
    "interact(plot_linear_model, a=(-5.0, 5.0), b=(-5.0,5.0))"
   ]
  },
  {
   "cell_type": "markdown",
   "metadata": {},
   "source": [
    "# Cost function"
   ]
  },
  {
   "cell_type": "markdown",
   "metadata": {},
   "source": [
    "# $$L = \\frac{1}{N}\\sum_{i=0}^N(\\hat{y_i} - y_i)^2$$"
   ]
  },
  {
   "cell_type": "markdown",
   "metadata": {},
   "source": [
    "## $$\\epsilon_i = \\hat{y_i} - y_i$$"
   ]
  },
  {
   "cell_type": "code",
   "execution_count": null,
   "metadata": {},
   "outputs": [],
   "source": [
    "def cost(x, y, w_0, w_1):\n",
    "    # TO BE IMPLEMENTED\n"
   ]
  },
  {
   "cell_type": "code",
   "execution_count": null,
   "metadata": {},
   "outputs": [],
   "source": [
    "cost = andrzej.cost"
   ]
  },
  {
   "cell_type": "code",
   "execution_count": null,
   "metadata": {},
   "outputs": [],
   "source": [
    "interact(cost, w_0=(-5.0, 5.0), w_1=(-5.0, 5.0), x=fixed(x), y=fixed(y))"
   ]
  },
  {
   "cell_type": "markdown",
   "metadata": {},
   "source": [
    "# Gradient descent"
   ]
  },
  {
   "cell_type": "markdown",
   "metadata": {},
   "source": [
    "It's an iterative algorithm. You must \"go\" in direction which is opposite to cost gradient to minimize cost. Now you will implement the \"gradient step\" which is the core of gradient descent algorithm."
   ]
  },
  {
   "cell_type": "markdown",
   "metadata": {},
   "source": [
    "very good source explaining gradient descent: http://lmgtfy.com/?q=gradient+descent"
   ]
  },
  {
   "cell_type": "code",
   "execution_count": null,
   "metadata": {},
   "outputs": [],
   "source": [
    "def gradient_step(x, y, w_0, w_1, alpha=0.01):\n",
    "    # TO BE IMPLEMENTED\n"
   ]
  },
  {
   "cell_type": "code",
   "execution_count": null,
   "metadata": {},
   "outputs": [],
   "source": [
    "gradient_step = andrzej.gradient_step"
   ]
  },
  {
   "cell_type": "code",
   "execution_count": null,
   "metadata": {},
   "outputs": [],
   "source": [
    "andrzej.gradient_step(x, y, 1, 2)"
   ]
  },
  {
   "cell_type": "code",
   "execution_count": null,
   "metadata": {},
   "outputs": [],
   "source": [
    "def gradient_descent(x, y, w_0=0.0, w_1=0.0, alpha=0.001, steps=1000, history=True):\n",
    "    w_history = [(w_0, w_1)]\n",
    "    for i in range(steps):\n",
    "        if i%100 == 0:\n",
    "            print(\"Current cost: \", cost(x, y, w_0, w_1))\n",
    "        \n",
    "        w_0, w_1 = gradient_step( x, y, w_0, w_1,alpha)\n",
    "        w_history.append((w_0, w_1))\n",
    "    if not history:\n",
    "        return w_0, w_1\n",
    "    else:\n",
    "        return w_0, w_1, w_history"
   ]
  },
  {
   "cell_type": "code",
   "execution_count": null,
   "metadata": {},
   "outputs": [],
   "source": [
    "w_0, w_1, history = gradient_descent(x, y, steps=20, history=True)"
   ]
  },
  {
   "cell_type": "code",
   "execution_count": null,
   "metadata": {},
   "outputs": [],
   "source": [
    "def plot_gradient_descent(idx, history):\n",
    "    w_0, w_1 = history[idx]\n",
    "    y_pred = w_1 * x + w_0\n",
    "    plt.scatter(x, y)\n",
    "    plt.plot(x, y_pred, 'r')\n",
    "    plt.xlim([-1, 11])\n",
    "    plt.ylim([-2, 22])\n",
    "    plt.show()"
   ]
  },
  {
   "cell_type": "code",
   "execution_count": null,
   "metadata": {},
   "outputs": [],
   "source": [
    "interact(plot_gradient_descent, idx=(0, len(history)-1), history=fixed(history))"
   ]
  },
  {
   "cell_type": "code",
   "execution_count": null,
   "metadata": {},
   "outputs": [],
   "source": []
  }
 ],
 "metadata": {
  "kernelspec": {
   "display_name": "Python 3",
   "language": "python",
   "name": "python3"
  },
  "language_info": {
   "codemirror_mode": {
    "name": "ipython",
    "version": 3
   },
   "file_extension": ".py",
   "mimetype": "text/x-python",
   "name": "python",
   "nbconvert_exporter": "python",
   "pygments_lexer": "ipython3",
   "version": "3.6.2"
  }
 },
 "nbformat": 4,
 "nbformat_minor": 2
}
