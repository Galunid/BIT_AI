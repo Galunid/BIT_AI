{
 "cells": [
  {
   "cell_type": "markdown",
   "metadata": {},
   "source": [
    "# Genetic Algorithms example: the knapsack problem\n",
    "\n",
    "Hi! \n",
    "\n",
    "In this notebook we'll work out through one of the most basic NP-complete problems - the Knapsack Problem:\n",
    "\n",
    "https://en.wikipedia.org/wiki/Knapsack_problem\n",
    "\n",
    "Though it's decsription is quite basic, the algorithm to find it's best solution has a complexity of $O(2^n)$ - where $n$ is the number of possible items to put in the knapsack. \n",
    "\n",
    "This is _bad_.\n",
    "\n",
    "We'll see how it can be solved with a genetic algorithm!"
   ]
  },
  {
   "cell_type": "code",
   "execution_count": 1,
   "metadata": {
    "collapsed": true
   },
   "outputs": [],
   "source": [
    "import numpy as np\n",
    "import matplotlib.pyplot as plt"
   ]
  },
  {
   "cell_type": "markdown",
   "metadata": {},
   "source": [
    "The knapsack problem is defined by:\n",
    "\n",
    "* $N$ - the number of items\n",
    "* $C$ - the capacity of knapsack\n",
    "* $X$\n",
    "* $$ -\n",
    "*"
   ]
  }
 ],
 "metadata": {
  "kernelspec": {
   "display_name": "Python 3",
   "language": "python",
   "name": "python3"
  },
  "language_info": {
   "codemirror_mode": {
    "name": "ipython",
    "version": 3
   },
   "file_extension": ".py",
   "mimetype": "text/x-python",
   "name": "python",
   "nbconvert_exporter": "python",
   "pygments_lexer": "ipython3",
   "version": "3.6.3"
  }
 },
 "nbformat": 4,
 "nbformat_minor": 2
}
