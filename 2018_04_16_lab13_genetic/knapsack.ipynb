{
 "cells": [
  {
   "cell_type": "markdown",
   "metadata": {},
   "source": [
    "# Genetic Algorithms example: the knapsack problem\n",
    "\n",
    "Hi! \n",
    "\n",
    "In this notebook we'll work out through one of the most basic NP-complete problems - the Knapsack Problem:\n",
    "\n",
    "https://en.wikipedia.org/wiki/Knapsack_problem\n",
    "\n",
    "Basically, we want to pack items into the knapsack. Each **item** has its **value and weight** and the **knapsack** has some **finite capacity**. The target is to maximize the value of packed items while not exceeding the capacity of our knapsack.\n",
    "\n",
    "Though this description is quite simple, the naive algorithm to find best solution for n items has a complexity of $O(2^n)$ _(why?)_.\n",
    "\n",
    "This is _bad_.\n",
    "\n",
    "We'll see how it can be improved with a genetic algorithm!\n",
    "\n",
    "https://en.wikipedia.org/wiki/Genetic_algorithm"
   ]
  },
  {
   "cell_type": "markdown",
   "metadata": {},
   "source": [
    "The knapsack problem is defined by:\n",
    "\n",
    "* $c$ - capacity of knapsack\n",
    "* $n$ - number of items\n",
    "* $v_i$ - value of i-th item\n",
    "* $w_i$ - weight of i-th item"
   ]
  },
  {
   "cell_type": "markdown",
   "metadata": {},
   "source": [
    "We'll be using an example problem instance generated below."
   ]
  },
  {
   "cell_type": "code",
   "execution_count": null,
   "metadata": {
    "collapsed": true
   },
   "outputs": [],
   "source": [
    "import numpy as np\n",
    "import matplotlib.pyplot as plt\n",
    "import random"
   ]
  },
  {
   "cell_type": "code",
   "execution_count": null,
   "metadata": {
    "collapsed": true
   },
   "outputs": [],
   "source": [
    "class KnapsackInstance:\n",
    "    def __init__(self, c, n, v, w):\n",
    "        self.c = c\n",
    "        self.n = n\n",
    "        self.v = v\n",
    "        self.w = w\n",
    "        \n",
    "    def __str__(self):\n",
    "        return 'c = {}\\nn = {}\\nv = {}\\nw = {}'.format(c, n, v, w)"
   ]
  },
  {
   "cell_type": "code",
   "execution_count": null,
   "metadata": {},
   "outputs": [],
   "source": [
    "c = 100\n",
    "n = 100\n",
    "v = 10 * np.random.rand(n)\n",
    "w = 10 * np.random.rand(n)\n",
    "\n",
    "p = KnapsackInstance(c, n, v, w)"
   ]
  },
  {
   "cell_type": "markdown",
   "metadata": {},
   "source": [
    "We have to represent our solution in terms of genetic algorithm. In our case, the chromosome will be an array of 0s and 1s, which indicate whether we pack a given item into the knapsack (1) or not (0) and initial population will be generated randomly."
   ]
  },
  {
   "cell_type": "code",
   "execution_count": null,
   "metadata": {
    "collapsed": true
   },
   "outputs": [],
   "source": [
    "def weight(p, chromosome):\n",
    "    return np.sum(np.multiply(p.w, chromosome))"
   ]
  },
  {
   "cell_type": "markdown",
   "metadata": {},
   "source": [
    "To make sure our chromosomes don't exceed the capacity of the knapsack, we'll define a helper method which randomly throws out items until the capacity is not exceeded:"
   ]
  },
  {
   "cell_type": "code",
   "execution_count": null,
   "metadata": {
    "collapsed": true
   },
   "outputs": [],
   "source": [
    "def make_chromosome_great_again(p, chromosome):\n",
    "    w = weight(p, chromosome)\n",
    "    picked = (chromosome == 1).nonzero()[0] # indices of picked items\n",
    "    while w > p.c:\n",
    "        i = np.random.randint(picked.shape[0])\n",
    "        unpick = picked[i]\n",
    "        picked = np.delete(picked, i)\n",
    "        chromosome[unpick] = 0\n",
    "        w -= p.w[unpick]\n",
    "    \n",
    "    return chromosome"
   ]
  },
  {
   "cell_type": "markdown",
   "metadata": {},
   "source": [
    "The chromosomes generator:"
   ]
  },
  {
   "cell_type": "code",
   "execution_count": null,
   "metadata": {
    "collapsed": true
   },
   "outputs": [],
   "source": [
    "def make_random_chromosome(p):\n",
    "    c = np.array([random.randint(0,1) for _ in range(p.n)])\n",
    "    return make_chromosome_great_again(p, c)"
   ]
  },
  {
   "cell_type": "code",
   "execution_count": null,
   "metadata": {
    "collapsed": true
   },
   "outputs": [],
   "source": [
    "def make_random_population(p, size):\n",
    "    return np.array([make_random_chromosome(p) for _ in range(size)])"
   ]
  },
  {
   "cell_type": "markdown",
   "metadata": {},
   "source": [
    "And a helper function to get the best chromosome of the population:"
   ]
  },
  {
   "cell_type": "code",
   "execution_count": null,
   "metadata": {
    "collapsed": true
   },
   "outputs": [],
   "source": [
    "def best(p, population):\n",
    "    return max(population, key=lambda c: fitness(p, c))"
   ]
  },
  {
   "cell_type": "markdown",
   "metadata": {},
   "source": [
    "Next, we can define the fitness function - simply the value of the items that ended up in the knapsack:"
   ]
  },
  {
   "cell_type": "code",
   "execution_count": null,
   "metadata": {
    "collapsed": true
   },
   "outputs": [],
   "source": [
    "def fitness(p, chromosome):\n",
    "    return np.sum(np.multiply(p.v, chromosome))"
   ]
  },
  {
   "cell_type": "markdown",
   "metadata": {},
   "source": [
    "Next, we'll employ a roulette choice selection:"
   ]
  },
  {
   "cell_type": "code",
   "execution_count": null,
   "metadata": {
    "collapsed": true
   },
   "outputs": [],
   "source": [
    "def roulette_choice(p, population):\n",
    "    fitness_sum = sum(fitness(p, c) for c in population)\n",
    "    pick = np.random.rand() * fitness_sum\n",
    "    current = 0\n",
    "    for chromosome in population:\n",
    "        current += fitness(p, chromosome)\n",
    "        if current > pick:\n",
    "            return chromosome"
   ]
  },
  {
   "cell_type": "markdown",
   "metadata": {},
   "source": [
    "A simple crossover and breeding operation:"
   ]
  },
  {
   "cell_type": "code",
   "execution_count": null,
   "metadata": {
    "collapsed": true
   },
   "outputs": [],
   "source": [
    "def crossover(p, mother, father):\n",
    "    split = np.random.randint(p.n)\n",
    "    child = np.append(mother[:split], father[split:])\n",
    "    return make_chromosome_great_again(p, child)\n",
    "\n",
    "def breed(p, population):\n",
    "    mother = roulette_choice(p, population)\n",
    "    father = roulette_choice(p, population)\n",
    "    return crossover(p, mother, father)"
   ]
  },
  {
   "cell_type": "markdown",
   "metadata": {},
   "source": [
    "And a mutation:"
   ]
  },
  {
   "cell_type": "code",
   "execution_count": null,
   "metadata": {
    "collapsed": true
   },
   "outputs": [],
   "source": [
    "def mutation(p, population, mutation_probability=0.01):\n",
    "    for i, c in enumerate(population):\n",
    "        for j in range(p.n):\n",
    "            if np.random.rand() < mutation_probability:\n",
    "                c[j] = 1 - c[j] # swap 0 and 1\n",
    "        population[i] = make_chromosome_great_again(p, c)\n",
    "    return population"
   ]
  },
  {
   "cell_type": "markdown",
   "metadata": {},
   "source": [
    "Now that we have all the parts, we can build a single evolution step for our population."
   ]
  },
  {
   "cell_type": "code",
   "execution_count": null,
   "metadata": {},
   "outputs": [],
   "source": [
    "def step(p, population, crossover_percentage=0.9, mutation_probability=0.001, keep_best=True):\n",
    "    \n",
    "    # first, we select the parents, breed new children and create a new population from them\n",
    "    child_count = int(crossover_percentage * len(population))\n",
    "    new_population = [breed(p, population) for _ in range(child_count)]\n",
    "    \n",
    "    # the children mutate\n",
    "    new_population = mutation(p, new_population, mutation_probability=mutation_probability)\n",
    "\n",
    "    if keep_best:\n",
    "        # we also make sure the best of the original chromosomes ends up in the new population\n",
    "        new_population.append(best(p, population))\n",
    "    \n",
    "    # finally, we select random parents to remain in the new population, so that it doesn't shrink\n",
    "    parent_indices = np.random.choice(population.shape[0], len(population) - 1 - child_count, replace=False)\n",
    "    parent_sample = population[parent_indices]\n",
    "    new_population.extend(parent_sample)\n",
    "\n",
    "    return np.array(new_population)"
   ]
  },
  {
   "cell_type": "markdown",
   "metadata": {},
   "source": [
    "Finally, we can define some basic parameters for the algorithm and go!"
   ]
  },
  {
   "cell_type": "code",
   "execution_count": null,
   "metadata": {
    "collapsed": true
   },
   "outputs": [],
   "source": [
    "generations = 100\n",
    "population_size = 100\n",
    "population = make_random_population(p, 100)\n",
    "crossover_percentage = 0.8\n",
    "mutation_probability = 0.01\n",
    "best_history = []"
   ]
  },
  {
   "cell_type": "code",
   "execution_count": null,
   "metadata": {},
   "outputs": [],
   "source": [
    "for _ in range(generations):\n",
    "    population = step(p, population, \n",
    "                      crossover_percentage=crossover_percentage,\n",
    "                      mutation_probability=mutation_probability\n",
    "                     )\n",
    "    best_history.append(best(p, population))\n",
    "\n",
    "x = np.arange(generations)\n",
    "y = [fitness(p, b) for b in best_history]\n",
    "\n",
    "plt.plot(x,y)\n",
    "plt.show()"
   ]
  }
 ],
 "metadata": {
  "kernelspec": {
   "display_name": "Python 3",
   "language": "python",
   "name": "python3"
  },
  "language_info": {
   "codemirror_mode": {
    "name": "ipython",
    "version": 3
   },
   "file_extension": ".py",
   "mimetype": "text/x-python",
   "name": "python",
   "nbconvert_exporter": "python",
   "pygments_lexer": "ipython3",
   "version": "3.6.3"
  }
 },
 "nbformat": 4,
 "nbformat_minor": 2
}
