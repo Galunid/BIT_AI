{
 "cells": [
  {
   "cell_type": "markdown",
   "metadata": {},
   "source": [
    "# Genetic Algorithms example: Symbolic Regression\n"
   ]
  },
  {
   "cell_type": "code",
   "execution_count": null,
   "metadata": {},
   "outputs": [],
   "source": [
    "!pip install gplearn\n",
    "!pip install pydotplus"
   ]
  },
  {
   "cell_type": "code",
   "execution_count": null,
   "metadata": {
    "collapsed": true
   },
   "outputs": [],
   "source": [
    "from gplearn.genetic import SymbolicRegressor\n",
    "from sklearn.ensemble import RandomForestRegressor\n",
    "from sklearn.tree import DecisionTreeRegressor\n",
    "from sklearn.neural_network import MLPRegressor\n",
    "from sklearn.utils.random import check_random_state\n",
    "from mpl_toolkits.mplot3d import Axes3D\n",
    "import matplotlib.pyplot as plt\n",
    "import numpy as np\n",
    "from IPython.display import Image\n",
    "import pydotplus"
   ]
  },
  {
   "cell_type": "markdown",
   "metadata": {},
   "source": [
    "First, we'll define the function we want to fit:"
   ]
  },
  {
   "cell_type": "code",
   "execution_count": null,
   "metadata": {
    "collapsed": true
   },
   "outputs": [],
   "source": [
    "x0 = np.arange(-1, 1, 0.1)\n",
    "x1 = np.arange(-1, 1, 0.1)\n",
    "x0, x1 = np.meshgrid(x0, x1)\n",
    "\n",
    "def y(x0, x1):\n",
    "    return (x0 ** 2) + np.sin(x1) -1\n",
    "\n",
    "y_truth = y(x0, x1)"
   ]
  },
  {
   "cell_type": "markdown",
   "metadata": {},
   "source": [
    "What does the function look like?"
   ]
  },
  {
   "cell_type": "code",
   "execution_count": null,
   "metadata": {},
   "outputs": [],
   "source": [
    "ax = plt.figure().gca(projection='3d')\n",
    "ax.set_xlim(-1, 1)\n",
    "ax.set_ylim(-1,1)\n",
    "surf = ax.plot_surface(x0, x1, y_truth, rstride=2, cstride=2,\n",
    "                       color='green', alpha=0.5)\n",
    "plt.show()"
   ]
  },
  {
   "cell_type": "markdown",
   "metadata": {},
   "source": [
    "For training, we'll generate some more data to train on"
   ]
  },
  {
   "cell_type": "code",
   "execution_count": null,
   "metadata": {},
   "outputs": [],
   "source": [
    "train_size = 100\n",
    "test_size = 50\n",
    "\n",
    "X_train = np.random.rand(train_size, 2) * 2 - 1\n",
    "y_train = y(X_train[:, 0], X_train[:, 1])\n",
    "\n",
    "X_test = np.random.rand(test_size, 2) * 2 - 1\n",
    "y_test = y(X_test[:, 0], X_test[:, 1])\n",
    "\n",
    "X_train.shape"
   ]
  },
  {
   "cell_type": "markdown",
   "metadata": {},
   "source": [
    "Now we can go on to define the functions allowed for use by the regressor and define it!"
   ]
  },
  {
   "cell_type": "code",
   "execution_count": null,
   "metadata": {
    "collapsed": true
   },
   "outputs": [],
   "source": [
    "function_set = ['add', 'sub', 'mul', 'div',\n",
    "                'sqrt', 'log', 'abs', 'neg', 'inv',\n",
    "                'max', 'min', 'sin', 'cos', 'log']\n",
    "\n",
    "genetic_regressor = SymbolicRegressor(population_size=5000,\n",
    "                                generations=5, \n",
    "                              stopping_criteria=0.01,\n",
    "                                p_crossover=0.7, p_subtree_mutation=0.1,\n",
    "                                p_hoist_mutation=0.05, p_point_mutation=0.1,\n",
    "                                max_samples=0.9, verbose=1,\n",
    "                                function_set=function_set,\n",
    "                                parsimony_coefficient=0.01)"
   ]
  },
  {
   "cell_type": "markdown",
   "metadata": {},
   "source": [
    "Let's train:"
   ]
  },
  {
   "cell_type": "code",
   "execution_count": null,
   "metadata": {},
   "outputs": [],
   "source": [
    "genetic_regressor.fit(X_train, y_train)"
   ]
  },
  {
   "cell_type": "markdown",
   "metadata": {},
   "source": [
    "GPLearn allows us to visualize the regressor:\n",
    "\n",
    "(You must install graphviz to see it)\n",
    "```\n",
    "sudo apt-get install graphviz\n",
    "```"
   ]
  },
  {
   "cell_type": "code",
   "execution_count": null,
   "metadata": {},
   "outputs": [],
   "source": [
    "graph = pydotplus.graphviz.graph_from_dot_data(genetic_regressor._program.export_graphviz())\n",
    "Image(graph.create_png())"
   ]
  },
  {
   "cell_type": "markdown",
   "metadata": {},
   "source": [
    "Now that we have the regressor, we can also see how it came to be."
   ]
  },
  {
   "cell_type": "code",
   "execution_count": null,
   "metadata": {},
   "outputs": [],
   "source": [
    "print(genetic_regressor._program.parents)"
   ]
  },
  {
   "cell_type": "code",
   "execution_count": null,
   "metadata": {},
   "outputs": [],
   "source": [
    "parent_id = genetic_regressor._program.parents['parent_idx']\n",
    "graph = genetic_regressor._programs[-2][parent_id].export_graphviz()\n",
    "graph = pydotplus.graphviz.graph_from_dot_data(graph)\n",
    "Image(graph.create_png())"
   ]
  },
  {
   "cell_type": "markdown",
   "metadata": {},
   "source": [
    "Before we go on to measure the accuracy of our regressor, we'll train a couple more with different methods in order to compare their performances:"
   ]
  },
  {
   "cell_type": "markdown",
   "metadata": {},
   "source": [
    "A decision tree:"
   ]
  },
  {
   "cell_type": "code",
   "execution_count": null,
   "metadata": {},
   "outputs": [],
   "source": [
    "tree_regressor = DecisionTreeRegressor()\n",
    "tree_regressor.fit(X_train, y_train)"
   ]
  },
  {
   "cell_type": "markdown",
   "metadata": {},
   "source": [
    "And a neural network:"
   ]
  },
  {
   "cell_type": "code",
   "execution_count": null,
   "metadata": {},
   "outputs": [],
   "source": [
    "neural_regressor = MLPRegressor(verbose=True,\n",
    "                                hidden_layer_sizes=(10, 10),\n",
    "                               learning_rate_init=0.01,\n",
    "                               max_iter=100,\n",
    "                               tol=-100)\n",
    "neural_regressor.fit(X_train, y_train)"
   ]
  },
  {
   "cell_type": "markdown",
   "metadata": {},
   "source": [
    "All three regressors will try and evaluate the function over our space:"
   ]
  },
  {
   "cell_type": "code",
   "execution_count": null,
   "metadata": {
    "collapsed": true
   },
   "outputs": [],
   "source": [
    "y_genetic = genetic_regressor.predict(np.c_[x0.ravel(), x1.ravel()]).reshape(x0.shape)\n",
    "score_genetic = genetic_regressor.score(X_test, y_test)\n",
    "\n",
    "y_tree = tree_regressor.predict(np.c_[x0.ravel(), x1.ravel()]).reshape(x0.shape)\n",
    "score_tree = tree_regressor.score(X_test, y_test)\n",
    "\n",
    "y_neural = neural_regressor.predict(np.c_[x0.ravel(), x1.ravel()]).reshape(x0.shape)\n",
    "score_neural = neural_regressor.score(X_test, y_test)"
   ]
  },
  {
   "cell_type": "markdown",
   "metadata": {},
   "source": [
    "Finally, let's compare what they've drawn!"
   ]
  },
  {
   "cell_type": "code",
   "execution_count": null,
   "metadata": {},
   "outputs": [],
   "source": [
    "fig = plt.figure(figsize=(12, 10))\n",
    "\n",
    "for i, (y_pred, score, title) in enumerate([(y_truth, None, \"Ground Truth\"),\n",
    "                                       (y_genetic, score_genetic, \"GeneticRegressor\"),\n",
    "                                       (y_tree, score_tree, \"DecisionTreeRegressor\"),\n",
    "                                       (y_neural, score_neural, \"NeuralRegressor\"),\n",
    "\n",
    "                                      ]):\n",
    "\n",
    "    ax = fig.add_subplot(2, 2, i+1, projection='3d')\n",
    "    ax.set_xlim(-1, 1)\n",
    "    ax.set_ylim(-1, 1)\n",
    "    surf = ax.plot_surface(x0, x1, y_pred, rstride=1, cstride=1, color='green', alpha=0.5)\n",
    "    points = ax.scatter(X_train[:, 0], X_train[:, 1], y_train)\n",
    "    if score is not None:\n",
    "        score = ax.text(-.7, 1, .2, \"$R^2 =\\/ %.6f$\" % score, 'x', fontsize=14)\n",
    "    plt.title(title)\n",
    "plt.show()"
   ]
  }
 ],
 "metadata": {
  "kernelspec": {
   "display_name": "Python 3",
   "language": "python",
   "name": "python3"
  },
  "language_info": {
   "codemirror_mode": {
    "name": "ipython",
    "version": 3
   },
   "file_extension": ".py",
   "mimetype": "text/x-python",
   "name": "python",
   "nbconvert_exporter": "python",
   "pygments_lexer": "ipython3",
   "version": "3.6.3"
  }
 },
 "nbformat": 4,
 "nbformat_minor": 2
}
