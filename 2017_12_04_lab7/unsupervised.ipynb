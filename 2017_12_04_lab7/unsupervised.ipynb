{
 "cells": [
  {
   "cell_type": "markdown",
   "metadata": {},
   "source": [
    "# Hi!\n",
    "\n",
    "Today we're going to dive into the second type of Machine Learning, which is **unsupervised learning**. \n",
    "We're going to create algorithms that will learn from the data itself, without any need from us to label it. Let's go!"
   ]
  },
  {
   "cell_type": "code",
   "execution_count": null,
   "metadata": {},
   "outputs": [],
   "source": [
    "# imports\n",
    "import numpy as np\n",
    "import matplotlib.pyplot as plt\n",
    "import solutions\n",
    "import time\n",
    "\n",
    "from ipywidgets import interact, fixed\n",
    "import ipywidgets as widgets\n",
    "\n",
    "from scipy.stats import norm, multivariate_normal\n",
    "import cv2\n",
    "\n",
    "np.random.seed(int(time.time()))\n",
    "%matplotlib inline"
   ]
  },
  {
   "cell_type": "markdown",
   "metadata": {},
   "source": [
    "## Use case 1: Clustering\n",
    "\n",
    "There are many real-world cases, when a need arises to divide a dataset into various subgroups. Be it people, products or website articles. Sometimes there may not be any obvious ways to achieve that - fortunately, there are algorithms that can figure that out for us!"
   ]
  },
  {
   "cell_type": "code",
   "execution_count": null,
   "metadata": {},
   "outputs": [],
   "source": [
    "points = solutions.generate_mess(point_range=100)\n",
    "X = points[:,0]\n",
    "Y = points[:,1]\n",
    "\n",
    "plt.scatter(X,Y, marker='.')\n",
    "plt.show()"
   ]
  },
  {
   "cell_type": "markdown",
   "metadata": {},
   "source": [
    "### K-means algorithm\n",
    "\n",
    "The only thing we have to choose is the number of the clusters we want to achieve."
   ]
  },
  {
   "cell_type": "code",
   "execution_count": null,
   "metadata": {},
   "outputs": [],
   "source": [
    "num_centroids = 3"
   ]
  },
  {
   "cell_type": "markdown",
   "metadata": {},
   "source": [
    "* We initialize K cluster 'centroids' **randomly** in the space of the examples (represented by their features).\n",
    "$$centroids = \\mu_1, \\mu_2, ... \\mu_k$$\n",
    "* repeatedly:\n",
    "    * add every example to the cluster whose centroid it's the closest to\n",
    "    * every centroid is reassigned as the mean of the examples in its' cluster\n",
    "\n",
    "You can repeat the above steps either for a given number of steps or until the algorithm converges (the centroids move slower and slower) "
   ]
  },
  {
   "cell_type": "code",
   "execution_count": null,
   "metadata": {},
   "outputs": [],
   "source": [
    "centroids = np.random.rand(num_centroids, 2) * 100 \n",
    "plt.scatter(X, Y)\n",
    "plt.scatter(centroids[:,0], centroids[:,1], marker='.')\n",
    "plt.show()"
   ]
  },
  {
   "cell_type": "code",
   "execution_count": null,
   "metadata": {},
   "outputs": [],
   "source": [
    "def k_means_iteration(centroids, X, Y):\n",
    "    # implement me!\n",
    "    # return new positions of centroids"
   ]
  },
  {
   "cell_type": "code",
   "execution_count": null,
   "metadata": {},
   "outputs": [],
   "source": [
    "k_means_iteration = solutions.k_means_iteration"
   ]
  },
  {
   "cell_type": "code",
   "execution_count": null,
   "metadata": {},
   "outputs": [],
   "source": [
    "centroids, clusters = k_means_iteration(centroids, points)\n",
    "for c in clusters:\n",
    "    plt.scatter(X[c], Y[c])\n",
    "plt.scatter(centroids[:, 0], centroids[:, 1], color='black', marker='.')\n",
    "plt.show()\n"
   ]
  },
  {
   "cell_type": "code",
   "execution_count": null,
   "metadata": {},
   "outputs": [],
   "source": [
    "num_centroids = 5\n",
    "centroids = np.random.rand(num_centroids, 2) * 100\n",
    "interact(solutions.demonstrate_k_means,\n",
    "        k_means_iter=fixed(k_means_iteration),\n",
    "        datapoints=fixed(points),\n",
    "        centroids=fixed(centroids),\n",
    "        num_iterations=widgets.IntSlider(min=0,max=20,step=1,value=0)\n",
    "        )"
   ]
  },
  {
   "cell_type": "markdown",
   "metadata": {},
   "source": [
    "## Use Case 2: Image compression\n",
    "\n",
    "Could we use the same method to find a number of RGB values that can be used to represent the image?\n",
    "<img src=\"img/phoenix.jpg\" alt=\"Name a better comic, I'll wait\" style=\"width: 200px;\"/>\n",
    "\n"
   ]
  },
  {
   "cell_type": "code",
   "execution_count": null,
   "metadata": {},
   "outputs": [],
   "source": [
    "img = cv2.imread('img/phoenix.jpg')\n",
    "print(img.shape)\n",
    "# plt changes the rgb channels order... \n",
    "plt.imshow(img[:,:,[2,1,0]])"
   ]
  },
  {
   "cell_type": "code",
   "execution_count": null,
   "metadata": {},
   "outputs": [],
   "source": [
    "#number of colours we want to achieve\n",
    "num_centroids = 8\n",
    "centroids = np.random.rand(num_centroids, 3) * 255"
   ]
  },
  {
   "cell_type": "code",
   "execution_count": null,
   "metadata": {},
   "outputs": [],
   "source": [
    "interact(solutions.k_means_img_compression,\n",
    "        k_means_iter=fixed(k_means_iteration),\n",
    "        image=fixed(img),\n",
    "        centroids=fixed(centroids),\n",
    "        num_iterations=widgets.IntSlider(min=0,max=20,step=1,value=0)\n",
    "        )"
   ]
  },
  {
   "cell_type": "markdown",
   "metadata": {},
   "source": [
    "## Use Case 3: Anomaly detection\n",
    "\n",
    "Look at the below datapoints. You can see that most of them are centered around a certain value, but some are more distant than the others:"
   ]
  },
  {
   "cell_type": "code",
   "execution_count": null,
   "metadata": {},
   "outputs": [],
   "source": [
    "points = np.random.normal(size=(200, 2), loc=(-2,2), scale=2)\n",
    "X_1 = points[:,0] \n",
    "X_2 = points[:,1] "
   ]
  },
  {
   "cell_type": "code",
   "execution_count": null,
   "metadata": {},
   "outputs": [],
   "source": [
    "def show_messed_up(fun=(lambda X: X), X_1=X_1, X_2=X_2):\n",
    "    plt.scatter(fun(X_1), fun(X_2))\n",
    "    plt.show()\n",
    "    plt.hist(fun(X_1), 20, normed=True)\n",
    "    plt.hist(fun(X_2), 20, normed=True)\n",
    "    plt.show()"
   ]
  },
  {
   "cell_type": "code",
   "execution_count": null,
   "metadata": {},
   "outputs": [],
   "source": [
    "show_messed_up()"
   ]
  },
  {
   "cell_type": "markdown",
   "metadata": {},
   "source": [
    "In this case, as in many real-life cases, X_1 and X_2 are spread according to Gaussian distribution (and if at the first glance they're not, there's usually some function of them that is)."
   ]
  },
  {
   "cell_type": "code",
   "execution_count": null,
   "metadata": {},
   "outputs": [],
   "source": [
    "show_messed_up(lambda X: X **2)"
   ]
  },
  {
   "cell_type": "markdown",
   "metadata": {},
   "source": [
    "Gaussian distribuition is defined by two parameters:\n",
    "\n",
    "Mean:\n",
    "\n",
    "$$\n",
    "\\mu_j = \\frac{1}{m} \\sum_{i=1}^{m} x_j^{(i)}\n",
    "$$\n",
    "\n",
    "Standard deviation:\n",
    "\n",
    "$$\n",
    "\\sigma_j = \\sqrt{\\frac{1}{m}\\sum_{i=1}^m(x_j^{(i)} - \\mu_j)^2}\n",
    "$$\n",
    "\n",
    "Of course, we calculate those parameters separately for every feature of X."
   ]
  },
  {
   "cell_type": "markdown",
   "metadata": {},
   "source": [
    "Having calculated those parameters, we can then evaluate the probability for every datapoint:\n",
    "    \n",
    "$$\n",
    "p(x) = \\prod_{j=1}^n \\frac{1}{\\sqrt{2 \\pi \\sigma_j}} exp(-\\frac{(x_j - \\mu_j)^2}{2 \\sigma^2_j})\n",
    "$$"
   ]
  },
  {
   "cell_type": "code",
   "execution_count": null,
   "metadata": {},
   "outputs": [],
   "source": [
    "# thankfully, numpy has implemented that for us\n",
    "means = points.mean(axis=0)\n",
    "stds = points.std(axis=0)\n",
    "means, stds"
   ]
  },
  {
   "cell_type": "code",
   "execution_count": null,
   "metadata": {},
   "outputs": [],
   "source": [
    "probabilities = norm.pdf(points, loc=means, scale=stds)\n",
    "\n",
    "plt.hist(X_1, 30, normed=True)\n",
    "plt.hist(X_2, 30, normed=True)\n",
    "plt.scatter(X_1, probabilities[:, 0], color='b')\n",
    "plt.scatter(X_2, probabilities[:, 1], color='r')\n",
    "plt.show()"
   ]
  },
  {
   "cell_type": "code",
   "execution_count": null,
   "metadata": {},
   "outputs": [],
   "source": [
    "prob_mul = probabilities.prod(axis=1)\n",
    "plt.hist(prob_mul,20)"
   ]
  },
  {
   "cell_type": "code",
   "execution_count": null,
   "metadata": {},
   "outputs": [],
   "source": [
    "threshold = 0.01\n",
    "valid_indices = np.argwhere(prob_mul > threshold)\n",
    "invalid_indices = np.argwhere(prob_mul <= threshold)\n",
    "\n",
    "plt.scatter(X_1[valid_indices], X_2[valid_indices])\n",
    "plt.scatter(X_1[invalid_indices], X_2[invalid_indices])\n",
    "\n",
    "plt.show()"
   ]
  },
  {
   "cell_type": "markdown",
   "metadata": {},
   "source": [
    "### What if the features are not independent?\n",
    "Let's take a look at objects represented by features which are somehow corelated."
   ]
  },
  {
   "cell_type": "code",
   "execution_count": null,
   "metadata": {},
   "outputs": [],
   "source": [
    "X_1 = np.linspace(1, 10, 100)\n",
    "X_2 = 2 * X + np.random.normal(size=X.shape, scale=5)\n",
    "plt.scatter(X_1, X_2) \n",
    "plt.show()\n",
    "points = np.c_[X_1, X_2]"
   ]
  },
  {
   "cell_type": "markdown",
   "metadata": {},
   "source": [
    "There are only two features here and you can see that there seems to be a realtion between them. However, while most of the examples seem to adhere to this trend, there are also some more anomalous ones."
   ]
  },
  {
   "cell_type": "markdown",
   "metadata": {},
   "source": [
    "### Enter multivariate Gaussian distribution!\n",
    "\n",
    "The most basic version of Gaussian distribution was represented by mean and standard deviation.\n",
    "\n",
    "Now, we'll update it a bit so that the mathematical model can learn to recognize relations between datapoints.\n"
   ]
  },
  {
   "cell_type": "markdown",
   "metadata": {},
   "source": [
    "Mean remains the same:\n",
    "\n",
    "$$\n",
    "\\mu = \\frac{1}{m} \\sum_{i=1}^{m} x^{(i)}\n",
    "$$\n",
    "\n",
    "Now we'll use **covariance** matrix in the computations:\n",
    "\n",
    "$$\n",
    "\\Sigma = \\frac{1}{m} \\sum_{i=1}^m (x^{(i)} - \\mu) (x^{(i)} - \\mu)^T\n",
    "$$\n",
    "\n",
    "The new formula for probability is:\n",
    "\n",
    "$$\n",
    "p(x) = \\prod_{j=1}^n \\dfrac{1}{\\sqrt{(2 \\pi)^n |\\Sigma|}} exp(-\\frac{1}{2}(x - \\mu)^T \\Sigma^{-1}(x - \\mu))\n",
    "$$\n"
   ]
  },
  {
   "cell_type": "code",
   "execution_count": null,
   "metadata": {},
   "outputs": [],
   "source": [
    "means = points.mean(axis=0)    \n",
    "cov = (1 / len(means)) * ((points - means).T @ (points - means))\n",
    "# scipy <3\n",
    "prob_mul = multivariate_normal.pdf(points, means, cov)\n",
    "prob_mul.shape"
   ]
  },
  {
   "cell_type": "code",
   "execution_count": null,
   "metadata": {},
   "outputs": [],
   "source": [
    "plt.hist(prob_mul)\n",
    "plt.show()"
   ]
  },
  {
   "cell_type": "code",
   "execution_count": null,
   "metadata": {},
   "outputs": [],
   "source": [
    "threshold = 0.00024\n",
    "valid_indices = np.argwhere(prob_mul > threshold)\n",
    "invalid_indices = np.argwhere(prob_mul <= threshold)\n",
    "\n",
    "plt.scatter(X_1[valid_indices], X_2[valid_indices])\n",
    "plt.scatter(X_1[invalid_indices], X_2[invalid_indices])\n",
    "\n",
    "plt.show()"
   ]
  },
  {
   "cell_type": "markdown",
   "metadata": {},
   "source": [
    "# TODO\n",
    "\n",
    "## Use Case 5: Recommendations\n",
    "\n",
    "## Use Case 6: GANs"
   ]
  },
  {
   "cell_type": "code",
   "execution_count": null,
   "metadata": {},
   "outputs": [],
   "source": []
  }
 ],
 "metadata": {
  "kernelspec": {
   "display_name": "Python 3",
   "language": "python",
   "name": "python3"
  },
  "language_info": {
   "codemirror_mode": {
    "name": "ipython",
    "version": 3
   },
   "file_extension": ".py",
   "mimetype": "text/x-python",
   "name": "python",
   "nbconvert_exporter": "python",
   "pygments_lexer": "ipython3",
   "version": "3.6.2"
  }
 },
 "nbformat": 4,
 "nbformat_minor": 2
}
