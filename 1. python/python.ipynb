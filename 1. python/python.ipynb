{
 "cells": [
  {
   "cell_type": "markdown",
   "metadata": {},
   "source": [
    "# Basic Python "
   ]
  },
  {
   "cell_type": "markdown",
   "metadata": {},
   "source": [
    "## Variables"
   ]
  },
  {
   "cell_type": "code",
   "execution_count": 95,
   "metadata": {},
   "outputs": [],
   "source": [
    "a = 1\n",
    "b = \"some string\"\n",
    "c = 'string as well '\n",
    "b_c = 'some string'"
   ]
  },
  {
   "cell_type": "markdown",
   "metadata": {},
   "source": [
    "Python jest dynamicznie typowanym językiem, czyli:"
   ]
  },
  {
   "cell_type": "code",
   "execution_count": 96,
   "metadata": {},
   "outputs": [
    {
     "name": "stdout",
     "output_type": "stream",
     "text": [
      "1\n",
      "<class 'int'>\n",
      "asd\n",
      "<class 'str'>\n",
      "[1, 2, 3]\n",
      "<class 'list'>\n"
     ]
    }
   ],
   "source": [
    "a = 1\n",
    "print(a)\n",
    "print(type(a)) # type służy do wyznaczania typu podanego argumentu\n",
    "a = \"asd\"\n",
    "print(a)\n",
    "print(type(a))\n",
    "a = [1,2,3]\n",
    "print(a)\n",
    "print(type(a))"
   ]
  },
  {
   "cell_type": "markdown",
   "metadata": {},
   "source": [
    "## if"
   ]
  },
  {
   "cell_type": "markdown",
   "metadata": {},
   "source": [
    "**if** ma składnie podobną do C/C++:\n",
    "\n",
    "<pre>if condition :\n",
    "    kod\n",
    "elif condition : (opcjonalne)\n",
    "    kod\n",
    "else: (opcjonalne)\n",
    "    kod </pre>\n",
    "***lub***\n",
    "<pre>if(condition):\n",
    "    kod\n",
    "elif(condition): (opcjonalne)\n",
    "    kod\n",
    "else: (opcjonalne)\n",
    "    kod </pre>\n"
   ]
  },
  {
   "cell_type": "markdown",
   "metadata": {},
   "source": [
    "### Operatory porównania: "
   ]
  },
  {
   "cell_type": "markdown",
   "metadata": {},
   "source": [
    "== - operator równości <br/>\n",
    "!= - nierówność <br/>\n",
    "<, >, >=, <= - ..."
   ]
  },
  {
   "cell_type": "code",
   "execution_count": 97,
   "metadata": {},
   "outputs": [
    {
     "name": "stdout",
     "output_type": "stream",
     "text": [
      "są równe\n",
      "super\n"
     ]
    }
   ],
   "source": [
    "b = \"string\"\n",
    "b_c = \"string\"\n",
    "\n",
    "if(b == b_c):\n",
    "    print(\"są równe\")\n",
    "else:\n",
    "    print(\"nie są równe\")\n",
    "\n",
    "\n",
    "if b != \"bit infra\":\n",
    "    print(\"super\")"
   ]
  },
  {
   "cell_type": "markdown",
   "metadata": {},
   "source": [
    "### operatory logiczne:"
   ]
  },
  {
   "cell_type": "markdown",
   "metadata": {},
   "source": [
    "***and*** - operator koniunkcji (&& w C++) <br/>\n",
    "***or*** - operator alternatywy (|| w C++) <br/>\n",
    "***not** - operator negacji (! w C++)"
   ]
  },
  {
   "cell_type": "code",
   "execution_count": 98,
   "metadata": {},
   "outputs": [
    {
     "name": "stdout",
     "output_type": "stream",
     "text": [
      "OK\n"
     ]
    }
   ],
   "source": [
    "a = 1\n",
    "b = '1'\n",
    "\n",
    "if a == 1 and b == '1':\n",
    "    print(\"OK\")\n",
    "else:\n",
    "    print(\"Nie OK\")"
   ]
  },
  {
   "cell_type": "markdown",
   "metadata": {},
   "source": [
    "## Pętle"
   ]
  },
  {
   "cell_type": "markdown",
   "metadata": {},
   "source": [
    "### while"
   ]
  },
  {
   "cell_type": "markdown",
   "metadata": {},
   "source": [
    "<pre>while(condition):\n",
    "    kod</pre>"
   ]
  },
  {
   "cell_type": "code",
   "execution_count": 99,
   "metadata": {},
   "outputs": [
    {
     "name": "stdout",
     "output_type": "stream",
     "text": [
      "1\n",
      "2\n",
      "3\n",
      "4\n"
     ]
    }
   ],
   "source": [
    "i = 1\n",
    "while(i<5):\n",
    "    print(i)\n",
    "    i+=1"
   ]
  },
  {
   "cell_type": "markdown",
   "metadata": {},
   "source": [
    "### for"
   ]
  },
  {
   "cell_type": "markdown",
   "metadata": {},
   "source": [
    "for pętla która jest pętlą która iteruje po czymś, np. :"
   ]
  },
  {
   "cell_type": "code",
   "execution_count": 100,
   "metadata": {},
   "outputs": [
    {
     "name": "stdout",
     "output_type": "stream",
     "text": [
      "1\n",
      "2\n",
      "3\n",
      "4\n"
     ]
    }
   ],
   "source": [
    "for i in range(1,5):\n",
    "    print(i)"
   ]
  },
  {
   "cell_type": "markdown",
   "metadata": {},
   "source": [
    "w ogólnym przypadku: <br/>\n",
    "<pre> for zmienna in iterable_object:\n",
    "    kod</pre><br/>\n",
    "\n",
    "Także możemy iterować dowolną ilością zmiennych po kolekcjach o których niżej\n"
   ]
  },
  {
   "cell_type": "code",
   "execution_count": 101,
   "metadata": {},
   "outputs": [
    {
     "name": "stdout",
     "output_type": "stream",
     "text": [
      "1 2\n",
      "3 4\n"
     ]
    }
   ],
   "source": [
    "a = [(1,2), (3,4)]\n",
    "\n",
    "for x,y in a:\n",
    "    print(x, y)"
   ]
  },
  {
   "cell_type": "markdown",
   "metadata": {},
   "source": [
    "## Kolekcję"
   ]
  },
  {
   "cell_type": "markdown",
   "metadata": {},
   "source": [
    "list - zwykła tablica <br/>\n",
    "tuple - ciąg <br/>\n",
    "dict - słownik (HashMap(java), unordered_map(C++)) <br/>\n",
    "set - zbiór (HashSet(java), unordered_set(C++)) <br/>"
   ]
  },
  {
   "cell_type": "code",
   "execution_count": 102,
   "metadata": {},
   "outputs": [
    {
     "name": "stdout",
     "output_type": "stream",
     "text": [
      "[4, 3, 5, 6, 1, 2]\n",
      "[24, 3, 5, 6, 1, 2]\n",
      "6\n",
      "2\n",
      "[24, 3, 5, 6, 1]\n",
      "24\n",
      "True\n"
     ]
    }
   ],
   "source": [
    "a = [4,5,6] # list()\n",
    "a.append(1)\n",
    "a.append(2)\n",
    "a.insert(1,3)\n",
    "print(a)\n",
    "\n",
    "a[0] = 24\n",
    "print(a)\n",
    "\n",
    "print(len(a))\n",
    "print(a.pop())\n",
    "print(a)\n",
    "print(a[0])\n",
    "\n",
    "print(5 in a)"
   ]
  },
  {
   "cell_type": "code",
   "execution_count": 103,
   "metadata": {},
   "outputs": [
    {
     "name": "stdout",
     "output_type": "stream",
     "text": [
      "<class 'tuple'>\n",
      "1\n",
      "False\n",
      "[1, 3]\n"
     ]
    }
   ],
   "source": [
    "a = (1,2)\n",
    "print(type(a))\n",
    "#a[1] = 3 # typles are immutable throws TypeError\n",
    "print(a[0])\n",
    "print(5 in a)\n",
    "\n",
    "a = list(a) #converte to list\n",
    "a[1] = 3\n",
    "print(a)"
   ]
  },
  {
   "cell_type": "code",
   "execution_count": 104,
   "metadata": {},
   "outputs": [
    {
     "name": "stdout",
     "output_type": "stream",
     "text": [
      "{'b', 'a'}\n",
      "{'b'}\n",
      "there is no a\n",
      "1\n"
     ]
    }
   ],
   "source": [
    "a = set()\n",
    "a.add('a')\n",
    "a.add('b')\n",
    "print(a)\n",
    "a.add('a')\n",
    "a.remove('a')\n",
    "print(a)\n",
    "# a.remove('a') # throws an KeyError\n",
    "if('a' in a):\n",
    "    a.remove('a')\n",
    "else:\n",
    "    print(\"there is no a\")\n",
    "print(len(a))"
   ]
  },
  {
   "cell_type": "code",
   "execution_count": 105,
   "metadata": {},
   "outputs": [
    {
     "name": "stdout",
     "output_type": "stream",
     "text": [
      "dict_keys([(1, 2), (4, 5)])\n",
      "dict_items([((1, 2), 'para 1'), ((4, 5), 'para 2')])\n",
      "True\n",
      "False\n",
      "para 1\n",
      "dict_keys([(4, 5)])\n"
     ]
    }
   ],
   "source": [
    "a = dict()\n",
    "a[(1,2)] = \"para 1\"\n",
    "a[(4,5)] = \"para 2\"\n",
    "\n",
    "keys = a.keys()\n",
    "\n",
    "print(keys)\n",
    "print(a.items())\n",
    "print((1,2) in a)\n",
    "print((1,3) in a)\n",
    "print(a[(1,2)])\n",
    "del a[(1,2)]\n",
    "#print(a[(1,2)]) # throws an KeyError\n",
    "print(keys)"
   ]
  },
  {
   "cell_type": "markdown",
   "metadata": {},
   "source": [
    "### tworzenie tablic wielowymiarowych"
   ]
  },
  {
   "cell_type": "markdown",
   "metadata": {},
   "source": [
    "Do tego urzywamy ***generatorów***, mają oni postać:<br/>\n",
    "$[ zmienna_zapisywana for iterator/lub '_' in iterable_object ] <br/> np.:"
   ]
  },
  {
   "cell_type": "code",
   "execution_count": 106,
   "metadata": {},
   "outputs": [
    {
     "name": "stdout",
     "output_type": "stream",
     "text": [
      "[[], [0], [0, 1], [0, 1, 2], [0, 1, 2, 3]]\n"
     ]
    }
   ],
   "source": [
    "a = [[j for j in range(i)] for i in range(5)]\n",
    "print(a)"
   ]
  },
  {
   "cell_type": "markdown",
   "metadata": {},
   "source": [
    "## Funkcję"
   ]
  },
  {
   "cell_type": "markdown",
   "metadata": {},
   "source": [
    "<pre>def function_name(parameters divided by comma):\n",
    "    kod</pre>"
   ]
  },
  {
   "cell_type": "code",
   "execution_count": 107,
   "metadata": {},
   "outputs": [],
   "source": [
    "def func(a,b,c):\n",
    "    print(a)\n",
    "    return b+c"
   ]
  },
  {
   "cell_type": "code",
   "execution_count": 108,
   "metadata": {},
   "outputs": [
    {
     "name": "stdout",
     "output_type": "stream",
     "text": [
      "1\n"
     ]
    },
    {
     "data": {
      "text/plain": [
       "5"
      ]
     },
     "execution_count": 108,
     "metadata": {},
     "output_type": "execute_result"
    }
   ],
   "source": [
    "r = func(1,2,3)\n",
    "r"
   ]
  },
  {
   "cell_type": "code",
   "execution_count": 109,
   "metadata": {},
   "outputs": [],
   "source": [
    "def func2(a):\n",
    "    print(a*2 + 1)"
   ]
  },
  {
   "cell_type": "code",
   "execution_count": 110,
   "metadata": {},
   "outputs": [
    {
     "name": "stdout",
     "output_type": "stream",
     "text": [
      "5\n",
      "None\n"
     ]
    }
   ],
   "source": [
    "r = func2(2)\n",
    "print(r)"
   ]
  },
  {
   "cell_type": "markdown",
   "metadata": {},
   "source": [
    "## Importowanie bibliotek"
   ]
  },
  {
   "cell_type": "markdown",
   "metadata": {},
   "source": [
    "#### import library_name"
   ]
  },
  {
   "cell_type": "code",
   "execution_count": 111,
   "metadata": {},
   "outputs": [
    {
     "data": {
      "text/plain": [
       "array([1, 2])"
      ]
     },
     "execution_count": 111,
     "metadata": {},
     "output_type": "execute_result"
    }
   ],
   "source": [
    "import numpy\n",
    "a = numpy.array([1,2])\n",
    "a"
   ]
  },
  {
   "cell_type": "markdown",
   "metadata": {},
   "source": [
    "#### import library_name as alias"
   ]
  },
  {
   "cell_type": "code",
   "execution_count": 112,
   "metadata": {},
   "outputs": [
    {
     "data": {
      "text/plain": [
       "array([1, 2])"
      ]
     },
     "execution_count": 112,
     "metadata": {},
     "output_type": "execute_result"
    }
   ],
   "source": [
    "import numpy as np\n",
    "a = np.array([1,2])\n",
    "a"
   ]
  },
  {
   "cell_type": "markdown",
   "metadata": {},
   "source": [
    "#### from library_name import function1, function2"
   ]
  },
  {
   "cell_type": "code",
   "execution_count": 113,
   "metadata": {},
   "outputs": [
    {
     "name": "stdout",
     "output_type": "stream",
     "text": [
      "[1.         1.08163265 1.16326531 1.24489796 1.32653061 1.40816327\n",
      " 1.48979592 1.57142857 1.65306122 1.73469388 1.81632653 1.89795918\n",
      " 1.97959184 2.06122449 2.14285714 2.2244898  2.30612245 2.3877551\n",
      " 2.46938776 2.55102041 2.63265306 2.71428571 2.79591837 2.87755102\n",
      " 2.95918367 3.04081633 3.12244898 3.20408163 3.28571429 3.36734694\n",
      " 3.44897959 3.53061224 3.6122449  3.69387755 3.7755102  3.85714286\n",
      " 3.93877551 4.02040816 4.10204082 4.18367347 4.26530612 4.34693878\n",
      " 4.42857143 4.51020408 4.59183673 4.67346939 4.75510204 4.83673469\n",
      " 4.91836735 5.        ]\n"
     ]
    },
    {
     "data": {
      "text/plain": [
       "array([1, 2])"
      ]
     },
     "execution_count": 113,
     "metadata": {},
     "output_type": "execute_result"
    }
   ],
   "source": [
    "from numpy import array, linspace\n",
    "a = array([1,2])\n",
    "print(linspace(1,5))\n",
    "a"
   ]
  },
  {
   "cell_type": "markdown",
   "metadata": {},
   "source": [
    "#### from library_name import function1 as alias, function2 as alias"
   ]
  },
  {
   "cell_type": "code",
   "execution_count": 114,
   "metadata": {},
   "outputs": [
    {
     "name": "stdout",
     "output_type": "stream",
     "text": [
      "[1.         1.08163265 1.16326531 1.24489796 1.32653061 1.40816327\n",
      " 1.48979592 1.57142857 1.65306122 1.73469388 1.81632653 1.89795918\n",
      " 1.97959184 2.06122449 2.14285714 2.2244898  2.30612245 2.3877551\n",
      " 2.46938776 2.55102041 2.63265306 2.71428571 2.79591837 2.87755102\n",
      " 2.95918367 3.04081633 3.12244898 3.20408163 3.28571429 3.36734694\n",
      " 3.44897959 3.53061224 3.6122449  3.69387755 3.7755102  3.85714286\n",
      " 3.93877551 4.02040816 4.10204082 4.18367347 4.26530612 4.34693878\n",
      " 4.42857143 4.51020408 4.59183673 4.67346939 4.75510204 4.83673469\n",
      " 4.91836735 5.        ]\n"
     ]
    },
    {
     "data": {
      "text/plain": [
       "array([1, 2])"
      ]
     },
     "execution_count": 114,
     "metadata": {},
     "output_type": "execute_result"
    }
   ],
   "source": [
    "from numpy import array as ar, linspace as ls\n",
    "a = ar([1,2])\n",
    "print(ls(1,5))\n",
    "a"
   ]
  },
  {
   "cell_type": "markdown",
   "metadata": {},
   "source": [
    "*** warning ***: can cause a mental diseases\n",
    "\n",
    "#### from library_name import *\n",
    "\n",
    "no examples for this s**t"
   ]
  },
  {
   "cell_type": "markdown",
   "metadata": {},
   "source": [
    "## Classes"
   ]
  },
  {
   "cell_type": "code",
   "execution_count": 115,
   "metadata": {},
   "outputs": [],
   "source": [
    "class ClassName(object):\n",
    "    \n",
    "    def __init__(self, a, b):\n",
    "        self.a = a\n",
    "        self.b = b\n",
    "    \n",
    "    def class_method(self):\n",
    "        return self.a+self.b\n",
    "    \n",
    "    def method2(self, a, b):\n",
    "        self.a += a\n",
    "        self.b += b\n",
    "        return self.a + self.b"
   ]
  },
  {
   "cell_type": "code",
   "execution_count": 116,
   "metadata": {},
   "outputs": [
    {
     "data": {
      "text/plain": [
       "5"
      ]
     },
     "execution_count": 116,
     "metadata": {},
     "output_type": "execute_result"
    }
   ],
   "source": [
    "class_object1 = ClassName(2,3)\n",
    "class_object2 = class_object1\n",
    "class_object3 = ClassName(2,3)\n",
    "\n",
    "class_object1.class_method()"
   ]
  },
  {
   "cell_type": "code",
   "execution_count": 117,
   "metadata": {},
   "outputs": [
    {
     "data": {
      "text/plain": [
       "7"
      ]
     },
     "execution_count": 117,
     "metadata": {},
     "output_type": "execute_result"
    }
   ],
   "source": [
    "class_object1.method2(1, 1)"
   ]
  },
  {
   "cell_type": "code",
   "execution_count": 118,
   "metadata": {},
   "outputs": [
    {
     "name": "stdout",
     "output_type": "stream",
     "text": [
      "3 4\n"
     ]
    }
   ],
   "source": [
    "print(class_object1.a, class_object1.b)"
   ]
  },
  {
   "cell_type": "code",
   "execution_count": 119,
   "metadata": {},
   "outputs": [
    {
     "name": "stdout",
     "output_type": "stream",
     "text": [
      "3 4\n"
     ]
    }
   ],
   "source": [
    "print(class_object2.a, class_object2.b)"
   ]
  },
  {
   "cell_type": "code",
   "execution_count": 120,
   "metadata": {},
   "outputs": [
    {
     "name": "stdout",
     "output_type": "stream",
     "text": [
      "2 3\n"
     ]
    }
   ],
   "source": [
    "print(class_object3.a, class_object3.b)"
   ]
  },
  {
   "cell_type": "code",
   "execution_count": null,
   "metadata": {},
   "outputs": [],
   "source": []
  },
  {
   "cell_type": "code",
   "execution_count": null,
   "metadata": {},
   "outputs": [],
   "source": []
  }
 ],
 "metadata": {
  "kernelspec": {
   "display_name": "Python 3",
   "language": "python",
   "name": "python3"
  },
  "language_info": {
   "codemirror_mode": {
    "name": "ipython",
    "version": 3
   },
   "file_extension": ".py",
   "mimetype": "text/x-python",
   "name": "python",
   "nbconvert_exporter": "python",
   "pygments_lexer": "ipython3",
   "version": "3.7.0"
  }
 },
 "nbformat": 4,
 "nbformat_minor": 2
}
