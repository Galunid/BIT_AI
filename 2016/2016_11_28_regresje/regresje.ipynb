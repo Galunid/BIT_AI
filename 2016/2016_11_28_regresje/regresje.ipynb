{
 "cells": [
  {
   "cell_type": "markdown",
   "metadata": {},
   "source": [
    "# Regresje\n",
    "\n",
    "W pierwszej części zajmiemy się regresją liniową, w drugiej logistyczną. Kolejność zadań jest dowolna.\n",
    "\n",
    "\n",
    "### Regresja liniowa\n",
    "Wczytajmy dane i popatrzmy jak wyglądają:"
   ]
  },
  {
   "cell_type": "code",
   "execution_count": 76,
   "metadata": {
    "collapsed": false
   },
   "outputs": [
    {
     "data": {
      "image/png": "[encoded data removed]",
      "text/plain": [
       "<matplotlib.figure.Figure at 0x7eff9b7f7d50>"
      ]
     },
     "metadata": {},
     "output_type": "display_data"
    }
   ],
   "source": [
    "# magic line to make plots inside the notebook\n",
    "%matplotlib inline\n",
    "\n",
    "import numpy as np\n",
    "import matplotlib.pyplot as plt\n",
    "\n",
    "data = np.genfromtxt(\"regr.csv\", delimiter=',')\n",
    "X = data[:, 0]\n",
    "Y = data[:, 1]\n",
    "\n",
    "plt.plot(X, Y, '.')\n",
    "plt.show()"
   ]
  },
  {
   "cell_type": "markdown",
   "metadata": {},
   "source": [
    "Zaimplementuj regresję liniową szukającą prostej dobrze opisującej powyższe dane (pod względem Metody Najmniejszych Kwadratów)"
   ]
  },
  {
   "cell_type": "code",
   "execution_count": null,
   "metadata": {
    "collapsed": false
   },
   "outputs": [],
   "source": [
    "# In all functions:\n",
    "# theta - array of coeficients, ef. theta = [b, a], meaning a line: a*x + b\n",
    "# x - array of values of x's\n",
    "# y - array of valid values for given x's\n",
    "# alpha - gradient step size \n",
    "\n",
    "\n",
    "# calculates value for x estimated by given theta\n",
    "def value(theta, x):\n",
    "    pass\n",
    "\n",
    "def cost(theta, x, y):\n",
    "    pass\n",
    "\n",
    "# calculates gradient step - new value of the theta vector\n",
    "def gradient_step(theta, x, y, alpha):\n",
    "    pass\n",
    "    \n",
    "\n",
    "# main gradient descent method\n",
    "def gradient_descent(theta, x, y, alpha, steps):\n",
    "    for i in range(steps):\n",
    "        if i%1000 == 0:\n",
    "            print \"Current cost: \", cost(theta, x, y)\n",
    "        theta = gradient_step(theta, x, y, alpha)\n",
    "        \n",
    "    return theta\n",
    "\n",
    "\n",
    "\n",
    "\n",
    "\n",
    "# Example usage\n",
    "\n",
    "initial_theta = np.zeros(2)\n",
    "theta = gradient_descent(initial_theta, X, Y, 0.01, 10000)\n",
    "plt.plot(X, Y, 'b.')\n",
    "\n",
    "est_x = np.linspace(min(X), max(X))\n",
    "est_y = [theta[1]*x + theta[0] for x in est_x]\n",
    "plt.plot(est_x, est_y, 'r')\n",
    "plt.show()"
   ]
  },
  {
   "cell_type": "markdown",
   "metadata": {},
   "source": [
    "### Regresja logistyczna\n",
    "\n",
    "Dane wejściowe zawierają dwie klasy. Napisz algorytm, który uczy się je rozróżniać.\n",
    "\n",
    "Wczytywanie danych:\n"
   ]
  },
  {
   "cell_type": "code",
   "execution_count": 93,
   "metadata": {
    "collapsed": false
   },
   "outputs": [
    {
     "data": {
      "image/png": "[encoded data removed]",
      "text/plain": [
       "<matplotlib.figure.Figure at 0x7eff6133f8d0>"
      ]
     },
     "metadata": {},
     "output_type": "display_data"
    }
   ],
   "source": [
    "data = np.genfromtxt(\"classification.csv\", delimiter=',')\n",
    "\n",
    "values = data[:, [0, 1]]\n",
    "labels = data[:, 2]\n",
    "\n",
    "values0 = values[labels==0.]\n",
    "values1 = values[labels==1.]\n",
    "\n",
    "plt.plot(values0[:,0], values0[:,1], 'b.')\n",
    "plt.plot(values1[:,0], values1[:,1], 'g.')\n",
    "plt.show()"
   ]
  },
  {
   "cell_type": "code",
   "execution_count": null,
   "metadata": {
    "collapsed": false
   },
   "outputs": [],
   "source": [
    "# In all functions:\n",
    "# theta - array of coeficients, ef. theta = [b, a], meaning a line: a*x + b\n",
    "# x - array of values of x's\n",
    "# y - array of valid values for given x's\n",
    "# alpha - gradient step size \n",
    "\n",
    "\n",
    "# calculates value for x estimated by given theta\n",
    "def logistic_value(theta, x):\n",
    "    pass\n",
    "\n",
    "def logistic_cost(theta, x, y):\n",
    "    pass\n",
    "\n",
    "# calculates gradient step - new value of the theta vector\n",
    "def logistic_gradient_step(theta, x, y, alpha):\n",
    "    pass\n",
    "    \n",
    "def logistic_gradient_descent(theta, x, y, alpha, steps):\n",
    "    for i in range(steps):\n",
    "        if i%1000 == 0:\n",
    "            print \"Current cost: \", logistic_cost(theta, x, y)\n",
    "        theta = logistic_gradient_step(theta, x, y, alpha)\n",
    "        \n",
    "    return theta\n",
    "\n",
    "\n",
    "\n",
    "# Example usage\n",
    "\n",
    "initial_theta = np.zeros(3)\n",
    "theta = logistic_gradient_descent(initial_theta, values, labels, 0.01, 10000)\n",
    "\n",
    "plt.plot(values0[:,0], values0[:,1], 'b.')\n",
    "plt.plot(values1[:,0], values1[:,1], 'g.')\n",
    "est_x = np.linspace(, max(values[:, 0]))\n",
    "est_y = [theta[1]*x + theta[0] for x in est_x]\n",
    "plt.plot(est_x, est_y, 'r')\n",
    "plt.show()"
   ]
  },
  {
   "cell_type": "code",
   "execution_count": null,
   "metadata": {
    "collapsed": true
   },
   "outputs": [],
   "source": []
  }
 ],
 "metadata": {
  "kernelspec": {
   "display_name": "Python 2",
   "language": "python",
   "name": "python2"
  },
  "language_info": {
   "codemirror_mode": {
    "name": "ipython",
    "version": 2
   },
   "file_extension": ".py",
   "mimetype": "text/x-python",
   "name": "python",
   "nbconvert_exporter": "python",
   "pygments_lexer": "ipython2",
   "version": "2.7.10"
  }
 },
 "nbformat": 4,
 "nbformat_minor": 0
}
