{
 "cells": [
  {
   "cell_type": "markdown",
   "metadata": {},
   "source": [
    "# Homework"
   ]
  },
  {
   "cell_type": "code",
   "execution_count": 1,
   "metadata": {
    "ExecuteTime": {
     "end_time": "2019-12-05T00:29:19.722371Z",
     "start_time": "2019-12-05T00:29:19.409928Z"
    }
   },
   "outputs": [],
   "source": [
    "%matplotlib inline"
   ]
  },
  {
   "cell_type": "markdown",
   "metadata": {},
   "source": [
    "### Download MNIST data set\n",
    "do this only once\n",
    "\n",
    "```bash\n",
    "    sudo apt install curl\n",
    "    pip3 install --user mlxtend sklearn numpy matplotlib\n",
    "    curl -O http://yann.lecun.com/exdb/mnist/train-images-idx3-ubyte.gz\n",
    "    curl -O http://yann.lecun.com/exdb/mnist/train-labels-idx1-ubyte.gz\n",
    "    gunzip t*-ubyte.gz\n",
    "```"
   ]
  },
  {
   "cell_type": "code",
   "execution_count": 53,
   "metadata": {
    "ExecuteTime": {
     "end_time": "2019-12-05T01:03:30.051125Z",
     "start_time": "2019-12-05T01:03:30.046852Z"
    },
    "scrolled": true
   },
   "outputs": [],
   "source": [
    "# !pip3 install --user mlxtend sklearn numpy matplotlib\n",
    "# !curl -O http://yann.lecun.com/exdb/mnist/train-images-idx3-ubyte.gz\n",
    "# !curl -O http://yann.lecun.com/exdb/mnist/train-labels-idx1-ubyte.gz\n",
    "# !gunzip t*-ubyte.gz"
   ]
  },
  {
   "cell_type": "code",
   "execution_count": 4,
   "metadata": {
    "ExecuteTime": {
     "end_time": "2019-12-05T00:29:20.066945Z",
     "start_time": "2019-12-05T00:29:19.734625Z"
    }
   },
   "outputs": [],
   "source": [
    "import numpy as np\n",
    "import matplotlib\n",
    "import matplotlib.pyplot as plt\n",
    "from sklearn.model_selection import train_test_split\n",
    "from sklearn.metrics import accuracy_score, precision_score, recall_score, f1_score\n",
    "from mlxtend.data import loadlocal_mnist\n",
    "\n",
    "import solution\n",
    "\n",
    "np.random.seed(42)"
   ]
  },
  {
   "cell_type": "markdown",
   "metadata": {},
   "source": [
    "### Load dataset"
   ]
  },
  {
   "cell_type": "code",
   "execution_count": 5,
   "metadata": {
    "ExecuteTime": {
     "end_time": "2019-12-05T00:29:20.084005Z",
     "start_time": "2019-12-05T00:29:20.068372Z"
    }
   },
   "outputs": [],
   "source": [
    "X, y = loadlocal_mnist(\n",
    "        images_path='./train-images-idx3-ubyte', \n",
    "        labels_path='./train-labels-idx1-ubyte')"
   ]
  },
  {
   "cell_type": "code",
   "execution_count": 6,
   "metadata": {
    "ExecuteTime": {
     "end_time": "2019-12-05T00:29:20.090560Z",
     "start_time": "2019-12-05T00:29:20.085823Z"
    }
   },
   "outputs": [
    {
     "data": {
      "text/plain": [
       "((60000, 784), (60000,))"
      ]
     },
     "execution_count": 6,
     "metadata": {},
     "output_type": "execute_result"
    }
   ],
   "source": [
    "X.shape, y.shape"
   ]
  },
  {
   "cell_type": "markdown",
   "metadata": {},
   "source": [
    "### We have to decide whether number is 3 or 1"
   ]
  },
  {
   "cell_type": "code",
   "execution_count": 7,
   "metadata": {
    "ExecuteTime": {
     "end_time": "2019-12-05T00:29:20.106446Z",
     "start_time": "2019-12-05T00:29:20.092383Z"
    }
   },
   "outputs": [],
   "source": [
    "X, y = np.concatenate([X[y == 3], X[y==1]]), np.concatenate([np.full(y[y == 3].shape, 0), np.full(y[y == 1].shape, 1)])"
   ]
  },
  {
   "cell_type": "code",
   "execution_count": 8,
   "metadata": {
    "ExecuteTime": {
     "end_time": "2019-12-05T00:29:20.114679Z",
     "start_time": "2019-12-05T00:29:20.108856Z"
    }
   },
   "outputs": [
    {
     "data": {
      "text/plain": [
       "((12873, 784), (12873,))"
      ]
     },
     "execution_count": 8,
     "metadata": {},
     "output_type": "execute_result"
    }
   ],
   "source": [
    "X.shape, y.shape"
   ]
  },
  {
   "cell_type": "markdown",
   "metadata": {},
   "source": [
    "### Sample of MNIST dataset"
   ]
  },
  {
   "cell_type": "code",
   "execution_count": 47,
   "metadata": {
    "ExecuteTime": {
     "end_time": "2019-12-05T00:40:23.410849Z",
     "start_time": "2019-12-05T00:40:23.338625Z"
    }
   },
   "outputs": [
    {
     "name": "stdout",
     "output_type": "stream",
     "text": [
      "Number:  3\n"
     ]
    },
    {
     "data": {
      "image/png": "[encoded data removed]",
      "text/plain": [
       "<Figure size 432x288 with 1 Axes>"
      ]
     },
     "metadata": {
      "needs_background": "light"
     },
     "output_type": "display_data"
    }
   ],
   "source": [
    "some_digit = X[0]\n",
    "some_digit_image = some_digit.reshape(28,28)\n",
    "print(\"Number: \", 3 if y[0] == 0 else 1)\n",
    "\n",
    "plt.imshow(some_digit_image, cmap=matplotlib.cm.binary, interpolation=\"nearest\")\n",
    "plt.axis(\"off\")\n",
    "plt.show()"
   ]
  },
  {
   "cell_type": "markdown",
   "metadata": {},
   "source": [
    "# Your turn!\n",
    "Preprocess data, build model and train it. Feel free to use everything you know :)\n",
    "\n",
    "Use notebook from logistic regression as cheat sheet\n",
    "\n",
    "**Hint:** Order of tasks:\n",
    " - analize dataset **perhaps we need to normalize data**\n",
    " - validate dataset **do we need this?**\n",
    " - define squashing function **I recommend you to use sigmoid**\n",
    " - define loss, gradient descent \n",
    " - train your model :)"
   ]
  },
  {
   "cell_type": "code",
   "execution_count": 48,
   "metadata": {
    "ExecuteTime": {
     "end_time": "2019-12-05T00:47:05.676658Z",
     "start_time": "2019-12-05T00:47:05.674150Z"
    }
   },
   "outputs": [],
   "source": [
    "# Type your code here\n"
   ]
  },
  {
   "cell_type": "markdown",
   "metadata": {},
   "source": [
    "### Check your models accuracy and f1 score\n",
    "y_hat should have shape (2873,) sometimes you have to transpose the results!"
   ]
  },
  {
   "cell_type": "code",
   "execution_count": null,
   "metadata": {
    "ExecuteTime": {
     "end_time": "2019-12-05T00:51:12.499207Z",
     "start_time": "2019-12-05T00:51:12.475712Z"
    },
    "scrolled": true
   },
   "outputs": [],
   "source": [
    "accuracy_score(y_test, y_hat)"
   ]
  },
  {
   "cell_type": "code",
   "execution_count": null,
   "metadata": {
    "ExecuteTime": {
     "end_time": "2019-12-05T00:51:17.089334Z",
     "start_time": "2019-12-05T00:51:17.056006Z"
    }
   },
   "outputs": [],
   "source": [
    "f1_score(y_test, y_hat)"
   ]
  },
  {
   "cell_type": "markdown",
   "metadata": {},
   "source": [
    "### Compare your model with my"
   ]
  },
  {
   "cell_type": "code",
   "execution_count": 10,
   "metadata": {
    "ExecuteTime": {
     "end_time": "2019-12-05T00:29:20.217632Z",
     "start_time": "2019-12-05T00:29:20.190433Z"
    }
   },
   "outputs": [],
   "source": [
    "predict = solution.forward_propagation\n",
    "\n",
    "X_train, y_train, X_test, y_test = solution.preprocess(X, y)\n",
    "\n",
    "model, _ = solution.fit(X_train, y_train, 0.1, epochs=100)\n",
    "\n",
    "y_hat, *_ = solution.forward_propagation(X_test.T, model)\n",
    "\n",
    "y_hat[y_hat >= 0.5] = 1\n",
    "y_hat[y_hat < 0.5] = 0"
   ]
  },
  {
   "cell_type": "code",
   "execution_count": 45,
   "metadata": {
    "ExecuteTime": {
     "end_time": "2019-12-05T00:33:56.183427Z",
     "start_time": "2019-12-05T00:33:56.169119Z"
    }
   },
   "outputs": [
    {
     "data": {
      "text/plain": [
       "0.9860772711451444"
      ]
     },
     "execution_count": 45,
     "metadata": {},
     "output_type": "execute_result"
    }
   ],
   "source": [
    "accuracy_score(y_test, y_hat.T)"
   ]
  },
  {
   "cell_type": "code",
   "execution_count": 46,
   "metadata": {
    "ExecuteTime": {
     "end_time": "2019-12-05T00:34:15.906268Z",
     "start_time": "2019-12-05T00:34:15.884584Z"
    },
    "scrolled": true
   },
   "outputs": [
    {
     "data": {
      "text/plain": [
       "0.9929898352611286"
      ]
     },
     "execution_count": 46,
     "metadata": {},
     "output_type": "execute_result"
    }
   ],
   "source": [
    "f1_score(y_test, y_hat.T)"
   ]
  }
 ],
 "metadata": {
  "kernelspec": {
   "display_name": "Python 3",
   "language": "python",
   "name": "python3"
  },
  "language_info": {
   "codemirror_mode": {
    "name": "ipython",
    "version": 3
   },
   "file_extension": ".py",
   "mimetype": "text/x-python",
   "name": "python",
   "nbconvert_exporter": "python",
   "pygments_lexer": "ipython3",
   "version": "3.7.5"
  }
 },
 "nbformat": 4,
 "nbformat_minor": 2
}
