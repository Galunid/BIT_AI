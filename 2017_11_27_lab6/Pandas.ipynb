{
 "cells": [
  {
   "cell_type": "markdown",
   "metadata": {},
   "source": [
    "# Working with data using Pandas"
   ]
  },
  {
   "cell_type": "markdown",
   "metadata": {},
   "source": [
    "***Feature engineering is the process of transforming raw data into features that better represent the underlying problem to the predictive models, resulting in improved model accuracy on unseen data.***"
   ]
  },
  {
   "cell_type": "markdown",
   "metadata": {},
   "source": [
    "## Table of Contents\n",
    "---\n",
    "* [1. Importing libraries](#importing_libraries)\n",
    "* [2. Importing dataset](#importing_dataset)\n",
    "<br>\n",
    "   * [2.1. Dataset import](#dataset_import)\n",
    "   * [2.2. Let's take a look](#lets_take_a_look)\n",
    "   * [2.3. Splitting Dataset](#splitting_dataset)<br>\n",
    "<br>\n",
    "* [3. Data preprocessing and feature engineering](#data_preprocessing_and_feature_engineering)\n",
    "<br>\n",
    "   * [3.1. Pclass](#pclass)\n",
    "   * [3.2. Sex](#sex)\n",
    "   * [3.3. Embarked](#embarked)\n",
    "   * [3.4. Fare](#fare)\n",
    "   * [3.5. Cabin](#cabin)\n",
    "   * [3.6. Age](#age)\n",
    "   * [3.7. Family Size](#family_size)\n",
    "   * [3.8. Title](#title)\n",
    "   * [3.9. Data Cleaning](#data_cleaning)\n",
    "   * [3.10. Correlation Heatmap](#correlation_heatmap) <br>\n",
    "<br>      \n",
    "* [4. Classification](#classification)\n",
    "<br>\n",
    "   * [4.1. Dataset preperation](#dataset_preperation)\n",
    "   * [4.2. Decision Tree Classifier](#decision_tree_classifier)\n",
    "   * [4.3. Classifiers feature importances](#classifiers_feature_importances) <br>\n",
    "<br>      \n",
    "* [5. Resources](#resources)"
   ]
  },
  {
   "cell_type": "markdown",
   "metadata": {},
   "source": [
    "## 1. Importing libraries\n",
    "<a id=\"importing_libraries\"></a>"
   ]
  },
  {
   "cell_type": "code",
   "execution_count": 1,
   "metadata": {},
   "outputs": [
    {
     "data": {
      "text/html": [
       "<script>requirejs.config({paths: { 'plotly': ['https://cdn.plot.ly/plotly-latest.min']},});if(!window.Plotly) {{require(['plotly'],function(plotly) {window.Plotly=plotly;});}}</script>"
      ],
      "text/vnd.plotly.v1+html": [
       "<script>requirejs.config({paths: { 'plotly': ['https://cdn.plot.ly/plotly-latest.min']},});if(!window.Plotly) {{require(['plotly'],function(plotly) {window.Plotly=plotly;});}}</script>"
      ]
     },
     "metadata": {},
     "output_type": "display_data"
    }
   ],
   "source": [
    "import numpy as np\n",
    "# pip install pandas\n",
    "import pandas as pd\n",
    "# pip install missingno\n",
    "import missingno as msno\n",
    "\n",
    "import re\n",
    "\n",
    "from sklearn.model_selection import train_test_split\n",
    "\n",
    "# visualization\n",
    "import seaborn as sns\n",
    "import matplotlib.pyplot as plt\n",
    "%matplotlib inline\n",
    "\n",
    "# pip install plotly \n",
    "import plotly.offline as py\n",
    "py.init_notebook_mode(connected=True)\n",
    "import plotly.graph_objs as go\n",
    "import plotly.tools as tls\n",
    "\n",
    "import warnings\n",
    "warnings.filterwarnings('ignore')"
   ]
  },
  {
   "cell_type": "markdown",
   "metadata": {},
   "source": [
    "## 2. Importing dataset\n",
    "<a id=\"importing_dataset\"></a>"
   ]
  },
  {
   "cell_type": "markdown",
   "metadata": {},
   "source": [
    "### 2.1. Dataset import\n",
    "<a id=\"dataset_import\"></a>"
   ]
  },
  {
   "cell_type": "code",
   "execution_count": 2,
   "metadata": {
    "collapsed": true
   },
   "outputs": [],
   "source": [
    "# Importing the dataset\n",
    "dataset = pd.read_csv('Titanic_train.csv', header = 0, dtype={'Age': np.float64})"
   ]
  },
  {
   "cell_type": "markdown",
   "metadata": {},
   "source": [
    "### 2.2. Let's take a look\n",
    "<a id=\"lets_take_a_look\"></a>"
   ]
  },
  {
   "cell_type": "code",
   "execution_count": 3,
   "metadata": {},
   "outputs": [
    {
     "data": {
      "text/plain": [
       "(891, 12)"
      ]
     },
     "execution_count": 3,
     "metadata": {},
     "output_type": "execute_result"
    }
   ],
   "source": [
    "dataset.shape"
   ]
  },
  {
   "cell_type": "code",
   "execution_count": 4,
   "metadata": {},
   "outputs": [
    {
     "data": {
      "text/html": [
       "<div>\n",
       "<style>\n",
       "    .dataframe thead tr:only-child th {\n",
       "        text-align: right;\n",
       "    }\n",
       "\n",
       "    .dataframe thead th {\n",
       "        text-align: left;\n",
       "    }\n",
       "\n",
       "    .dataframe tbody tr th {\n",
       "        vertical-align: top;\n",
       "    }\n",
       "</style>\n",
       "<table border=\"1\" class=\"dataframe\">\n",
       "  <thead>\n",
       "    <tr style=\"text-align: right;\">\n",
       "      <th></th>\n",
       "      <th>PassengerId</th>\n",
       "      <th>Survived</th>\n",
       "      <th>Pclass</th>\n",
       "      <th>Name</th>\n",
       "      <th>Sex</th>\n",
       "      <th>Age</th>\n",
       "      <th>SibSp</th>\n",
       "      <th>Parch</th>\n",
       "      <th>Ticket</th>\n",
       "      <th>Fare</th>\n",
       "      <th>Cabin</th>\n",
       "      <th>Embarked</th>\n",
       "    </tr>\n",
       "  </thead>\n",
       "  <tbody>\n",
       "    <tr>\n",
       "      <th>0</th>\n",
       "      <td>1</td>\n",
       "      <td>0</td>\n",
       "      <td>3</td>\n",
       "      <td>Braund, Mr. Owen Harris</td>\n",
       "      <td>male</td>\n",
       "      <td>22.0</td>\n",
       "      <td>1</td>\n",
       "      <td>0</td>\n",
       "      <td>A/5 21171</td>\n",
       "      <td>7.2500</td>\n",
       "      <td>NaN</td>\n",
       "      <td>S</td>\n",
       "    </tr>\n",
       "    <tr>\n",
       "      <th>1</th>\n",
       "      <td>2</td>\n",
       "      <td>1</td>\n",
       "      <td>1</td>\n",
       "      <td>Cumings, Mrs. John Bradley (Florence Briggs Th...</td>\n",
       "      <td>female</td>\n",
       "      <td>38.0</td>\n",
       "      <td>1</td>\n",
       "      <td>0</td>\n",
       "      <td>PC 17599</td>\n",
       "      <td>71.2833</td>\n",
       "      <td>C85</td>\n",
       "      <td>C</td>\n",
       "    </tr>\n",
       "    <tr>\n",
       "      <th>2</th>\n",
       "      <td>3</td>\n",
       "      <td>1</td>\n",
       "      <td>3</td>\n",
       "      <td>Heikkinen, Miss. Laina</td>\n",
       "      <td>female</td>\n",
       "      <td>26.0</td>\n",
       "      <td>0</td>\n",
       "      <td>0</td>\n",
       "      <td>STON/O2. 3101282</td>\n",
       "      <td>7.9250</td>\n",
       "      <td>NaN</td>\n",
       "      <td>S</td>\n",
       "    </tr>\n",
       "    <tr>\n",
       "      <th>3</th>\n",
       "      <td>4</td>\n",
       "      <td>1</td>\n",
       "      <td>1</td>\n",
       "      <td>Futrelle, Mrs. Jacques Heath (Lily May Peel)</td>\n",
       "      <td>female</td>\n",
       "      <td>35.0</td>\n",
       "      <td>1</td>\n",
       "      <td>0</td>\n",
       "      <td>113803</td>\n",
       "      <td>53.1000</td>\n",
       "      <td>C123</td>\n",
       "      <td>S</td>\n",
       "    </tr>\n",
       "    <tr>\n",
       "      <th>4</th>\n",
       "      <td>5</td>\n",
       "      <td>0</td>\n",
       "      <td>3</td>\n",
       "      <td>Allen, Mr. William Henry</td>\n",
       "      <td>male</td>\n",
       "      <td>35.0</td>\n",
       "      <td>0</td>\n",
       "      <td>0</td>\n",
       "      <td>373450</td>\n",
       "      <td>8.0500</td>\n",
       "      <td>NaN</td>\n",
       "      <td>S</td>\n",
       "    </tr>\n",
       "  </tbody>\n",
       "</table>\n",
       "</div>"
      ],
      "text/plain": [
       "   PassengerId  Survived  Pclass  \\\n",
       "0            1         0       3   \n",
       "1            2         1       1   \n",
       "2            3         1       3   \n",
       "3            4         1       1   \n",
       "4            5         0       3   \n",
       "\n",
       "                                                Name     Sex   Age  SibSp  \\\n",
       "0                            Braund, Mr. Owen Harris    male  22.0      1   \n",
       "1  Cumings, Mrs. John Bradley (Florence Briggs Th...  female  38.0      1   \n",
       "2                             Heikkinen, Miss. Laina  female  26.0      0   \n",
       "3       Futrelle, Mrs. Jacques Heath (Lily May Peel)  female  35.0      1   \n",
       "4                           Allen, Mr. William Henry    male  35.0      0   \n",
       "\n",
       "   Parch            Ticket     Fare Cabin Embarked  \n",
       "0      0         A/5 21171   7.2500   NaN        S  \n",
       "1      0          PC 17599  71.2833   C85        C  \n",
       "2      0  STON/O2. 3101282   7.9250   NaN        S  \n",
       "3      0            113803  53.1000  C123        S  \n",
       "4      0            373450   8.0500   NaN        S  "
      ]
     },
     "execution_count": 4,
     "metadata": {},
     "output_type": "execute_result"
    }
   ],
   "source": [
    "dataset.head(5)"
   ]
  },
  {
   "cell_type": "markdown",
   "metadata": {},
   "source": [
    "<b>NOTE:</b> Names of features, along with a brief description:\n",
    "* Survival - [label] Survival of passenger: 0 = No, 1 = Yes\n",
    "* Pclass - Ticket class: 1 = 1st, 2 = 2nd, 3 = 3rd\n",
    "* Sex - Passenger gender\n",
    "* Age - Age of passenger in years\n",
    "* SibSp\t- Number of siblings / spouses aboard the Titanic\n",
    "* Parch\t- Number of parents / children aboard the Titanic\n",
    "* Ticket - Ticket number\n",
    "* Fare - Passenger fare\n",
    "* Cabin - Cabin number\n",
    "* Embarked - Port of Embarkation: C = Cherbourg, Q = Queenstown, S = Southampton"
   ]
  },
  {
   "cell_type": "code",
   "execution_count": 5,
   "metadata": {},
   "outputs": [
    {
     "data": {
      "text/html": [
       "<div>\n",
       "<style>\n",
       "    .dataframe thead tr:only-child th {\n",
       "        text-align: right;\n",
       "    }\n",
       "\n",
       "    .dataframe thead th {\n",
       "        text-align: left;\n",
       "    }\n",
       "\n",
       "    .dataframe tbody tr th {\n",
       "        vertical-align: top;\n",
       "    }\n",
       "</style>\n",
       "<table border=\"1\" class=\"dataframe\">\n",
       "  <thead>\n",
       "    <tr style=\"text-align: right;\">\n",
       "      <th></th>\n",
       "      <th>PassengerId</th>\n",
       "      <th>Survived</th>\n",
       "      <th>Pclass</th>\n",
       "      <th>Age</th>\n",
       "      <th>SibSp</th>\n",
       "      <th>Parch</th>\n",
       "      <th>Fare</th>\n",
       "    </tr>\n",
       "  </thead>\n",
       "  <tbody>\n",
       "    <tr>\n",
       "      <th>count</th>\n",
       "      <td>891.000000</td>\n",
       "      <td>891.000000</td>\n",
       "      <td>891.000000</td>\n",
       "      <td>714.000000</td>\n",
       "      <td>891.000000</td>\n",
       "      <td>891.000000</td>\n",
       "      <td>891.000000</td>\n",
       "    </tr>\n",
       "    <tr>\n",
       "      <th>mean</th>\n",
       "      <td>446.000000</td>\n",
       "      <td>0.383838</td>\n",
       "      <td>2.308642</td>\n",
       "      <td>29.699118</td>\n",
       "      <td>0.523008</td>\n",
       "      <td>0.381594</td>\n",
       "      <td>32.204208</td>\n",
       "    </tr>\n",
       "    <tr>\n",
       "      <th>std</th>\n",
       "      <td>257.353842</td>\n",
       "      <td>0.486592</td>\n",
       "      <td>0.836071</td>\n",
       "      <td>14.526497</td>\n",
       "      <td>1.102743</td>\n",
       "      <td>0.806057</td>\n",
       "      <td>49.693429</td>\n",
       "    </tr>\n",
       "    <tr>\n",
       "      <th>min</th>\n",
       "      <td>1.000000</td>\n",
       "      <td>0.000000</td>\n",
       "      <td>1.000000</td>\n",
       "      <td>0.420000</td>\n",
       "      <td>0.000000</td>\n",
       "      <td>0.000000</td>\n",
       "      <td>0.000000</td>\n",
       "    </tr>\n",
       "    <tr>\n",
       "      <th>25%</th>\n",
       "      <td>223.500000</td>\n",
       "      <td>0.000000</td>\n",
       "      <td>2.000000</td>\n",
       "      <td>20.125000</td>\n",
       "      <td>0.000000</td>\n",
       "      <td>0.000000</td>\n",
       "      <td>7.910400</td>\n",
       "    </tr>\n",
       "    <tr>\n",
       "      <th>50%</th>\n",
       "      <td>446.000000</td>\n",
       "      <td>0.000000</td>\n",
       "      <td>3.000000</td>\n",
       "      <td>28.000000</td>\n",
       "      <td>0.000000</td>\n",
       "      <td>0.000000</td>\n",
       "      <td>14.454200</td>\n",
       "    </tr>\n",
       "    <tr>\n",
       "      <th>75%</th>\n",
       "      <td>668.500000</td>\n",
       "      <td>1.000000</td>\n",
       "      <td>3.000000</td>\n",
       "      <td>38.000000</td>\n",
       "      <td>1.000000</td>\n",
       "      <td>0.000000</td>\n",
       "      <td>31.000000</td>\n",
       "    </tr>\n",
       "    <tr>\n",
       "      <th>max</th>\n",
       "      <td>891.000000</td>\n",
       "      <td>1.000000</td>\n",
       "      <td>3.000000</td>\n",
       "      <td>80.000000</td>\n",
       "      <td>8.000000</td>\n",
       "      <td>6.000000</td>\n",
       "      <td>512.329200</td>\n",
       "    </tr>\n",
       "  </tbody>\n",
       "</table>\n",
       "</div>"
      ],
      "text/plain": [
       "       PassengerId    Survived      Pclass         Age       SibSp  \\\n",
       "count   891.000000  891.000000  891.000000  714.000000  891.000000   \n",
       "mean    446.000000    0.383838    2.308642   29.699118    0.523008   \n",
       "std     257.353842    0.486592    0.836071   14.526497    1.102743   \n",
       "min       1.000000    0.000000    1.000000    0.420000    0.000000   \n",
       "25%     223.500000    0.000000    2.000000   20.125000    0.000000   \n",
       "50%     446.000000    0.000000    3.000000   28.000000    0.000000   \n",
       "75%     668.500000    1.000000    3.000000   38.000000    1.000000   \n",
       "max     891.000000    1.000000    3.000000   80.000000    8.000000   \n",
       "\n",
       "            Parch        Fare  \n",
       "count  891.000000  891.000000  \n",
       "mean     0.381594   32.204208  \n",
       "std      0.806057   49.693429  \n",
       "min      0.000000    0.000000  \n",
       "25%      0.000000    7.910400  \n",
       "50%      0.000000   14.454200  \n",
       "75%      0.000000   31.000000  \n",
       "max      6.000000  512.329200  "
      ]
     },
     "execution_count": 5,
     "metadata": {},
     "output_type": "execute_result"
    }
   ],
   "source": [
    "dataset.describe()"
   ]
  },
  {
   "cell_type": "code",
   "execution_count": 6,
   "metadata": {},
   "outputs": [
    {
     "name": "stdout",
     "output_type": "stream",
     "text": [
      "<class 'pandas.core.frame.DataFrame'>\n",
      "RangeIndex: 891 entries, 0 to 890\n",
      "Data columns (total 12 columns):\n",
      "PassengerId    891 non-null int64\n",
      "Survived       891 non-null int64\n",
      "Pclass         891 non-null int64\n",
      "Name           891 non-null object\n",
      "Sex            891 non-null object\n",
      "Age            714 non-null float64\n",
      "SibSp          891 non-null int64\n",
      "Parch          891 non-null int64\n",
      "Ticket         891 non-null object\n",
      "Fare           891 non-null float64\n",
      "Cabin          204 non-null object\n",
      "Embarked       889 non-null object\n",
      "dtypes: float64(2), int64(5), object(5)\n",
      "memory usage: 83.6+ KB\n"
     ]
    }
   ],
   "source": [
    "dataset.info()"
   ]
  },
  {
   "cell_type": "markdown",
   "metadata": {},
   "source": [
    "<b>NOTE:</b> Let's use \"Missingno\" package, which is a most useful and convenient tool in visualising missing values in the dataset."
   ]
  },
  {
   "cell_type": "code",
   "execution_count": 7,
   "metadata": {},
   "outputs": [
    {
     "data": {
      "image/png": "[encoded data removed]",
      "text/plain": [
       "<matplotlib.figure.Figure at 0x664315e208>"
      ]
     },
     "metadata": {},
     "output_type": "display_data"
    }
   ],
   "source": [
    "msno.matrix(df=dataset, figsize=(15, 5), color=(255/255, 83/255, 51/255))"
   ]
  },
  {
   "cell_type": "markdown",
   "metadata": {},
   "source": [
    "<b>NOTE:</b> Right away we see that data set contains columns that require correcting. Cabin and Age features are incomplete. Moreover five features are strings and aren't really useful in current form. Our job is to preprocess data and extract from those columns essential informations."
   ]
  },
  {
   "cell_type": "markdown",
   "metadata": {},
   "source": [
    "### 2.3. Splitting Dataset\n",
    "<a id=\"splitting_dataset\"></a>"
   ]
  },
  {
   "cell_type": "code",
   "execution_count": 8,
   "metadata": {
    "collapsed": true
   },
   "outputs": [],
   "source": [
    "train_set, test_set = train_test_split(dataset, test_size=0.2, random_state=0)"
   ]
  },
  {
   "cell_type": "markdown",
   "metadata": {},
   "source": [
    "## 3. Data preprocessing and feature engineering\n",
    "<a id=\"data_preprocessing_and_feature_engineering\"></a>"
   ]
  },
  {
   "cell_type": "markdown",
   "metadata": {},
   "source": [
    "<b>NOTE:</b> Let's look at out features one by one:"
   ]
  },
  {
   "cell_type": "markdown",
   "metadata": {},
   "source": [
    "### 3.1. Pclass\n",
    "<a id=\"pclass\"></a>"
   ]
  },
  {
   "cell_type": "markdown",
   "metadata": {},
   "source": [
    "<b>NOTE:</b> There are no missing values on this feature and it is already a numerical value. Let's check it's impact on our train set:"
   ]
  },
  {
   "cell_type": "code",
   "execution_count": 9,
   "metadata": {
    "scrolled": true
   },
   "outputs": [
    {
     "name": "stdout",
     "output_type": "stream",
     "text": [
      "   Pclass  Survived\n",
      "0       1  0.695652\n",
      "1       2  0.473684\n",
      "2       3  0.200000\n"
     ]
    }
   ],
   "source": [
    "print (test_set[['Pclass', 'Survived']].groupby(['Pclass'], as_index=False).mean())"
   ]
  },
  {
   "cell_type": "code",
   "execution_count": 10,
   "metadata": {
    "scrolled": false
   },
   "outputs": [
    {
     "data": {
      "application/vnd.plotly.v1+json": {
       "data": [
        {
         "marker": {
          "color": "rgba(55, 128, 191, 0.7)",
          "line": {
           "color": "rgba(55, 128, 191, 1.0)",
           "width": 2
          }
         },
         "name": "Survived",
         "type": "bar",
         "x": [
          "First",
          "Second",
          "Third"
         ],
         "y": [
          32,
          18,
          19
         ]
        },
        {
         "marker": {
          "color": "rgba(219, 64, 82, 0.7)",
          "line": {
           "color": "rgba(219, 64, 82, 1.0)",
           "width": 2
          }
         },
         "name": "Drowned",
         "type": "bar",
         "x": [
          "First",
          "Second",
          "Third"
         ],
         "y": [
          14,
          20,
          76
         ]
        }
       ],
       "layout": {
        "barmode": "stack",
        "height": 500,
        "paper_bgcolor": "rgb(244, 238, 225)",
        "plot_bgcolor": "rgb(244, 238, 225)",
        "title": "Survival vs Class",
        "width": 900,
        "xaxis": {
         "title": "Class"
        },
        "yaxis": {
         "title": "Number of passengers"
        }
       }
      },
      "text/html": [
       "<div id=\"bf5866c3-8d63-4b50-8f34-89d428410712\" style=\"height: 500px; width: 900px;\" class=\"plotly-graph-div\"></div><script type=\"text/javascript\">require([\"plotly\"], function(Plotly) { window.PLOTLYENV=window.PLOTLYENV || {};window.PLOTLYENV.BASE_URL=\"https://plot.ly\";Plotly.newPlot(\"bf5866c3-8d63-4b50-8f34-89d428410712\", [{\"type\": \"bar\", \"x\": [\"First\", \"Second\", \"Third\"], \"y\": [32, 18, 19], \"name\": \"Survived\", \"marker\": {\"color\": \"rgba(55, 128, 191, 0.7)\", \"line\": {\"color\": \"rgba(55, 128, 191, 1.0)\", \"width\": 2}}}, {\"type\": \"bar\", \"x\": [\"First\", \"Second\", \"Third\"], \"y\": [14, 20, 76], \"name\": \"Drowned\", \"marker\": {\"color\": \"rgba(219, 64, 82, 0.7)\", \"line\": {\"color\": \"rgba(219, 64, 82, 1.0)\", \"width\": 2}}}], {\"barmode\": \"stack\", \"title\": \"Survival vs Class\", \"width\": 900, \"height\": 500, \"paper_bgcolor\": \"rgb(244, 238, 225)\", \"plot_bgcolor\": \"rgb(244, 238, 225)\", \"yaxis\": {\"title\": \"Number of passengers\"}, \"xaxis\": {\"title\": \"Class\"}}, {\"showLink\": true, \"linkText\": \"Export to plot.ly\"})});</script>"
      ],
      "text/vnd.plotly.v1+html": [
       "<div id=\"bf5866c3-8d63-4b50-8f34-89d428410712\" style=\"height: 500px; width: 900px;\" class=\"plotly-graph-div\"></div><script type=\"text/javascript\">require([\"plotly\"], function(Plotly) { window.PLOTLYENV=window.PLOTLYENV || {};window.PLOTLYENV.BASE_URL=\"https://plot.ly\";Plotly.newPlot(\"bf5866c3-8d63-4b50-8f34-89d428410712\", [{\"type\": \"bar\", \"x\": [\"First\", \"Second\", \"Third\"], \"y\": [32, 18, 19], \"name\": \"Survived\", \"marker\": {\"color\": \"rgba(55, 128, 191, 0.7)\", \"line\": {\"color\": \"rgba(55, 128, 191, 1.0)\", \"width\": 2}}}, {\"type\": \"bar\", \"x\": [\"First\", \"Second\", \"Third\"], \"y\": [14, 20, 76], \"name\": \"Drowned\", \"marker\": {\"color\": \"rgba(219, 64, 82, 0.7)\", \"line\": {\"color\": \"rgba(219, 64, 82, 1.0)\", \"width\": 2}}}], {\"barmode\": \"stack\", \"title\": \"Survival vs Class\", \"width\": 900, \"height\": 500, \"paper_bgcolor\": \"rgb(244, 238, 225)\", \"plot_bgcolor\": \"rgb(244, 238, 225)\", \"yaxis\": {\"title\": \"Number of passengers\"}, \"xaxis\": {\"title\": \"Class\"}}, {\"showLink\": true, \"linkText\": \"Export to plot.ly\"})});</script>"
      ]
     },
     "metadata": {},
     "output_type": "display_data"
    }
   ],
   "source": [
    "passengers_by_class = test_set[['Pclass', 'Survived']].groupby(['Pclass']).count()\n",
    "passengers_by_class_sur = test_set[['Pclass', 'Survived']].groupby(['Pclass']).sum()\n",
    "\n",
    "trace1 = go.Bar(\n",
    "    x = ['First', 'Second', 'Third'],\n",
    "    y = passengers_by_class_sur['Survived'].tolist(),\n",
    "    name='Survived',\n",
    "    marker=dict(\n",
    "        color='rgba(55, 128, 191, 0.7)',\n",
    "        line=dict(\n",
    "            color='rgba(55, 128, 191, 1.0)',\n",
    "            width=2,\n",
    "        )\n",
    "    )\n",
    ")\n",
    "trace2 = go.Bar(\n",
    "    x = ['First', 'Second', 'Third'],\n",
    "    y = (passengers_by_class['Survived'] - passengers_by_class_sur['Survived']).tolist(),\n",
    "    name='Drowned',\n",
    "    marker=dict(\n",
    "        color='rgba(219, 64, 82, 0.7)',\n",
    "        line=dict(\n",
    "            color='rgba(219, 64, 82, 1.0)',\n",
    "            width=2,\n",
    "        )\n",
    "    )\n",
    ")\n",
    "\n",
    "data = [trace1, trace2]\n",
    "layout = go.Layout(\n",
    "    barmode='stack',\n",
    "    title = 'Survival vs Class',\n",
    "    width=900,\n",
    "    height=500,\n",
    "    paper_bgcolor='rgb(244, 238, 225)',\n",
    "    plot_bgcolor='rgb(244, 238, 225)',\n",
    "    yaxis = dict(title= 'Number of passengers'),\n",
    "    xaxis = dict(title= 'Class')\n",
    ")\n",
    "\n",
    "fig = go.Figure(data=data, layout=layout)\n",
    "py.iplot(fig)"
   ]
  },
  {
   "cell_type": "markdown",
   "metadata": {},
   "source": [
    "### 3.2. Sex\n",
    "<a id=\"sex\"></a>"
   ]
  },
  {
   "cell_type": "markdown",
   "metadata": {},
   "source": [
    "<b>NOTE:</b> This feature is also complete but this time it is not a numerical value. We will need to conduct feature mapping."
   ]
  },
  {
   "cell_type": "code",
   "execution_count": 11,
   "metadata": {
    "collapsed": true
   },
   "outputs": [],
   "source": [
    "for set_ in (train_set, test_set):\n",
    "    set_['Sex'] = set_['Sex'].map( {'female': 0, 'male': 1} ).astype(int)"
   ]
  },
  {
   "cell_type": "code",
   "execution_count": 12,
   "metadata": {},
   "outputs": [
    {
     "name": "stdout",
     "output_type": "stream",
     "text": [
      "   Sex  Survived\n",
      "0    0  0.744939\n",
      "1    1  0.191398\n"
     ]
    }
   ],
   "source": [
    "print (train_set[[\"Sex\", \"Survived\"]].groupby(['Sex'], as_index=False).mean())"
   ]
  },
  {
   "cell_type": "code",
   "execution_count": 13,
   "metadata": {},
   "outputs": [
    {
     "data": {
      "application/vnd.plotly.v1+json": {
       "data": [
        {
         "marker": {
          "color": "rgba(55, 128, 191, 0.7)",
          "line": {
           "color": "rgba(55, 128, 191, 1.0)",
           "width": 2
          }
         },
         "name": "Survived",
         "type": "bar",
         "x": [
          "Femail",
          "Mail"
         ],
         "y": [
          184,
          89
         ]
        },
        {
         "marker": {
          "color": "rgba(219, 64, 82, 0.7)",
          "line": {
           "color": "rgba(219, 64, 82, 1.0)",
           "width": 2
          }
         },
         "name": "Drowned",
         "type": "bar",
         "x": [
          "Femail",
          "Mail"
         ],
         "y": [
          63,
          376
         ]
        }
       ],
       "layout": {
        "barmode": "stack",
        "height": 500,
        "paper_bgcolor": "rgb(244, 238, 225)",
        "plot_bgcolor": "rgb(244, 238, 225)",
        "title": "Survival vs Sex",
        "width": 900,
        "xaxis": {
         "title": "Sex"
        },
        "yaxis": {
         "title": "Number of passengers"
        }
       }
      },
      "text/html": [
       "<div id=\"146e9460-cd29-4fd8-b3e6-6cb00662f3fe\" style=\"height: 500px; width: 900px;\" class=\"plotly-graph-div\"></div><script type=\"text/javascript\">require([\"plotly\"], function(Plotly) { window.PLOTLYENV=window.PLOTLYENV || {};window.PLOTLYENV.BASE_URL=\"https://plot.ly\";Plotly.newPlot(\"146e9460-cd29-4fd8-b3e6-6cb00662f3fe\", [{\"type\": \"bar\", \"x\": [\"Femail\", \"Mail\"], \"y\": [184, 89], \"name\": \"Survived\", \"marker\": {\"color\": \"rgba(55, 128, 191, 0.7)\", \"line\": {\"color\": \"rgba(55, 128, 191, 1.0)\", \"width\": 2}}}, {\"type\": \"bar\", \"x\": [\"Femail\", \"Mail\"], \"y\": [63, 376], \"name\": \"Drowned\", \"marker\": {\"color\": \"rgba(219, 64, 82, 0.7)\", \"line\": {\"color\": \"rgba(219, 64, 82, 1.0)\", \"width\": 2}}}], {\"barmode\": \"stack\", \"title\": \"Survival vs Sex\", \"width\": 900, \"height\": 500, \"paper_bgcolor\": \"rgb(244, 238, 225)\", \"plot_bgcolor\": \"rgb(244, 238, 225)\", \"yaxis\": {\"title\": \"Number of passengers\"}, \"xaxis\": {\"title\": \"Sex\"}}, {\"showLink\": true, \"linkText\": \"Export to plot.ly\"})});</script>"
      ],
      "text/vnd.plotly.v1+html": [
       "<div id=\"146e9460-cd29-4fd8-b3e6-6cb00662f3fe\" style=\"height: 500px; width: 900px;\" class=\"plotly-graph-div\"></div><script type=\"text/javascript\">require([\"plotly\"], function(Plotly) { window.PLOTLYENV=window.PLOTLYENV || {};window.PLOTLYENV.BASE_URL=\"https://plot.ly\";Plotly.newPlot(\"146e9460-cd29-4fd8-b3e6-6cb00662f3fe\", [{\"type\": \"bar\", \"x\": [\"Femail\", \"Mail\"], \"y\": [184, 89], \"name\": \"Survived\", \"marker\": {\"color\": \"rgba(55, 128, 191, 0.7)\", \"line\": {\"color\": \"rgba(55, 128, 191, 1.0)\", \"width\": 2}}}, {\"type\": \"bar\", \"x\": [\"Femail\", \"Mail\"], \"y\": [63, 376], \"name\": \"Drowned\", \"marker\": {\"color\": \"rgba(219, 64, 82, 0.7)\", \"line\": {\"color\": \"rgba(219, 64, 82, 1.0)\", \"width\": 2}}}], {\"barmode\": \"stack\", \"title\": \"Survival vs Sex\", \"width\": 900, \"height\": 500, \"paper_bgcolor\": \"rgb(244, 238, 225)\", \"plot_bgcolor\": \"rgb(244, 238, 225)\", \"yaxis\": {\"title\": \"Number of passengers\"}, \"xaxis\": {\"title\": \"Sex\"}}, {\"showLink\": true, \"linkText\": \"Export to plot.ly\"})});</script>"
      ]
     },
     "metadata": {},
     "output_type": "display_data"
    }
   ],
   "source": [
    "passengers_by_sex = train_set[['Sex', 'Survived']].groupby(['Sex']).count()\n",
    "passengers_by_sex_sur = train_set[['Sex', 'Survived']].groupby(['Sex']).sum()\n",
    "\n",
    "trace1 = go.Bar(\n",
    "    x = ['Femail', 'Mail'],\n",
    "    y = passengers_by_sex_sur['Survived'].tolist(),\n",
    "    name='Survived',\n",
    "    marker=dict(\n",
    "        color='rgba(55, 128, 191, 0.7)',\n",
    "        line=dict(\n",
    "            color='rgba(55, 128, 191, 1.0)',\n",
    "            width=2,\n",
    "        )\n",
    "    )\n",
    ")\n",
    "trace2 = go.Bar(\n",
    "    x = ['Femail', 'Mail'],\n",
    "    y = (passengers_by_sex['Survived'] - passengers_by_sex_sur['Survived']).tolist(),\n",
    "    name='Drowned',\n",
    "    marker=dict(\n",
    "        color='rgba(219, 64, 82, 0.7)',\n",
    "        line=dict(\n",
    "            color='rgba(219, 64, 82, 1.0)',\n",
    "            width=2,\n",
    "        )\n",
    "    )\n",
    ")\n",
    "\n",
    "data = [trace1, trace2]\n",
    "layout = go.Layout(\n",
    "    barmode='stack',\n",
    "    title = 'Survival vs Sex',\n",
    "    width=900,\n",
    "    height=500,\n",
    "    paper_bgcolor='rgb(244, 238, 225)',\n",
    "    plot_bgcolor='rgb(244, 238, 225)',\n",
    "    yaxis = dict(title= 'Number of passengers'),\n",
    "    xaxis = dict(title= 'Sex')\n",
    ")\n",
    "\n",
    "fig = go.Figure(data=data, layout=layout)\n",
    "py.iplot(fig)"
   ]
  },
  {
   "cell_type": "markdown",
   "metadata": {},
   "source": [
    "### 3.3. Embarked\n",
    "<a id=\"embarked\"></a>"
   ]
  },
  {
   "cell_type": "code",
   "execution_count": 14,
   "metadata": {},
   "outputs": [
    {
     "name": "stdout",
     "output_type": "stream",
     "text": [
      "  Embarked  Survived\n",
      "0        C       129\n",
      "1        Q        64\n",
      "2        S       517\n"
     ]
    }
   ],
   "source": [
    "print (train_set[[\"Embarked\", \"Survived\"]].groupby([\"Embarked\"], as_index=False).count())"
   ]
  },
  {
   "cell_type": "markdown",
   "metadata": {},
   "source": [
    "<b>NOTE:</b> The embarked feature contains information about port of embarkation, unfortunately it has some missing values. <b>We try to fill those with the most occurred value in the train_set ( 'S' ).</b> Next we will map string values into numeric ones."
   ]
  },
  {
   "cell_type": "code",
   "execution_count": 15,
   "metadata": {},
   "outputs": [
    {
     "name": "stdout",
     "output_type": "stream",
     "text": [
      "   Embarked  Survived\n",
      "0         0  0.342967\n",
      "1         1  0.527132\n",
      "2         2  0.421875\n"
     ]
    }
   ],
   "source": [
    "for set_ in (train_set, test_set):\n",
    "    # Filling missing values with most occurred one\n",
    "    set_['Embarked'] = set_['Embarked'].fillna('S')\n",
    "\n",
    "    # Mapping Embarked\n",
    "    set_['Embarked'] = set_['Embarked'].map( {'S': 0, 'C': 1, 'Q': 2} ).astype(int)\n",
    "\n",
    "print (train_set[['Embarked', 'Survived']].groupby(['Embarked'], as_index=False).mean())"
   ]
  },
  {
   "cell_type": "markdown",
   "metadata": {},
   "source": [
    "### 3.4. Fare\n",
    "<a id=\"fare\"></a>"
   ]
  },
  {
   "cell_type": "markdown",
   "metadata": {},
   "source": [
    "<b>NOTE:</b> Fare feature also has some missing value. <b>We replace those values with the median</b>."
   ]
  },
  {
   "cell_type": "code",
   "execution_count": 16,
   "metadata": {
    "collapsed": true
   },
   "outputs": [],
   "source": [
    "for set_ in (train_set, test_set):\n",
    "    # Fill NA/NaN values using the specified method\n",
    "    set_['Fare'] = set_['Fare'].fillna(set_['Fare'].median())"
   ]
  },
  {
   "cell_type": "markdown",
   "metadata": {},
   "source": [
    "<b>NOTE:</b> Then we categorize data into 4 ranges based od train_set and map it into numerical categories. Let's use qcut to find the boundaries of intervals."
   ]
  },
  {
   "cell_type": "code",
   "execution_count": 17,
   "metadata": {},
   "outputs": [
    {
     "data": {
      "text/plain": [
       "[(14.456, 31.275], (7.918, 14.456], (31.275, 512.329], (-0.001, 7.918]]\n",
       "Categories (4, interval[float64]): [(-0.001, 7.918] < (7.918, 14.456] < (14.456, 31.275] < (31.275, 512.329]]"
      ]
     },
     "execution_count": 17,
     "metadata": {},
     "output_type": "execute_result"
    }
   ],
   "source": [
    "pd.qcut(train_set['Fare'], 4).unique()"
   ]
  },
  {
   "cell_type": "code",
   "execution_count": 18,
   "metadata": {},
   "outputs": [
    {
     "name": "stdout",
     "output_type": "stream",
     "text": [
      "   Fare  Survived\n",
      "0     0  0.219101\n",
      "1     1  0.320225\n",
      "2     2  0.420765\n",
      "3     3  0.578035\n"
     ]
    }
   ],
   "source": [
    "for set_ in (train_set, test_set):\n",
    "    # Mapping Fare\n",
    "    set_.loc[ set_['Fare'] <= 7.918, 'Fare'] = 0\n",
    "    set_.loc[(set_['Fare'] > 7.918) & (set_['Fare'] <= 14.456), 'Fare'] = 1\n",
    "    set_.loc[(set_['Fare'] > 14.456) & (set_['Fare'] <= 31.275), 'Fare']   = 2\n",
    "    set_.loc[ set_['Fare'] > 31.275, 'Fare']  = 3\n",
    "    set_['Fare'] = set_['Fare'].astype(int)\n",
    "\n",
    "print (train_set[['Fare', 'Survived']].groupby(['Fare'], as_index=False).mean())"
   ]
  },
  {
   "cell_type": "code",
   "execution_count": 19,
   "metadata": {},
   "outputs": [
    {
     "data": {
      "application/vnd.plotly.v1+json": {
       "data": [
        {
         "marker": {
          "color": "rgba(55, 128, 191, 0.7)",
          "line": {
           "color": "rgba(55, 128, 191, 1.0)",
           "width": 2
          }
         },
         "name": "Survived",
         "type": "bar",
         "x": [
          "Low",
          "Medium",
          "High",
          "Premium"
         ],
         "y": [
          39,
          57,
          77,
          100
         ]
        },
        {
         "marker": {
          "color": "rgba(219, 64, 82, 0.7)",
          "line": {
           "color": "rgba(219, 64, 82, 1.0)",
           "width": 2
          }
         },
         "name": "Drowned",
         "type": "bar",
         "x": [
          "Low",
          "Medium",
          "High",
          "Premium"
         ],
         "y": [
          139,
          121,
          106,
          73
         ]
        }
       ],
       "layout": {
        "barmode": "stack",
        "height": 500,
        "paper_bgcolor": "rgb(244, 238, 225)",
        "plot_bgcolor": "rgb(244, 238, 225)",
        "title": "Survival vs Fare",
        "width": 900,
        "xaxis": {
         "title": "Fare"
        },
        "yaxis": {
         "title": "Number of passengers"
        }
       }
      },
      "text/html": [
       "<div id=\"6bf0cee8-c0c3-46b7-87b9-6020983ffc0c\" style=\"height: 500px; width: 900px;\" class=\"plotly-graph-div\"></div><script type=\"text/javascript\">require([\"plotly\"], function(Plotly) { window.PLOTLYENV=window.PLOTLYENV || {};window.PLOTLYENV.BASE_URL=\"https://plot.ly\";Plotly.newPlot(\"6bf0cee8-c0c3-46b7-87b9-6020983ffc0c\", [{\"type\": \"bar\", \"x\": [\"Low\", \"Medium\", \"High\", \"Premium\"], \"y\": [39, 57, 77, 100], \"name\": \"Survived\", \"marker\": {\"color\": \"rgba(55, 128, 191, 0.7)\", \"line\": {\"color\": \"rgba(55, 128, 191, 1.0)\", \"width\": 2}}}, {\"type\": \"bar\", \"x\": [\"Low\", \"Medium\", \"High\", \"Premium\"], \"y\": [139, 121, 106, 73], \"name\": \"Drowned\", \"marker\": {\"color\": \"rgba(219, 64, 82, 0.7)\", \"line\": {\"color\": \"rgba(219, 64, 82, 1.0)\", \"width\": 2}}}], {\"barmode\": \"stack\", \"title\": \"Survival vs Fare\", \"width\": 900, \"height\": 500, \"paper_bgcolor\": \"rgb(244, 238, 225)\", \"plot_bgcolor\": \"rgb(244, 238, 225)\", \"yaxis\": {\"title\": \"Number of passengers\"}, \"xaxis\": {\"title\": \"Fare\"}}, {\"showLink\": true, \"linkText\": \"Export to plot.ly\"})});</script>"
      ],
      "text/vnd.plotly.v1+html": [
       "<div id=\"6bf0cee8-c0c3-46b7-87b9-6020983ffc0c\" style=\"height: 500px; width: 900px;\" class=\"plotly-graph-div\"></div><script type=\"text/javascript\">require([\"plotly\"], function(Plotly) { window.PLOTLYENV=window.PLOTLYENV || {};window.PLOTLYENV.BASE_URL=\"https://plot.ly\";Plotly.newPlot(\"6bf0cee8-c0c3-46b7-87b9-6020983ffc0c\", [{\"type\": \"bar\", \"x\": [\"Low\", \"Medium\", \"High\", \"Premium\"], \"y\": [39, 57, 77, 100], \"name\": \"Survived\", \"marker\": {\"color\": \"rgba(55, 128, 191, 0.7)\", \"line\": {\"color\": \"rgba(55, 128, 191, 1.0)\", \"width\": 2}}}, {\"type\": \"bar\", \"x\": [\"Low\", \"Medium\", \"High\", \"Premium\"], \"y\": [139, 121, 106, 73], \"name\": \"Drowned\", \"marker\": {\"color\": \"rgba(219, 64, 82, 0.7)\", \"line\": {\"color\": \"rgba(219, 64, 82, 1.0)\", \"width\": 2}}}], {\"barmode\": \"stack\", \"title\": \"Survival vs Fare\", \"width\": 900, \"height\": 500, \"paper_bgcolor\": \"rgb(244, 238, 225)\", \"plot_bgcolor\": \"rgb(244, 238, 225)\", \"yaxis\": {\"title\": \"Number of passengers\"}, \"xaxis\": {\"title\": \"Fare\"}}, {\"showLink\": true, \"linkText\": \"Export to plot.ly\"})});</script>"
      ]
     },
     "metadata": {},
     "output_type": "display_data"
    }
   ],
   "source": [
    "fare = train_set[['Fare', 'Survived']].groupby(['Fare']).count()\n",
    "fare_sur = train_set[['Fare', 'Survived']].groupby(['Fare']).sum()\n",
    "\n",
    "trace1 = go.Bar(\n",
    "    x = ['Low', 'Medium', 'High', 'Premium'],\n",
    "    y = fare_sur['Survived'].tolist(),\n",
    "    name='Survived',\n",
    "    marker=dict(\n",
    "        color='rgba(55, 128, 191, 0.7)',\n",
    "        line=dict(\n",
    "            color='rgba(55, 128, 191, 1.0)',\n",
    "            width=2,\n",
    "        )\n",
    "    )\n",
    ")\n",
    "trace2 = go.Bar(\n",
    "    x = ['Low', 'Medium', 'High', 'Premium'],\n",
    "    y = (fare['Survived'] - fare_sur['Survived']).tolist(),\n",
    "    name='Drowned',\n",
    "    marker=dict(\n",
    "        color='rgba(219, 64, 82, 0.7)',\n",
    "        line=dict(\n",
    "            color='rgba(219, 64, 82, 1.0)',\n",
    "            width=2,\n",
    "        )\n",
    "    )\n",
    ")\n",
    "\n",
    "data = [trace1, trace2]\n",
    "layout = go.Layout(\n",
    "    barmode='stack',\n",
    "    title = 'Survival vs Fare',\n",
    "    width=900,\n",
    "    height=500,\n",
    "    paper_bgcolor='rgb(244, 238, 225)',\n",
    "    plot_bgcolor='rgb(244, 238, 225)',\n",
    "    yaxis = dict(title= 'Number of passengers'),\n",
    "    xaxis = dict(title= 'Fare')\n",
    ")\n",
    "\n",
    "fig = go.Figure(data=data, layout=layout)\n",
    "py.iplot(fig)"
   ]
  },
  {
   "cell_type": "markdown",
   "metadata": {},
   "source": [
    "### 3.5. Cabin\n",
    "<a id=\"cabin\"></a>"
   ]
  },
  {
   "cell_type": "markdown",
   "metadata": {
    "collapsed": true
   },
   "source": [
    "<b>NOTE:</b> Feature that tells whether a passenger had a cabin on the Titanic."
   ]
  },
  {
   "cell_type": "code",
   "execution_count": 20,
   "metadata": {
    "collapsed": true
   },
   "outputs": [],
   "source": [
    "for set_ in (train_set, test_set):\n",
    "    set_['Has_Cabin'] = set_[\"Cabin\"].apply(lambda x: 0 if type(x) == float else 1)"
   ]
  },
  {
   "cell_type": "markdown",
   "metadata": {},
   "source": [
    "### 3.6. Age\n",
    "<a id=\"age\"></a>"
   ]
  },
  {
   "cell_type": "markdown",
   "metadata": {},
   "source": [
    "<b>NOTE:</b> We have plenty of missing values in this feature. We fill blanks with random numbers between (mean - std) and (mean + std). (std and mean refer to the training set)"
   ]
  },
  {
   "cell_type": "code",
   "execution_count": 21,
   "metadata": {},
   "outputs": [
    {
     "name": "stdout",
     "output_type": "stream",
     "text": [
      "Mean value: 29.75\n",
      "Std value: 14.62\n"
     ]
    }
   ],
   "source": [
    "age_avg = train_set['Age'].mean()\n",
    "age_std = train_set['Age'].std()\n",
    "\n",
    "print(\"Mean value: \" + str(round(age_avg, 2)));\n",
    "print(\"Std value: \" + str(round(age_std, 2)));"
   ]
  },
  {
   "cell_type": "code",
   "execution_count": 22,
   "metadata": {
    "collapsed": true
   },
   "outputs": [],
   "source": [
    "for set_ in (train_set, test_set):\n",
    "    age_null_count = set_['Age'].isnull().sum()\n",
    "    age_null_random_list = np.random.randint(age_avg - age_std, age_avg + age_std, size=age_null_count)\n",
    "    \n",
    "    set_['Age'][np.isnan(set_['Age'])] = age_null_random_list\n",
    "    set_['Age'] = set_['Age'].astype(int)"
   ]
  },
  {
   "cell_type": "markdown",
   "metadata": {},
   "source": [
    "<b>NOTE:</b> Now we categorize age into 5 range and map them into numerical categories, just like for \"Cabin\" feature."
   ]
  },
  {
   "cell_type": "code",
   "execution_count": 23,
   "metadata": {},
   "outputs": [
    {
     "data": {
      "text/plain": [
       "[(16.0, 32.0], (32.0, 48.0], (-0.08, 16.0], (64.0, 80.0], (48.0, 64.0]]\n",
       "Categories (5, interval[float64]): [(-0.08, 16.0] < (16.0, 32.0] < (32.0, 48.0] < (48.0, 64.0] < (64.0, 80.0]]"
      ]
     },
     "execution_count": 23,
     "metadata": {},
     "output_type": "execute_result"
    }
   ],
   "source": [
    "pd.cut(train_set['Age'], 5).unique()"
   ]
  },
  {
   "cell_type": "code",
   "execution_count": 24,
   "metadata": {
    "collapsed": true
   },
   "outputs": [],
   "source": [
    "for set_ in (train_set, test_set):\n",
    "    # Mapping Age\n",
    "    set_.loc[ set_['Age'] <= 16, 'Age'] = 0\n",
    "    set_.loc[(set_['Age'] > 16) & (set_['Age'] <= 32), 'Age'] = 1\n",
    "    set_.loc[(set_['Age'] > 32) & (set_['Age'] <= 48), 'Age'] = 2\n",
    "    set_.loc[(set_['Age'] > 48) & (set_['Age'] <= 64), 'Age'] = 3\n",
    "    set_.loc[ set_['Age'] > 64, 'Age'] = 4"
   ]
  },
  {
   "cell_type": "code",
   "execution_count": 25,
   "metadata": {},
   "outputs": [
    {
     "data": {
      "application/vnd.plotly.v1+json": {
       "data": [
        {
         "marker": {
          "color": "rgba(55, 128, 191, 0.7)",
          "line": {
           "color": "rgba(55, 128, 191, 1.0)",
           "width": 2
          }
         },
         "name": "Survived",
         "type": "bar",
         "x": [
          "[0 - 16]",
          "(16 - 32]",
          "(32 - 48]",
          "(48 - 64]",
          "(64 - ...]"
         ],
         "y": [
          50,
          122,
          78,
          22,
          1
         ]
        },
        {
         "marker": {
          "color": "rgba(219, 64, 82, 0.7)",
          "line": {
           "color": "rgba(219, 64, 82, 1.0)",
           "width": 2
          }
         },
         "name": "Drowned",
         "type": "bar",
         "x": [
          "[0 - 16]",
          "(16 - 32]",
          "(32 - 48]",
          "(48 - 64]",
          "(64 - ...]"
         ],
         "y": [
          42,
          223,
          135,
          29,
          10
         ]
        },
        {
         "mode": "lines+markers",
         "name": "Survival %",
         "type": "scatter",
         "x": [
          "[0 - 16]",
          "(16 - 32]",
          "(32 - 48]",
          "(48 - 64]",
          "(64 - ...]"
         ],
         "y": [
          54.34782608695652,
          35.36231884057971,
          36.61971830985915,
          43.13725490196079,
          9.090909090909092
         ],
         "yaxis": "y2"
        }
       ],
       "layout": {
        "barmode": "stack",
        "height": 500,
        "paper_bgcolor": "rgb(244, 238, 225)",
        "plot_bgcolor": "rgb(244, 238, 225)",
        "title": "Survival vs Age",
        "width": 900,
        "xaxis": {
         "title": "Age"
        },
        "yaxis": {
         "title": "Number of passengers"
        },
        "yaxis2": {
         "anchor": "x",
         "dtick": 24.3,
         "overlaying": "y",
         "rangemode": "tozero",
         "side": "right",
         "tickfont": {
          "color": "rgb(148, 103, 189)"
         },
         "title": "Survival %",
         "titlefont": {
          "color": "rgb(148, 103, 189)"
         }
        }
       }
      },
      "text/html": [
       "<div id=\"7fc69fdf-3c8b-4054-8ca6-c25292b9d97c\" style=\"height: 500px; width: 900px;\" class=\"plotly-graph-div\"></div><script type=\"text/javascript\">require([\"plotly\"], function(Plotly) { window.PLOTLYENV=window.PLOTLYENV || {};window.PLOTLYENV.BASE_URL=\"https://plot.ly\";Plotly.newPlot(\"7fc69fdf-3c8b-4054-8ca6-c25292b9d97c\", [{\"type\": \"bar\", \"x\": [\"[0 - 16]\", \"(16 - 32]\", \"(32 - 48]\", \"(48 - 64]\", \"(64 - ...]\"], \"y\": [50, 122, 78, 22, 1], \"name\": \"Survived\", \"marker\": {\"color\": \"rgba(55, 128, 191, 0.7)\", \"line\": {\"color\": \"rgba(55, 128, 191, 1.0)\", \"width\": 2}}}, {\"type\": \"bar\", \"x\": [\"[0 - 16]\", \"(16 - 32]\", \"(32 - 48]\", \"(48 - 64]\", \"(64 - ...]\"], \"y\": [42, 223, 135, 29, 10], \"name\": \"Drowned\", \"marker\": {\"color\": \"rgba(219, 64, 82, 0.7)\", \"line\": {\"color\": \"rgba(219, 64, 82, 1.0)\", \"width\": 2}}}, {\"type\": \"scatter\", \"x\": [\"[0 - 16]\", \"(16 - 32]\", \"(32 - 48]\", \"(48 - 64]\", \"(64 - ...]\"], \"y\": [54.34782608695652, 35.36231884057971, 36.61971830985915, 43.13725490196079, 9.090909090909092], \"name\": \"Survival %\", \"mode\": \"lines+markers\", \"yaxis\": \"y2\"}], {\"barmode\": \"stack\", \"title\": \"Survival vs Age\", \"width\": 900, \"height\": 500, \"paper_bgcolor\": \"rgb(244, 238, 225)\", \"plot_bgcolor\": \"rgb(244, 238, 225)\", \"yaxis\": {\"title\": \"Number of passengers\"}, \"xaxis\": {\"title\": \"Age\"}, \"yaxis2\": {\"title\": \"Survival %\", \"titlefont\": {\"color\": \"rgb(148, 103, 189)\"}, \"tickfont\": {\"color\": \"rgb(148, 103, 189)\"}, \"overlaying\": \"y\", \"side\": \"right\", \"anchor\": \"x\", \"rangemode\": \"tozero\", \"dtick\": 24.3}}, {\"showLink\": true, \"linkText\": \"Export to plot.ly\"})});</script>"
      ],
      "text/vnd.plotly.v1+html": [
       "<div id=\"7fc69fdf-3c8b-4054-8ca6-c25292b9d97c\" style=\"height: 500px; width: 900px;\" class=\"plotly-graph-div\"></div><script type=\"text/javascript\">require([\"plotly\"], function(Plotly) { window.PLOTLYENV=window.PLOTLYENV || {};window.PLOTLYENV.BASE_URL=\"https://plot.ly\";Plotly.newPlot(\"7fc69fdf-3c8b-4054-8ca6-c25292b9d97c\", [{\"type\": \"bar\", \"x\": [\"[0 - 16]\", \"(16 - 32]\", \"(32 - 48]\", \"(48 - 64]\", \"(64 - ...]\"], \"y\": [50, 122, 78, 22, 1], \"name\": \"Survived\", \"marker\": {\"color\": \"rgba(55, 128, 191, 0.7)\", \"line\": {\"color\": \"rgba(55, 128, 191, 1.0)\", \"width\": 2}}}, {\"type\": \"bar\", \"x\": [\"[0 - 16]\", \"(16 - 32]\", \"(32 - 48]\", \"(48 - 64]\", \"(64 - ...]\"], \"y\": [42, 223, 135, 29, 10], \"name\": \"Drowned\", \"marker\": {\"color\": \"rgba(219, 64, 82, 0.7)\", \"line\": {\"color\": \"rgba(219, 64, 82, 1.0)\", \"width\": 2}}}, {\"type\": \"scatter\", \"x\": [\"[0 - 16]\", \"(16 - 32]\", \"(32 - 48]\", \"(48 - 64]\", \"(64 - ...]\"], \"y\": [54.34782608695652, 35.36231884057971, 36.61971830985915, 43.13725490196079, 9.090909090909092], \"name\": \"Survival %\", \"mode\": \"lines+markers\", \"yaxis\": \"y2\"}], {\"barmode\": \"stack\", \"title\": \"Survival vs Age\", \"width\": 900, \"height\": 500, \"paper_bgcolor\": \"rgb(244, 238, 225)\", \"plot_bgcolor\": \"rgb(244, 238, 225)\", \"yaxis\": {\"title\": \"Number of passengers\"}, \"xaxis\": {\"title\": \"Age\"}, \"yaxis2\": {\"title\": \"Survival %\", \"titlefont\": {\"color\": \"rgb(148, 103, 189)\"}, \"tickfont\": {\"color\": \"rgb(148, 103, 189)\"}, \"overlaying\": \"y\", \"side\": \"right\", \"anchor\": \"x\", \"rangemode\": \"tozero\", \"dtick\": 24.3}}, {\"showLink\": true, \"linkText\": \"Export to plot.ly\"})});</script>"
      ]
     },
     "metadata": {},
     "output_type": "display_data"
    }
   ],
   "source": [
    "age = train_set[['Age', 'Survived']].groupby(['Age']).count()\n",
    "age_sur = train_set[['Age', 'Survived']].groupby(['Age']).sum()\n",
    "\n",
    "trace1 = go.Bar(\n",
    "    x = ['[0 - 16]', '(16 - 32]', '(32 - 48]', '(48 - 64]', '(64 - ...]'],\n",
    "    y = age_sur['Survived'].tolist(),\n",
    "    name='Survived',\n",
    "    marker=dict(\n",
    "        color='rgba(55, 128, 191, 0.7)',\n",
    "        line=dict(\n",
    "            color='rgba(55, 128, 191, 1.0)',\n",
    "            width=2,\n",
    "        )\n",
    "    )\n",
    ")\n",
    "trace2 = go.Bar(\n",
    "    x = ['[0 - 16]', '(16 - 32]', '(32 - 48]', '(48 - 64]', '(64 - ...]'],\n",
    "    y = (age['Survived'] - age_sur['Survived']).tolist(),\n",
    "    name='Drowned',\n",
    "    marker=dict(\n",
    "        color='rgba(219, 64, 82, 0.7)',\n",
    "        line=dict(\n",
    "            color='rgba(219, 64, 82, 1.0)',\n",
    "            width=2,\n",
    "        )\n",
    "    )\n",
    ")\n",
    "trace3 = go.Scatter(\n",
    "    x = ['[0 - 16]', '(16 - 32]', '(32 - 48]', '(48 - 64]', '(64 - ...]'],\n",
    "    y = (age_sur['Survived'] * 100 / age['Survived']).tolist(),\n",
    "    name='Survival %',\n",
    "    mode = 'lines+markers',\n",
    "    yaxis='y2'\n",
    ")\n",
    "\n",
    "data = [trace1, trace2, trace3]\n",
    "layout = go.Layout(\n",
    "    barmode='stack',\n",
    "    title = 'Survival vs Age',\n",
    "    width=900,\n",
    "    height=500,\n",
    "    paper_bgcolor='rgb(244, 238, 225)',\n",
    "    plot_bgcolor='rgb(244, 238, 225)',\n",
    "    yaxis = dict(title= 'Number of passengers'),\n",
    "    xaxis = dict(title= 'Age'),\n",
    "    yaxis2=dict(\n",
    "        title='Survival %',\n",
    "        titlefont=dict(\n",
    "            color='rgb(148, 103, 189)'\n",
    "        ),\n",
    "        tickfont=dict(\n",
    "            color='rgb(148, 103, 189)'\n",
    "        ),\n",
    "        overlaying='y',\n",
    "        side='right',\n",
    "        anchor = 'x',\n",
    "        rangemode = 'tozero',\n",
    "        dtick = 24.3\n",
    "    )\n",
    ")\n",
    "\n",
    "fig = go.Figure(data=data, layout=layout)\n",
    "py.iplot(fig)"
   ]
  },
  {
   "cell_type": "markdown",
   "metadata": {},
   "source": [
    "### 3.7. Family Size\n",
    "<a id=\"family_size\"></a>"
   ]
  },
  {
   "cell_type": "markdown",
   "metadata": {},
   "source": [
    "<b>NOTE:</b> Using the number of siblings/spouse and the number of children/parents we can create new feature called Family Size."
   ]
  },
  {
   "cell_type": "code",
   "execution_count": 26,
   "metadata": {},
   "outputs": [
    {
     "name": "stdout",
     "output_type": "stream",
     "text": [
      "   FamilySize  Survived\n",
      "0           1  0.311628\n",
      "1           2  0.539683\n",
      "2           3  0.555556\n",
      "3           4  0.680000\n",
      "4           5  0.153846\n",
      "5           6  0.214286\n",
      "6           7  0.363636\n",
      "7           8  0.000000\n",
      "8          11  0.000000\n"
     ]
    }
   ],
   "source": [
    "for set_ in (train_set, test_set):\n",
    "    set_['FamilySize'] = set_['SibSp'] + set_['Parch'] + 1\n",
    "    \n",
    "print (train_set[['FamilySize', 'Survived']].groupby(['FamilySize'], as_index=False).mean())"
   ]
  },
  {
   "cell_type": "code",
   "execution_count": 27,
   "metadata": {},
   "outputs": [
    {
     "data": {
      "application/vnd.plotly.v1+json": {
       "data": [
        {
         "marker": {
          "color": "rgba(55, 128, 191, 0.7)",
          "line": {
           "color": "rgba(55, 128, 191, 1.0)",
           "width": 2
          }
         },
         "name": "Survived",
         "type": "bar",
         "x": [
          1,
          2,
          3,
          4,
          5,
          6,
          7,
          8,
          11
         ],
         "y": [
          134,
          68,
          45,
          17,
          2,
          3,
          4,
          0,
          0
         ]
        },
        {
         "marker": {
          "color": "rgba(219, 64, 82, 0.7)",
          "line": {
           "color": "rgba(219, 64, 82, 1.0)",
           "width": 2
          }
         },
         "name": "Drowned",
         "type": "bar",
         "x": [
          1,
          2,
          3,
          4,
          5,
          6,
          7,
          8,
          11
         ],
         "y": [
          296,
          58,
          36,
          8,
          11,
          11,
          7,
          5,
          7
         ]
        },
        {
         "mode": "lines+markers",
         "name": "Survival %",
         "type": "scatter",
         "x": [
          1,
          2,
          3,
          4,
          5,
          6,
          7,
          8,
          11
         ],
         "y": [
          31.162790697674417,
          53.96825396825397,
          55.55555555555556,
          68,
          15.384615384615385,
          21.428571428571427,
          36.36363636363637,
          0,
          0
         ],
         "yaxis": "y2"
        }
       ],
       "layout": {
        "barmode": "group",
        "height": 600,
        "paper_bgcolor": "rgb(243, 243, 243)",
        "plot_bgcolor": "rgb(243, 243, 243)",
        "title": "Survival vs Size of Family",
        "width": 1000,
        "xaxis": {
         "title": "Size of Family"
        },
        "yaxis": {
         "anchor": "x",
         "rangemode": "tozero",
         "title": "Number of passengers"
        },
        "yaxis2": {
         "anchor": "x",
         "dtick": 11.6,
         "overlaying": "y",
         "rangemode": "tozero",
         "side": "right",
         "tickfont": {
          "color": "rgb(148, 103, 189)"
         },
         "title": "Survival %",
         "titlefont": {
          "color": "rgb(148, 103, 189)"
         }
        }
       }
      },
      "text/html": [
       "<div id=\"3c719623-d75e-4575-b067-11d9785dd0b9\" style=\"height: 600px; width: 1000px;\" class=\"plotly-graph-div\"></div><script type=\"text/javascript\">require([\"plotly\"], function(Plotly) { window.PLOTLYENV=window.PLOTLYENV || {};window.PLOTLYENV.BASE_URL=\"https://plot.ly\";Plotly.newPlot(\"3c719623-d75e-4575-b067-11d9785dd0b9\", [{\"type\": \"bar\", \"x\": [1, 2, 3, 4, 5, 6, 7, 8, 11], \"y\": [134, 68, 45, 17, 2, 3, 4, 0, 0], \"name\": \"Survived\", \"marker\": {\"color\": \"rgba(55, 128, 191, 0.7)\", \"line\": {\"color\": \"rgba(55, 128, 191, 1.0)\", \"width\": 2}}}, {\"type\": \"bar\", \"x\": [1, 2, 3, 4, 5, 6, 7, 8, 11], \"y\": [296, 58, 36, 8, 11, 11, 7, 5, 7], \"name\": \"Drowned\", \"marker\": {\"color\": \"rgba(219, 64, 82, 0.7)\", \"line\": {\"color\": \"rgba(219, 64, 82, 1.0)\", \"width\": 2}}}, {\"type\": \"scatter\", \"x\": [1, 2, 3, 4, 5, 6, 7, 8, 11], \"y\": [31.162790697674417, 53.96825396825397, 55.55555555555556, 68.0, 15.384615384615385, 21.428571428571427, 36.36363636363637, 0.0, 0.0], \"name\": \"Survival %\", \"mode\": \"lines+markers\", \"yaxis\": \"y2\"}], {\"barmode\": \"group\", \"title\": \"Survival vs Size of Family\", \"width\": 1000, \"height\": 600, \"paper_bgcolor\": \"rgb(243, 243, 243)\", \"plot_bgcolor\": \"rgb(243, 243, 243)\", \"yaxis\": {\"title\": \"Number of passengers\", \"anchor\": \"x\", \"rangemode\": \"tozero\"}, \"xaxis\": {\"title\": \"Size of Family\"}, \"yaxis2\": {\"title\": \"Survival %\", \"titlefont\": {\"color\": \"rgb(148, 103, 189)\"}, \"tickfont\": {\"color\": \"rgb(148, 103, 189)\"}, \"overlaying\": \"y\", \"side\": \"right\", \"anchor\": \"x\", \"rangemode\": \"tozero\", \"dtick\": 11.6}}, {\"showLink\": true, \"linkText\": \"Export to plot.ly\"})});</script>"
      ],
      "text/vnd.plotly.v1+html": [
       "<div id=\"3c719623-d75e-4575-b067-11d9785dd0b9\" style=\"height: 600px; width: 1000px;\" class=\"plotly-graph-div\"></div><script type=\"text/javascript\">require([\"plotly\"], function(Plotly) { window.PLOTLYENV=window.PLOTLYENV || {};window.PLOTLYENV.BASE_URL=\"https://plot.ly\";Plotly.newPlot(\"3c719623-d75e-4575-b067-11d9785dd0b9\", [{\"type\": \"bar\", \"x\": [1, 2, 3, 4, 5, 6, 7, 8, 11], \"y\": [134, 68, 45, 17, 2, 3, 4, 0, 0], \"name\": \"Survived\", \"marker\": {\"color\": \"rgba(55, 128, 191, 0.7)\", \"line\": {\"color\": \"rgba(55, 128, 191, 1.0)\", \"width\": 2}}}, {\"type\": \"bar\", \"x\": [1, 2, 3, 4, 5, 6, 7, 8, 11], \"y\": [296, 58, 36, 8, 11, 11, 7, 5, 7], \"name\": \"Drowned\", \"marker\": {\"color\": \"rgba(219, 64, 82, 0.7)\", \"line\": {\"color\": \"rgba(219, 64, 82, 1.0)\", \"width\": 2}}}, {\"type\": \"scatter\", \"x\": [1, 2, 3, 4, 5, 6, 7, 8, 11], \"y\": [31.162790697674417, 53.96825396825397, 55.55555555555556, 68.0, 15.384615384615385, 21.428571428571427, 36.36363636363637, 0.0, 0.0], \"name\": \"Survival %\", \"mode\": \"lines+markers\", \"yaxis\": \"y2\"}], {\"barmode\": \"group\", \"title\": \"Survival vs Size of Family\", \"width\": 1000, \"height\": 600, \"paper_bgcolor\": \"rgb(243, 243, 243)\", \"plot_bgcolor\": \"rgb(243, 243, 243)\", \"yaxis\": {\"title\": \"Number of passengers\", \"anchor\": \"x\", \"rangemode\": \"tozero\"}, \"xaxis\": {\"title\": \"Size of Family\"}, \"yaxis2\": {\"title\": \"Survival %\", \"titlefont\": {\"color\": \"rgb(148, 103, 189)\"}, \"tickfont\": {\"color\": \"rgb(148, 103, 189)\"}, \"overlaying\": \"y\", \"side\": \"right\", \"anchor\": \"x\", \"rangemode\": \"tozero\", \"dtick\": 11.6}}, {\"showLink\": true, \"linkText\": \"Export to plot.ly\"})});</script>"
      ]
     },
     "metadata": {},
     "output_type": "display_data"
    }
   ],
   "source": [
    "family_labels = train_set.sort_values(\"FamilySize\")[\"FamilySize\"].unique()\n",
    "family = train_set[['FamilySize', 'Survived']].groupby(['FamilySize']).count()\n",
    "family_sur = train_set[['FamilySize', 'Survived']].groupby(['FamilySize']).sum()\n",
    "\n",
    "trace1 = go.Bar(\n",
    "    x = family_labels.tolist(),\n",
    "    y = family_sur['Survived'].tolist(),\n",
    "    name='Survived',\n",
    "    marker=dict(\n",
    "        color='rgba(55, 128, 191, 0.7)',\n",
    "        line=dict(\n",
    "            color='rgba(55, 128, 191, 1.0)',\n",
    "            width=2,\n",
    "        )\n",
    "    )\n",
    ")\n",
    "trace2 = go.Bar(\n",
    "    x = family_labels.tolist(),\n",
    "    y = (family['Survived'] - family_sur['Survived']).tolist(),\n",
    "    name='Drowned',\n",
    "    marker=dict(\n",
    "        color='rgba(219, 64, 82, 0.7)',\n",
    "        line=dict(\n",
    "            color='rgba(219, 64, 82, 1.0)',\n",
    "            width=2,\n",
    "        )\n",
    "    )\n",
    ")\n",
    "\n",
    "trace3 = go.Scatter(\n",
    "    x = family_labels.tolist(),\n",
    "    y = (family_sur['Survived'] * 100 / family['Survived']).tolist(),\n",
    "    name='Survival %',\n",
    "    mode = 'lines+markers',\n",
    "    yaxis='y2'\n",
    ")\n",
    "\n",
    "data = [trace1, trace2, trace3]\n",
    "layout = go.Layout(\n",
    "    barmode='group',\n",
    "    title = 'Survival vs Size of Family',\n",
    "    width=1000,\n",
    "    height=600,\n",
    "    paper_bgcolor='rgb(243, 243, 243)',\n",
    "    plot_bgcolor='rgb(243, 243, 243)',\n",
    "    yaxis = dict(\n",
    "        title= 'Number of passengers',\n",
    "        anchor = 'x',\n",
    "        rangemode='tozero'\n",
    "    ),\n",
    "    xaxis = dict(title= 'Size of Family'),\n",
    "    \n",
    "    yaxis2=dict(\n",
    "        title='Survival %',\n",
    "        titlefont=dict(\n",
    "            color='rgb(148, 103, 189)'\n",
    "        ),\n",
    "        tickfont=dict(\n",
    "            color='rgb(148, 103, 189)'\n",
    "        ),\n",
    "        overlaying='y',\n",
    "        side='right',\n",
    "        anchor = 'x',\n",
    "        rangemode = 'tozero',\n",
    "        dtick = 11.6\n",
    "    )\n",
    ")\n",
    "\n",
    "fig = go.Figure(data=data, layout=layout)\n",
    "py.iplot(fig)"
   ]
  },
  {
   "cell_type": "markdown",
   "metadata": {},
   "source": [
    "<b>NOTE:</b> It seems that new feature has a good effect on our prediction, but let's go further and categorize people to check whether they are alone in this ship or not."
   ]
  },
  {
   "cell_type": "code",
   "execution_count": 28,
   "metadata": {},
   "outputs": [
    {
     "data": {
      "text/plain": [
       "Index(['PassengerId', 'Survived', 'Pclass', 'Name', 'Sex', 'Age', 'SibSp',\n",
       "       'Parch', 'Ticket', 'Fare', 'Cabin', 'Embarked', 'Has_Cabin',\n",
       "       'FamilySize'],\n",
       "      dtype='object')"
      ]
     },
     "execution_count": 28,
     "metadata": {},
     "output_type": "execute_result"
    }
   ],
   "source": [
    "train_set.columns"
   ]
  },
  {
   "cell_type": "code",
   "execution_count": 29,
   "metadata": {},
   "outputs": [
    {
     "name": "stdout",
     "output_type": "stream",
     "text": [
      "   IsAlone  Survived\n",
      "0        0  0.492908\n",
      "1        1  0.311628\n"
     ]
    }
   ],
   "source": [
    "for set_ in (train_set, test_set):\n",
    "    set_['IsAlone'] = 0\n",
    "    set_.loc[set_['FamilySize'] == 1, 'IsAlone'] = 1\n",
    "print (train_set[['IsAlone', 'Survived']].groupby(['IsAlone'], as_index=False).mean())"
   ]
  },
  {
   "cell_type": "markdown",
   "metadata": {},
   "source": [
    "### 3.8. Title\n",
    "<a id=\"title\"></a>"
   ]
  },
  {
   "cell_type": "markdown",
   "metadata": {},
   "source": [
    "<b> NOTE: </b> Lastly we will use Name feature to create new one - Title. We will use short funtion to extract titles from name strings and transform them into numerical categorical values."
   ]
  },
  {
   "cell_type": "code",
   "execution_count": 30,
   "metadata": {
    "collapsed": true
   },
   "outputs": [],
   "source": [
    "# Short function to extruct titles \n",
    "def get_title(name):\n",
    "    title_search = re.search(' ([A-Za-z]+)\\.', name)\n",
    "    # If the title exists, extract and return it.\n",
    "    if title_search:\n",
    "        return title_search.group(1)\n",
    "    return \"\""
   ]
  },
  {
   "cell_type": "code",
   "execution_count": 31,
   "metadata": {
    "collapsed": true
   },
   "outputs": [],
   "source": [
    "# Create a new feature Title, containing the titles of passenger names\n",
    "for set_ in (train_set, test_set):\n",
    "    set_['Title'] = set_['Name'].apply(get_title)"
   ]
  },
  {
   "cell_type": "code",
   "execution_count": 32,
   "metadata": {},
   "outputs": [
    {
     "data": {
      "text/plain": [
       "array(['Mrs', 'Mr', 'Miss', 'Col', 'Master', 'Ms', 'Rev', 'Dr', 'Mlle',\n",
       "       'Mme', 'Countess', 'Major', 'Lady', 'Capt', 'Sir'], dtype=object)"
      ]
     },
     "execution_count": 32,
     "metadata": {},
     "output_type": "execute_result"
    }
   ],
   "source": [
    "train_set['Title'].unique()"
   ]
  },
  {
   "cell_type": "code",
   "execution_count": 33,
   "metadata": {
    "collapsed": true
   },
   "outputs": [],
   "source": [
    "# Group all non-common titles into one single grouping \"Rare\"\n",
    "for set_ in (train_set, test_set):\n",
    "    set_['Title'] = set_['Title'].replace(['Lady', 'Countess','Capt', 'Col','Don', 'Dr', 'Major', 'Rev', 'Sir', 'Jonkheer', 'Dona'], 'Rare')\n",
    "    set_['Title'] = set_['Title'].replace('Mlle', 'Miss')\n",
    "    set_['Title'] = set_['Title'].replace('Ms', 'Miss')\n",
    "    set_['Title'] = set_['Title'].replace('Mme', 'Mrs')\n",
    "\n",
    "for set_ in (train_set, test_set):\n",
    "    # Mapping titles\n",
    "    title_mapping = {\"Mr\": 1, \"Miss\": 2, \"Mrs\": 3, \"Master\": 4, \"Rare\": 5}\n",
    "    set_['Title'] = set_['Title'].map(title_mapping)\n",
    "    set_['Title'] = set_['Title'].fillna(0)"
   ]
  },
  {
   "cell_type": "code",
   "execution_count": 34,
   "metadata": {},
   "outputs": [
    {
     "data": {
      "application/vnd.plotly.v1+json": {
       "data": [
        {
         "marker": {
          "color": "rgba(55, 128, 191, 0.7)",
          "line": {
           "color": "rgba(55, 128, 191, 1.0)",
           "width": 2
          }
         },
         "name": "Survived",
         "type": "bar",
         "x": [
          "Mr",
          "Miss",
          "Mrs",
          "Master",
          "Rare"
         ],
         "y": [
          65,
          105,
          77,
          20,
          6
         ]
        },
        {
         "marker": {
          "color": "rgba(219, 64, 82, 0.7)",
          "line": {
           "color": "rgba(219, 64, 82, 1.0)",
           "width": 2
          }
         },
         "name": "Drowned",
         "type": "bar",
         "x": [
          "Mr",
          "Miss",
          "Mrs",
          "Master",
          "Rare"
         ],
         "y": [
          354,
          43,
          20,
          15,
          7
         ]
        },
        {
         "mode": "lines+markers",
         "name": "Survival %",
         "type": "scatter",
         "x": [
          "Mr",
          "Miss",
          "Mrs",
          "Master",
          "Rare"
         ],
         "y": [
          15.513126491646778,
          70.94594594594595,
          79.38144329896907,
          57.142857142857146,
          46.15384615384615
         ],
         "yaxis": "y2"
        }
       ],
       "layout": {
        "barmode": "stack",
        "height": 500,
        "paper_bgcolor": "rgb(243, 243, 243)",
        "plot_bgcolor": "rgb(243, 243, 243)",
        "title": "Survival vs Title",
        "width": 1000,
        "xaxis": {
         "title": "title"
        },
        "yaxis": {
         "title": "Number of passengers"
        },
        "yaxis2": {
         "anchor": "x",
         "dtick": 19.2,
         "overlaying": "y",
         "rangemode": "tozero",
         "side": "right",
         "tickfont": {
          "color": "rgb(148, 103, 189)"
         },
         "title": "Survival %",
         "titlefont": {
          "color": "rgb(148, 103, 189)"
         }
        }
       }
      },
      "text/html": [
       "<div id=\"699f53c7-c54f-4aa7-9a4e-41348dcd8abc\" style=\"height: 500px; width: 1000px;\" class=\"plotly-graph-div\"></div><script type=\"text/javascript\">require([\"plotly\"], function(Plotly) { window.PLOTLYENV=window.PLOTLYENV || {};window.PLOTLYENV.BASE_URL=\"https://plot.ly\";Plotly.newPlot(\"699f53c7-c54f-4aa7-9a4e-41348dcd8abc\", [{\"type\": \"bar\", \"x\": [\"Mr\", \"Miss\", \"Mrs\", \"Master\", \"Rare\"], \"y\": [65, 105, 77, 20, 6], \"name\": \"Survived\", \"marker\": {\"color\": \"rgba(55, 128, 191, 0.7)\", \"line\": {\"color\": \"rgba(55, 128, 191, 1.0)\", \"width\": 2}}}, {\"type\": \"bar\", \"x\": [\"Mr\", \"Miss\", \"Mrs\", \"Master\", \"Rare\"], \"y\": [354, 43, 20, 15, 7], \"name\": \"Drowned\", \"marker\": {\"color\": \"rgba(219, 64, 82, 0.7)\", \"line\": {\"color\": \"rgba(219, 64, 82, 1.0)\", \"width\": 2}}}, {\"type\": \"scatter\", \"x\": [\"Mr\", \"Miss\", \"Mrs\", \"Master\", \"Rare\"], \"y\": [15.513126491646778, 70.94594594594595, 79.38144329896907, 57.142857142857146, 46.15384615384615], \"name\": \"Survival %\", \"mode\": \"lines+markers\", \"yaxis\": \"y2\"}], {\"barmode\": \"stack\", \"title\": \"Survival vs Title\", \"width\": 1000, \"height\": 500, \"paper_bgcolor\": \"rgb(243, 243, 243)\", \"plot_bgcolor\": \"rgb(243, 243, 243)\", \"yaxis\": {\"title\": \"Number of passengers\"}, \"xaxis\": {\"title\": \"title\"}, \"yaxis2\": {\"title\": \"Survival %\", \"titlefont\": {\"color\": \"rgb(148, 103, 189)\"}, \"tickfont\": {\"color\": \"rgb(148, 103, 189)\"}, \"overlaying\": \"y\", \"side\": \"right\", \"anchor\": \"x\", \"rangemode\": \"tozero\", \"dtick\": 19.2}}, {\"showLink\": true, \"linkText\": \"Export to plot.ly\"})});</script>"
      ],
      "text/vnd.plotly.v1+html": [
       "<div id=\"699f53c7-c54f-4aa7-9a4e-41348dcd8abc\" style=\"height: 500px; width: 1000px;\" class=\"plotly-graph-div\"></div><script type=\"text/javascript\">require([\"plotly\"], function(Plotly) { window.PLOTLYENV=window.PLOTLYENV || {};window.PLOTLYENV.BASE_URL=\"https://plot.ly\";Plotly.newPlot(\"699f53c7-c54f-4aa7-9a4e-41348dcd8abc\", [{\"type\": \"bar\", \"x\": [\"Mr\", \"Miss\", \"Mrs\", \"Master\", \"Rare\"], \"y\": [65, 105, 77, 20, 6], \"name\": \"Survived\", \"marker\": {\"color\": \"rgba(55, 128, 191, 0.7)\", \"line\": {\"color\": \"rgba(55, 128, 191, 1.0)\", \"width\": 2}}}, {\"type\": \"bar\", \"x\": [\"Mr\", \"Miss\", \"Mrs\", \"Master\", \"Rare\"], \"y\": [354, 43, 20, 15, 7], \"name\": \"Drowned\", \"marker\": {\"color\": \"rgba(219, 64, 82, 0.7)\", \"line\": {\"color\": \"rgba(219, 64, 82, 1.0)\", \"width\": 2}}}, {\"type\": \"scatter\", \"x\": [\"Mr\", \"Miss\", \"Mrs\", \"Master\", \"Rare\"], \"y\": [15.513126491646778, 70.94594594594595, 79.38144329896907, 57.142857142857146, 46.15384615384615], \"name\": \"Survival %\", \"mode\": \"lines+markers\", \"yaxis\": \"y2\"}], {\"barmode\": \"stack\", \"title\": \"Survival vs Title\", \"width\": 1000, \"height\": 500, \"paper_bgcolor\": \"rgb(243, 243, 243)\", \"plot_bgcolor\": \"rgb(243, 243, 243)\", \"yaxis\": {\"title\": \"Number of passengers\"}, \"xaxis\": {\"title\": \"title\"}, \"yaxis2\": {\"title\": \"Survival %\", \"titlefont\": {\"color\": \"rgb(148, 103, 189)\"}, \"tickfont\": {\"color\": \"rgb(148, 103, 189)\"}, \"overlaying\": \"y\", \"side\": \"right\", \"anchor\": \"x\", \"rangemode\": \"tozero\", \"dtick\": 19.2}}, {\"showLink\": true, \"linkText\": \"Export to plot.ly\"})});</script>"
      ]
     },
     "metadata": {},
     "output_type": "display_data"
    }
   ],
   "source": [
    "title = train_set[['Title', 'Survived']].groupby(['Title']).count()\n",
    "title_sur = train_set[['Title', 'Survived']].groupby(['Title']).sum()\n",
    "\n",
    "trace1 = go.Bar(\n",
    "    x = ['Mr', 'Miss', 'Mrs', 'Master', 'Rare'],\n",
    "    y = title_sur['Survived'].tolist(),\n",
    "    name='Survived',\n",
    "    marker=dict(\n",
    "        color='rgba(55, 128, 191, 0.7)',\n",
    "        line=dict(\n",
    "            color='rgba(55, 128, 191, 1.0)',\n",
    "            width=2,\n",
    "        )\n",
    "    )\n",
    ")\n",
    "trace2 = go.Bar(\n",
    "   x = ['Mr', 'Miss', 'Mrs', 'Master', 'Rare'],\n",
    "    y = (title['Survived'] - title_sur['Survived']).tolist(),\n",
    "    name='Drowned',\n",
    "    marker=dict(\n",
    "        color='rgba(219, 64, 82, 0.7)',\n",
    "        line=dict(\n",
    "            color='rgba(219, 64, 82, 1.0)',\n",
    "            width=2,\n",
    "        )\n",
    "    )\n",
    ")\n",
    "trace3 = go.Scatter(\n",
    "    x = ['Mr', 'Miss', 'Mrs', 'Master', 'Rare'],\n",
    "    y = (title_sur['Survived'] * 100 / title['Survived']).tolist(),\n",
    "    name='Survival %',\n",
    "    mode = 'lines+markers',\n",
    "    yaxis='y2'\n",
    ")\n",
    "\n",
    "data = [trace1, trace2, trace3]\n",
    "layout = go.Layout(\n",
    "    barmode='stack',\n",
    "    title = 'Survival vs Title',\n",
    "    width=1000,\n",
    "    height=500,\n",
    "    paper_bgcolor='rgb(243, 243, 243)',\n",
    "    plot_bgcolor='rgb(243, 243, 243)',\n",
    "    yaxis = dict(title= 'Number of passengers'),\n",
    "    xaxis = dict(title= 'title'),\n",
    "    yaxis2=dict(\n",
    "        title='Survival %',\n",
    "        titlefont=dict(\n",
    "            color='rgb(148, 103, 189)'\n",
    "        ),\n",
    "        tickfont=dict(\n",
    "            color='rgb(148, 103, 189)'\n",
    "        ),\n",
    "        overlaying='y',\n",
    "        side='right',\n",
    "        anchor = 'x',\n",
    "        rangemode = 'tozero',\n",
    "        dtick = 19.2\n",
    "    )\n",
    ")\n",
    "\n",
    "fig = go.Figure(data=data, layout=layout)\n",
    "py.iplot(fig)"
   ]
  },
  {
   "cell_type": "markdown",
   "metadata": {},
   "source": [
    "### 3.9. Data Cleaning\n",
    "<a id=\"data_cleaning\"></a>"
   ]
  },
  {
   "cell_type": "code",
   "execution_count": 35,
   "metadata": {},
   "outputs": [
    {
     "data": {
      "text/plain": [
       "Index(['PassengerId', 'Survived', 'Pclass', 'Name', 'Sex', 'Age', 'SibSp',\n",
       "       'Parch', 'Ticket', 'Fare', 'Cabin', 'Embarked', 'Has_Cabin',\n",
       "       'FamilySize', 'IsAlone', 'Title'],\n",
       "      dtype='object')"
      ]
     },
     "execution_count": 35,
     "metadata": {},
     "output_type": "execute_result"
    }
   ],
   "source": [
    "train_set.columns"
   ]
  },
  {
   "cell_type": "code",
   "execution_count": 36,
   "metadata": {
    "collapsed": true
   },
   "outputs": [],
   "source": [
    "# Feature Selection\n",
    "drop_elements = ['PassengerId', 'Name', 'Ticket', 'Cabin', 'SibSp', 'Parch']\n",
    "\n",
    "train_set = train_set.drop(drop_elements, axis = 1)\n",
    "test_set = test_set.drop(drop_elements, axis = 1)"
   ]
  },
  {
   "cell_type": "code",
   "execution_count": 37,
   "metadata": {},
   "outputs": [
    {
     "name": "stdout",
     "output_type": "stream",
     "text": [
      "     Survived  Pclass  Sex  Age  Fare  Embarked  Has_Cabin  FamilySize  \\\n",
      "140         0       3    0    1     2         1          0           3   \n",
      "439         0       2    1    1     1         0          0           1   \n",
      "817         0       2    1    1     3         1          0           3   \n",
      "378         0       3    1    1     0         1          0           1   \n",
      "491         0       3    1    1     0         0          0           1   \n",
      "331         0       1    1    2     2         0          1           1   \n",
      "588         0       3    1    1     1         0          0           1   \n",
      "358         1       3    0    2     0         2          0           1   \n",
      "674         0       2    1    1     0         0          0           1   \n",
      "162         0       3    1    1     0         0          0           1   \n",
      "\n",
      "     IsAlone  Title  \n",
      "140        0      3  \n",
      "439        1      1  \n",
      "817        0      1  \n",
      "378        1      1  \n",
      "491        1      1  \n",
      "331        1      1  \n",
      "588        1      1  \n",
      "358        1      2  \n",
      "674        1      1  \n",
      "162        1      1  \n"
     ]
    }
   ],
   "source": [
    "print (train_set.head(10))\n",
    "\n",
    "train = train_set.values\n",
    "test  = test_set.values"
   ]
  },
  {
   "cell_type": "markdown",
   "metadata": {},
   "source": [
    "### 3.10. Correlation Heatmap\n",
    "<a id=\"correlation_heatmap\"></a>"
   ]
  },
  {
   "cell_type": "code",
   "execution_count": 38,
   "metadata": {},
   "outputs": [
    {
     "data": {
      "image/png": "[encoded data removed]",
      "text/plain": [
       "<matplotlib.figure.Figure at 0x6643570a90>"
      ]
     },
     "metadata": {},
     "output_type": "display_data"
    }
   ],
   "source": [
    "colormap = plt.cm.viridis\n",
    "plt.figure(figsize=(15,15))\n",
    "plt.title('Pearson Correlation of Features', y=1.05, size=15)\n",
    "sns.heatmap(train_set.astype(float).corr(),linewidths=0.1,vmax=1.0, square=True, cmap=colormap, linecolor='white', annot=True)\n",
    "plt.show()"
   ]
  },
  {
   "cell_type": "markdown",
   "metadata": {},
   "source": [
    "## 4. Classification\n",
    "<a id=\"classification\"></a>"
   ]
  },
  {
   "cell_type": "markdown",
   "metadata": {},
   "source": [
    "### 4.1. Dataset preperation\n",
    "<a id=\"dataset_preperation\"></a>"
   ]
  },
  {
   "cell_type": "code",
   "execution_count": 39,
   "metadata": {
    "collapsed": true
   },
   "outputs": [],
   "source": [
    "y_train = train_set['Survived'].ravel()\n",
    "X_train = train_set.drop(['Survived'], axis=1).values\n",
    "\n",
    "y_test = test_set['Survived'].ravel()\n",
    "X_test = test_set.drop(['Survived'], axis=1).values"
   ]
  },
  {
   "cell_type": "markdown",
   "metadata": {},
   "source": [
    "### 4.2. Decision Tree Classifier\n",
    "<a id=\"decision_tree_classifier\"></a>"
   ]
  },
  {
   "cell_type": "code",
   "execution_count": 40,
   "metadata": {},
   "outputs": [
    {
     "data": {
      "text/plain": [
       "DecisionTreeClassifier(class_weight=None, criterion='gini', max_depth=None,\n",
       "            max_features=None, max_leaf_nodes=None,\n",
       "            min_impurity_split=1e-07, min_samples_leaf=1,\n",
       "            min_samples_split=2, min_weight_fraction_leaf=0.0,\n",
       "            presort=False, random_state=0, splitter='best')"
      ]
     },
     "execution_count": 40,
     "metadata": {},
     "output_type": "execute_result"
    }
   ],
   "source": [
    "from sklearn.tree import DecisionTreeClassifier\n",
    "classifier_DTC = DecisionTreeClassifier(criterion='gini', random_state = 0)\n",
    "classifier_DTC.fit(X_train, y_train)"
   ]
  },
  {
   "cell_type": "code",
   "execution_count": 41,
   "metadata": {},
   "outputs": [
    {
     "data": {
      "text/plain": [
       "82.680000000000007"
      ]
     },
     "execution_count": 41,
     "metadata": {},
     "output_type": "execute_result"
    }
   ],
   "source": [
    "acc_DTC = round(classifier_DTC.score(X_test, y_test) * 100, 2)\n",
    "acc_DTC"
   ]
  },
  {
   "cell_type": "markdown",
   "metadata": {},
   "source": [
    "### 4.3. Classifiers feature importances\n",
    "<a id=\"classifiers_feature_importances\"></a>"
   ]
  },
  {
   "cell_type": "code",
   "execution_count": 42,
   "metadata": {},
   "outputs": [
    {
     "data": {
      "application/vnd.plotly.v1+json": {
       "data": [
        {
         "mode": "lines+markers",
         "name": "Decision Tree Classifier",
         "type": "scatter",
         "x": [
          "Pclass",
          "Sex",
          "Age",
          "Fare",
          "Embarked",
          "Has_Cabin",
          "FamilySize",
          "IsAlone",
          "Title"
         ],
         "y": [
          0.11699430971500488,
          0.006870820632150403,
          0.07062296348455604,
          0.06571922608488148,
          0.05268793889610188,
          0.03339327050138741,
          0.16314115899831802,
          0.009724092852982497,
          0.4808462188346174
         ]
        }
       ],
       "layout": {
        "barmode": "stack",
        "height": 600,
        "paper_bgcolor": "rgb(243, 243, 243)",
        "plot_bgcolor": "rgb(243, 243, 243)",
        "title": "Features importance",
        "width": 1000,
        "xaxis": {
         "title": "Features"
        },
        "yaxis": {
         "title": "Feature importance"
        }
       }
      },
      "text/html": [
       "<div id=\"75936ece-d202-4fb4-9da3-082fc7ca0aec\" style=\"height: 600px; width: 1000px;\" class=\"plotly-graph-div\"></div><script type=\"text/javascript\">require([\"plotly\"], function(Plotly) { window.PLOTLYENV=window.PLOTLYENV || {};window.PLOTLYENV.BASE_URL=\"https://plot.ly\";Plotly.newPlot(\"75936ece-d202-4fb4-9da3-082fc7ca0aec\", [{\"type\": \"scatter\", \"x\": [\"Pclass\", \"Sex\", \"Age\", \"Fare\", \"Embarked\", \"Has_Cabin\", \"FamilySize\", \"IsAlone\", \"Title\"], \"y\": [0.11699430971500488, 0.006870820632150403, 0.07062296348455604, 0.06571922608488148, 0.05268793889610188, 0.03339327050138741, 0.16314115899831802, 0.009724092852982497, 0.4808462188346174], \"name\": \"Decision Tree Classifier\", \"mode\": \"lines+markers\"}], {\"barmode\": \"stack\", \"title\": \"Features importance\", \"width\": 1000, \"height\": 600, \"paper_bgcolor\": \"rgb(243, 243, 243)\", \"plot_bgcolor\": \"rgb(243, 243, 243)\", \"yaxis\": {\"title\": \"Feature importance\"}, \"xaxis\": {\"title\": \"Features\"}}, {\"showLink\": true, \"linkText\": \"Export to plot.ly\"})});</script>"
      ],
      "text/vnd.plotly.v1+html": [
       "<div id=\"75936ece-d202-4fb4-9da3-082fc7ca0aec\" style=\"height: 600px; width: 1000px;\" class=\"plotly-graph-div\"></div><script type=\"text/javascript\">require([\"plotly\"], function(Plotly) { window.PLOTLYENV=window.PLOTLYENV || {};window.PLOTLYENV.BASE_URL=\"https://plot.ly\";Plotly.newPlot(\"75936ece-d202-4fb4-9da3-082fc7ca0aec\", [{\"type\": \"scatter\", \"x\": [\"Pclass\", \"Sex\", \"Age\", \"Fare\", \"Embarked\", \"Has_Cabin\", \"FamilySize\", \"IsAlone\", \"Title\"], \"y\": [0.11699430971500488, 0.006870820632150403, 0.07062296348455604, 0.06571922608488148, 0.05268793889610188, 0.03339327050138741, 0.16314115899831802, 0.009724092852982497, 0.4808462188346174], \"name\": \"Decision Tree Classifier\", \"mode\": \"lines+markers\"}], {\"barmode\": \"stack\", \"title\": \"Features importance\", \"width\": 1000, \"height\": 600, \"paper_bgcolor\": \"rgb(243, 243, 243)\", \"plot_bgcolor\": \"rgb(243, 243, 243)\", \"yaxis\": {\"title\": \"Feature importance\"}, \"xaxis\": {\"title\": \"Features\"}}, {\"showLink\": true, \"linkText\": \"Export to plot.ly\"})});</script>"
      ]
     },
     "metadata": {},
     "output_type": "display_data"
    }
   ],
   "source": [
    "feature_importances_DTC = classifier_DTC.feature_importances_\n",
    "columns = train_set.drop(['Survived'], axis=1).columns.values\n",
    "\n",
    "trace1 = go.Scatter(\n",
    "    x = columns,\n",
    "    y = feature_importances_DTC.tolist(),\n",
    "    name='Decision Tree Classifier',\n",
    "    mode = 'lines+markers',\n",
    ")\n",
    "\n",
    "data = [trace1]\n",
    "layout = go.Layout(\n",
    "    barmode='stack',\n",
    "    title = 'Features importance',\n",
    "    width=1000,\n",
    "    height=600,\n",
    "    paper_bgcolor='rgb(243, 243, 243)',\n",
    "    plot_bgcolor='rgb(243, 243, 243)',\n",
    "    yaxis = dict(title= 'Feature importance'),\n",
    "    xaxis = dict(title= 'Features')\n",
    ")\n",
    "\n",
    "fig = go.Figure(data=data, layout=layout)\n",
    "py.iplot(fig)"
   ]
  },
  {
   "cell_type": "markdown",
   "metadata": {
    "collapsed": true
   },
   "source": [
    "## 5. Resources\n",
    "<a id=\"resources\"></a>"
   ]
  },
  {
   "cell_type": "markdown",
   "metadata": {},
   "source": [
    "https://machinelearningmastery.com/discover-feature-engineering-how-to-engineer-features-and-how-to-get-good-at-it/\n",
    "\n",
    "https://machinelearningmastery.com/how-to-prepare-data-for-machine-learning/\n",
    "\n",
    "https://www.youtube.com/watch?time_continue=59&v=drUToKxEAUA"
   ]
  },
  {
   "cell_type": "code",
   "execution_count": null,
   "metadata": {
    "collapsed": true
   },
   "outputs": [],
   "source": []
  }
 ],
 "metadata": {
  "kernelspec": {
   "display_name": "Python 3",
   "language": "python",
   "name": "python3"
  },
  "language_info": {
   "codemirror_mode": {
    "name": "ipython",
    "version": 3
   },
   "file_extension": ".py",
   "mimetype": "text/x-python",
   "name": "python",
   "nbconvert_exporter": "python",
   "pygments_lexer": "ipython3",
   "version": "3.6.1"
  }
 },
 "nbformat": 4,
 "nbformat_minor": 2
}
