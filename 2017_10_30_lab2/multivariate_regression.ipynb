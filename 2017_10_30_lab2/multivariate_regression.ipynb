{
 "cells": [
  {
   "cell_type": "markdown",
   "metadata": {},
   "source": [
    "# Welcome!\n",
    "\n",
    "Today we're going to present last-time's topic - **Linear Regression** in a more generalized way. You'll see that this algorithm doesn't change a lot, when we want to fit our model to more features than just one!\n",
    "\n",
    "This will be an occasion to introduce and tackle some problems faced by data scientists on a daily basis, such as:\n",
    "- data normalization\n",
    "- regularization of the cost function\n",
    "- overfitting\n",
    "- dividing the data into training and test sets"
   ]
  },
  {
   "cell_type": "code",
   "execution_count": 1,
   "metadata": {},
   "outputs": [],
   "source": [
    "# imports\n",
    "import numpy as np\n",
    "import matplotlib.pyplot as plt\n",
    "from ipywidgets import interact, fixed\n",
    "import ipywidgets as widgets\n",
    "import solutions\n",
    "import csv\n",
    "import random\n",
    "\n",
    "%matplotlib inline"
   ]
  },
  {
   "cell_type": "markdown",
   "metadata": {},
   "source": [
    "# Problem\n",
    "\n",
    "## Previously\n",
    "\n",
    "### $$\\hat{y} = h_W(x) = w_0 + w_1x$$ \n",
    "\n",
    "## Today\n",
    "\n",
    "### $$\\hat{y} = h_W(x_1, x_2, ..., x_k) = w_0 + w_1x_1+ w_2x_2+ w_3x_3+ ... + w_kx_k = w_0 + \\sum_{i=1}^k w_i x_i$$ \n",
    "\n",
    "## or:\n",
    "\n",
    "### $W$ - vector of coefficients or 'weights'\n",
    "\n",
    "$$ W = [w_0, w_1, ..., w_k]$$\n",
    "\n",
    "### $X^{(i)}$ - vector of  features of an i-th test case\n",
    "$$ X^{(i)} = [x^{(i)}_0, x^{(i)}_1, ... x^{(i)}_k] $$\n",
    "... where $x_0$ = 1, so that\n",
    "$$h_W(X^{(i)}) = \\sum_{j=0}^k w_j x_j =  X^{(i)'} * W$$\n"
   ]
  },
  {
   "cell_type": "code",
   "execution_count": 2,
   "metadata": {},
   "outputs": [
    {
     "name": "stdout",
     "output_type": "stream",
     "text": [
      "[[1 2 3]\n",
      " [4 5 6]]\n",
      "[[ 1.  1.  2.  3.]\n",
      " [ 1.  4.  5.  6.]]\n"
     ]
    }
   ],
   "source": [
    "def add_bias_feature(X):\n",
    "       return np.c_[np.ones(len(X)), X]\n",
    "\n",
    "X = np.array([[1,2,3], [4,5,6]])\n",
    "print(X)\n",
    "print(add_bias_feature(X))"
   ]
  },
  {
   "cell_type": "code",
   "execution_count": 3,
   "metadata": {},
   "outputs": [
    {
     "ename": "SyntaxError",
     "evalue": "unexpected EOF while parsing (<ipython-input-3-1c2842ad0924>, line 4)",
     "output_type": "error",
     "traceback": [
      "\u001b[0;36m  File \u001b[0;32m\"<ipython-input-3-1c2842ad0924>\"\u001b[0;36m, line \u001b[0;32m4\u001b[0m\n\u001b[0;31m    # return a vector of hypotheses for *all* x-s\u001b[0m\n\u001b[0m                                                  ^\u001b[0m\n\u001b[0;31mSyntaxError\u001b[0m\u001b[0;31m:\u001b[0m unexpected EOF while parsing\n"
     ]
    }
   ],
   "source": [
    "def hypotheses(W, X):\n",
    "    # W: a vector of weights\n",
    "    # X: a list of feature vectors of some objects (so effectively a matrix)\n",
    "    # return a vector of hypotheses for *all* x-s "
   ]
  },
  {
   "cell_type": "code",
   "execution_count": 4,
   "metadata": {},
   "outputs": [],
   "source": [
    "hypotheses = solutions.hypotheses"
   ]
  },
  {
   "cell_type": "markdown",
   "metadata": {},
   "source": [
    "# Cost function\n",
    "\n",
    "### $$L = \\frac{1}{2N}\\sum_{i=0}^N(h_W(x^{(i)}) - y^{(i)})^2 $$\n",
    "## Previously\n",
    "\n",
    "### $$L(w_0, w_1) = \\frac{1}{2N}\\sum_{i=0}^N(w_0 + w_1x^{(i)} - y^{(i)})^2 $$\n",
    "\n",
    "## Today\n",
    "\n",
    "### $$L(w_0, w_1, ... w_n) = L(W) = \\frac{1}{2N}\\sum_{i=0}^N(\\sum_{j=0}^k w_j x^{(i)}_j - y^{(i)})^2 = \\frac{1}{2N}\\sum_{i=0}^N (h_W(x^{(i)}) - y^{(i)})^2$$"
   ]
  },
  {
   "cell_type": "code",
   "execution_count": null,
   "metadata": {},
   "outputs": [],
   "source": [
    "def cost(W, X, Y):\n",
    "    # W: a vector of weights\n",
    "    # X: a list of feature vectors of some objects (so effectively a matrix)\n",
    "    # Y: a vector of our values\n",
    "    # return cost (a scalar)"
   ]
  },
  {
   "cell_type": "code",
   "execution_count": 9,
   "metadata": {},
   "outputs": [
    {
     "name": "stdout",
     "output_type": "stream",
     "text": [
      "[1 2 3]\n"
     ]
    }
   ],
   "source": [
    "W = np.array([1,2,3])\n",
    "print(np.transpose(W))"
   ]
  },
  {
   "cell_type": "code",
   "execution_count": 5,
   "metadata": {},
   "outputs": [],
   "source": [
    "cost = solutions.cost"
   ]
  },
  {
   "cell_type": "markdown",
   "metadata": {},
   "source": [
    "# Gradient descent\n",
    "\n",
    "For every iteration:\n",
    "* calculate partial derivatives of cost function with respect to every element of W:\n",
    "\n",
    "$$\\epsilon_j = \\frac{\\partial}{\\partial w_j}L(W) = \\frac{1}{N} \\sum_{i=1}^N(h_W(x^{(i)}) - y^{(i)})x_j^{(i)}$$\n",
    "\n",
    "* **simultaneously** update every element of W:\n",
    "\n",
    "$$w_j = w_j - \\alpha \\epsilon_j$$ \n",
    "\n",
    "Where $\\alpha$ is our learning rate."
   ]
  },
  {
   "cell_type": "code",
   "execution_count": null,
   "metadata": {},
   "outputs": [],
   "source": [
    "def gradient_step(W, X, Y, learning_rate=0.01):\n",
    "    # W: a vector of weights\n",
    "    # X: a list of feature vectors of some objects (so effectively a matrix)\n",
    "    # Y: a vector of our values\n",
    "    # return a vector of new values of W"
   ]
  },
  {
   "cell_type": "code",
   "execution_count": 10,
   "metadata": {},
   "outputs": [],
   "source": [
    "gradient_step = solutions.gradient_step"
   ]
  },
  {
   "cell_type": "markdown",
   "metadata": {},
   "source": [
    "# Polynomial regression: a possible use case\n",
    "\n",
    "This is a plot of a secret polynomial:"
   ]
  },
  {
   "cell_type": "code",
   "execution_count": 11,
   "metadata": {},
   "outputs": [
    {
     "data": {
      "image/png": "[encoded data removed]",
      "text/plain": [
       "<matplotlib.figure.Figure at 0x7fd9e04c0320>"
      ]
     },
     "metadata": {},
     "output_type": "display_data"
    }
   ],
   "source": [
    "secret = solutions.secret_polynomial\n",
    "X = np.arange(-4, 4, 0.7)\n",
    "Y = [secret(x) for x in X]\n",
    "plt.scatter(X, Y)\n",
    "plt.show()"
   ]
  },
  {
   "cell_type": "markdown",
   "metadata": {},
   "source": [
    "What degree of a polynomial could that be?"
   ]
  },
  {
   "cell_type": "code",
   "execution_count": 12,
   "metadata": {},
   "outputs": [],
   "source": [
    "def to_poly_features(X, proposed_degree):\n",
    "    # notice that x ** 0 = 1, so bias feature is already added here\n",
    "    return np.array([[x ** n for n in range(proposed_degree)] for x in X])\n"
   ]
  },
  {
   "cell_type": "code",
   "execution_count": 15,
   "metadata": {},
   "outputs": [
    {
     "name": "stdout",
     "output_type": "stream",
     "text": [
      "[  1.00000000e+00  -4.00000000e+00   1.60000000e+01  -6.40000000e+01\n",
      "   2.56000000e+02  -1.02400000e+03   4.09600000e+03]\n",
      "\n",
      "[  1.00000000e+00  -3.30000000e+00   1.08900000e+01  -3.59370000e+01\n",
      "   1.18592100e+02  -3.91353930e+02   1.29146797e+03]\n",
      "\n",
      "[   1.         -2.6         6.76      -17.576      45.6976   -118.81376\n",
      "  308.915776]\n",
      "\n",
      "[  1.        -1.9        3.61      -6.859     13.0321   -24.76099\n",
      "  47.045881]\n",
      "\n",
      "[ 1.       -1.2       1.44     -1.728     2.0736   -2.48832   2.985984]\n",
      "\n"
     ]
    }
   ],
   "source": [
    "proposed_degree = 7\n",
    "features = to_poly_features(X, proposed_degree)\n",
    "targets = np.array(Y)\n",
    "for i in range(5):\n",
    "    print(features[i])\n",
    "    print()"
   ]
  },
  {
   "cell_type": "markdown",
   "metadata": {},
   "source": [
    "## Feature scaling to the rescue!\n",
    "\n",
    "We want all our features to be roughly in the same range, i.e [-1, 1]. This is called **data normalization**. \n",
    "\n",
    "One way to achieve it is **mean normalization**:\n",
    "\n",
    "$$x_i = \\frac{x_i - \\mu_i}{max(X) - min(X)}$$\n",
    "\n",
    "Of course, since $x_0$ is always equal to 1, we don't normalize it!"
   ]
  },
  {
   "cell_type": "code",
   "execution_count": null,
   "metadata": {},
   "outputs": [],
   "source": [
    "def mean_normalization(X, means=None, ranges=None):\n",
    "    # implement me!\n",
    "    # X - a matrix of features\n",
    "    # calculate means and ranges if necessary\n",
    "    # calculate normalized matrix X using calculated or given means and ranges\n",
    "    # return X, means and ranges (we may want to reuse them)\n",
    "    # do not normalize the first column of ones!"
   ]
  },
  {
   "cell_type": "code",
   "execution_count": 16,
   "metadata": {},
   "outputs": [],
   "source": [
    "mean_normalization = solutions.mean_normalization"
   ]
  },
  {
   "cell_type": "code",
   "execution_count": 19,
   "metadata": {},
   "outputs": [
    {
     "name": "stdout",
     "output_type": "stream",
     "text": [
      "[ 1.         -0.5         0.63523392 -0.53525856  0.75942226 -0.56957032\n",
      "  0.81269324]\n",
      "\n",
      "[ 1.         -0.40909091  0.31505848 -0.29049393  0.2226693  -0.20120448\n",
      "  0.12799303]\n",
      "\n",
      "[ 1.         -0.31818182  0.05628655 -0.13034984 -0.06207662 -0.04251467\n",
      " -0.11188788]\n",
      "\n",
      "[ 1.         -0.22727273 -0.14108187 -0.03687649 -0.18967703  0.0122487\n",
      " -0.17582096]\n",
      "\n",
      "[ 1.         -0.13636364 -0.27704678  0.00787594 -0.23248394  0.02521723\n",
      " -0.18657777]\n",
      "\n"
     ]
    }
   ],
   "source": [
    "features, means, ranges = mean_normalization(features)\n",
    "for i in range(5):\n",
    "    print(features[i])\n",
    "    print()"
   ]
  },
  {
   "cell_type": "code",
   "execution_count": 23,
   "metadata": {},
   "outputs": [
    {
     "name": "stdout",
     "output_type": "stream",
     "text": [
      "[ 0.08529738  0.94821077  0.57347724  0.60373554  0.02383439  0.21144596\n",
      "  0.0867517 ]\n"
     ]
    },
    {
     "data": {
      "image/png": "[encoded data removed]",
      "text/plain": [
       "<matplotlib.figure.Figure at 0x7fd9c0925f60>"
      ]
     },
     "metadata": {},
     "output_type": "display_data"
    },
    {
     "name": "stdout",
     "output_type": "stream",
     "text": [
      "[  1.92480598 -20.52912151  -0.15243825  30.62086958  -0.86716414\n",
      "  16.05829347   3.30661736]\n"
     ]
    }
   ],
   "source": [
    "W = np.random.rand(proposed_degree)\n",
    "print(W)\n",
    "costs = []\n",
    "steps = 100000\n",
    "\n",
    "for i in range(steps):\n",
    "    W = gradient_step(W, features, targets, 0.01)\n",
    "    costs.append(cost(W, features, targets))\n",
    "\n",
    "# it is always a good idea to plot the cost function to see how learning goes\n",
    "step_nums = [i for i in range(steps)]\n",
    "plt.scatter(x=step_nums, y=costs)\n",
    "plt.show()\n",
    "print(W)"
   ]
  },
  {
   "cell_type": "code",
   "execution_count": 24,
   "metadata": {},
   "outputs": [
    {
     "data": {
      "image/png": "[encoded data removed]",
      "text/plain": [
       "<matplotlib.figure.Figure at 0x7fd9b8a19320>"
      ]
     },
     "metadata": {},
     "output_type": "display_data"
    },
    {
     "data": {
      "text/plain": [
       "array([  1.92480598, -20.52912151,  -0.15243825,  30.62086958,\n",
       "        -0.86716414,  16.05829347,   3.30661736])"
      ]
     },
     "execution_count": 24,
     "metadata": {},
     "output_type": "execute_result"
    }
   ],
   "source": [
    "calculated_targets = hypotheses(W, features)\n",
    "plt.scatter(X, Y)\n",
    "plt.plot(X, calculated_targets, color='red')\n",
    "plt.show()\n",
    "W"
   ]
  },
  {
   "cell_type": "code",
   "execution_count": 25,
   "metadata": {},
   "outputs": [
    {
     "data": {
      "image/png": "[encoded data removed]",
      "text/plain": [
       "<matplotlib.figure.Figure at 0x7fd9b89211d0>"
      ]
     },
     "metadata": {},
     "output_type": "display_data"
    },
    {
     "data": {
      "text/plain": [
       "array([  1.92480598, -20.52912151,  -0.15243825,  30.62086958,\n",
       "        -0.86716414,  16.05829347,   3.30661736])"
      ]
     },
     "execution_count": 25,
     "metadata": {},
     "output_type": "execute_result"
    }
   ],
   "source": [
    "more_X = np.arange(-6, 6, 0.3)\n",
    "more_Y = [secret(x) for x in more_X]\n",
    "more_features = to_poly_features(more_X, proposed_degree)\n",
    "more_features, means, ranges = mean_normalization(more_features, means, ranges)\n",
    "more_targets = np.array(Y)\n",
    "\n",
    "more_calculated_targets = hypotheses(W, more_features)\n",
    "plt.scatter(more_X, more_Y)\n",
    "plt.plot(more_X, more_calculated_targets, color='red')\n",
    "plt.show()\n",
    "W"
   ]
  },
  {
   "cell_type": "code",
   "execution_count": 26,
   "metadata": {},
   "outputs": [
    {
     "data": {
      "application/vnd.jupyter.widget-view+json": {
       "model_id": "fcfc6b7c425d45aabc0ba6c43cfd60db",
       "version_major": 2,
       "version_minor": 0
      },
      "text/html": [
       "<p>Failed to display Jupyter Widget of type <code>interactive</code>.</p>\n",
       "<p>\n",
       "  If you're reading this message in Jupyter Notebook or JupyterLab, it may mean\n",
       "  that the widgets JavaScript is still loading. If this message persists, it\n",
       "  likely means that the widgets JavaScript library is either not installed or\n",
       "  not enabled. See the <a href=\"https://ipywidgets.readthedocs.io/en/stable/user_install.html\">Jupyter\n",
       "  Widgets Documentation</a> for setup instructions.\n",
       "</p>\n",
       "<p>\n",
       "  If you're reading this message in another notebook frontend (for example, a static\n",
       "  rendering on GitHub or <a href=\"https://nbviewer.jupyter.org/\">NBViewer</a>),\n",
       "  it may mean that your frontend doesn't currently support widgets.\n",
       "</p>\n"
      ],
      "text/plain": [
       "interactive(children=(IntSlider(value=1000, description='steps', max=1000000, min=100, step=1000), IntSlider(value=1, description='degree', max=30, min=1), Output()), _dom_classes=('widget-interact',))"
      ]
     },
     "metadata": {},
     "output_type": "display_data"
    },
    {
     "data": {
      "text/plain": [
       "<function solutions.perform_polynomial_regression>"
      ]
     },
     "execution_count": 26,
     "metadata": {},
     "output_type": "execute_result"
    }
   ],
   "source": [
    "interact(solutions.perform_polynomial_regression,\n",
    "        steps=widgets.IntSlider(min=100,max=1000000,step=1000,value=1000), \n",
    "        degree=widgets.IntSlider(min=1,max=30,step=1,value=1))"
   ]
  },
  {
   "cell_type": "markdown",
   "metadata": {},
   "source": [
    "# Let's play with real-life data!\n"
   ]
  },
  {
   "cell_type": "code",
   "execution_count": 27,
   "metadata": {},
   "outputs": [
    {
     "data": {
      "text/plain": [
       "array([[  2.10400000e+03,   3.00000000e+00,   3.99900000e+05],\n",
       "       [  1.60000000e+03,   3.00000000e+00,   3.29900000e+05],\n",
       "       [  2.40000000e+03,   3.00000000e+00,   3.69000000e+05],\n",
       "       [  1.41600000e+03,   2.00000000e+00,   2.32000000e+05],\n",
       "       [  3.00000000e+03,   4.00000000e+00,   5.39900000e+05],\n",
       "       [  1.98500000e+03,   4.00000000e+00,   2.99900000e+05],\n",
       "       [  1.53400000e+03,   3.00000000e+00,   3.14900000e+05],\n",
       "       [  1.42700000e+03,   3.00000000e+00,   1.98999000e+05],\n",
       "       [  1.38000000e+03,   3.00000000e+00,   2.12000000e+05],\n",
       "       [  1.49400000e+03,   3.00000000e+00,   2.42500000e+05],\n",
       "       [  1.94000000e+03,   4.00000000e+00,   2.39999000e+05],\n",
       "       [  2.00000000e+03,   3.00000000e+00,   3.47000000e+05],\n",
       "       [  1.89000000e+03,   3.00000000e+00,   3.29999000e+05],\n",
       "       [  4.47800000e+03,   5.00000000e+00,   6.99900000e+05],\n",
       "       [  1.26800000e+03,   3.00000000e+00,   2.59900000e+05],\n",
       "       [  2.30000000e+03,   4.00000000e+00,   4.49900000e+05],\n",
       "       [  1.32000000e+03,   2.00000000e+00,   2.99900000e+05],\n",
       "       [  1.23600000e+03,   3.00000000e+00,   1.99900000e+05],\n",
       "       [  2.60900000e+03,   4.00000000e+00,   4.99998000e+05],\n",
       "       [  3.03100000e+03,   4.00000000e+00,   5.99000000e+05],\n",
       "       [  1.76700000e+03,   3.00000000e+00,   2.52900000e+05],\n",
       "       [  1.88800000e+03,   2.00000000e+00,   2.55000000e+05],\n",
       "       [  1.60400000e+03,   3.00000000e+00,   2.42900000e+05],\n",
       "       [  1.96200000e+03,   4.00000000e+00,   2.59900000e+05],\n",
       "       [  3.89000000e+03,   3.00000000e+00,   5.73900000e+05],\n",
       "       [  1.10000000e+03,   3.00000000e+00,   2.49900000e+05],\n",
       "       [  1.45800000e+03,   3.00000000e+00,   4.64500000e+05],\n",
       "       [  2.52600000e+03,   3.00000000e+00,   4.69000000e+05],\n",
       "       [  2.20000000e+03,   3.00000000e+00,   4.75000000e+05],\n",
       "       [  2.63700000e+03,   3.00000000e+00,   2.99900000e+05],\n",
       "       [  1.83900000e+03,   2.00000000e+00,   3.49900000e+05],\n",
       "       [  1.00000000e+03,   1.00000000e+00,   1.69900000e+05],\n",
       "       [  2.04000000e+03,   4.00000000e+00,   3.14900000e+05],\n",
       "       [  3.13700000e+03,   3.00000000e+00,   5.79900000e+05],\n",
       "       [  1.81100000e+03,   4.00000000e+00,   2.85900000e+05],\n",
       "       [  1.43700000e+03,   3.00000000e+00,   2.49900000e+05],\n",
       "       [  1.23900000e+03,   3.00000000e+00,   2.29900000e+05],\n",
       "       [  2.13200000e+03,   4.00000000e+00,   3.45000000e+05],\n",
       "       [  4.21500000e+03,   4.00000000e+00,   5.49000000e+05],\n",
       "       [  2.16200000e+03,   4.00000000e+00,   2.87000000e+05],\n",
       "       [  1.66400000e+03,   2.00000000e+00,   3.68500000e+05],\n",
       "       [  2.23800000e+03,   3.00000000e+00,   3.29900000e+05],\n",
       "       [  2.56700000e+03,   4.00000000e+00,   3.14000000e+05],\n",
       "       [  1.20000000e+03,   3.00000000e+00,   2.99000000e+05],\n",
       "       [  8.52000000e+02,   2.00000000e+00,   1.79900000e+05],\n",
       "       [  1.85200000e+03,   4.00000000e+00,   2.99900000e+05],\n",
       "       [  1.20300000e+03,   3.00000000e+00,   2.39500000e+05]])"
      ]
     },
     "execution_count": 27,
     "metadata": {},
     "output_type": "execute_result"
    }
   ],
   "source": [
    "houses = np.genfromtxt('houses.csv', delimiter=',')\n",
    "# area, number of bedrooms, price\n",
    "\n",
    "houses"
   ]
  },
  {
   "cell_type": "code",
   "execution_count": 28,
   "metadata": {},
   "outputs": [
    {
     "data": {
      "image/png": "[encoded data removed]",
      "text/plain": [
       "<matplotlib.figure.Figure at 0x7fd9b6df6278>"
      ]
     },
     "metadata": {},
     "output_type": "display_data"
    },
    {
     "data": {
      "image/png": "[encoded data removed]",
      "text/plain": [
       "<matplotlib.figure.Figure at 0x7fd9b8b06c18>"
      ]
     },
     "metadata": {},
     "output_type": "display_data"
    }
   ],
   "source": [
    "prices = houses[:, 2]\n",
    "# relationship between area and price\n",
    "areas = houses[:, 0]\n",
    "plt.scatter(areas, prices)\n",
    "plt.show()\n",
    "\n",
    "# relation between no. of bedrooms\n",
    "bedrooms_nos = houses[:, 1]\n",
    "plt.scatter(bedrooms_nos, prices)\n",
    "plt.show()"
   ]
  },
  {
   "cell_type": "markdown",
   "metadata": {},
   "source": [
    "First, data must be normalized"
   ]
  },
  {
   "cell_type": "code",
   "execution_count": 29,
   "metadata": {},
   "outputs": [],
   "source": [
    "features = add_bias_feature(houses[:, :-1]) \n",
    "targets = houses[:, 2]\n",
    "features, _, _ = mean_normalization(features)"
   ]
  },
  {
   "cell_type": "markdown",
   "metadata": {},
   "source": [
    "Now, let's split data into training and test sets"
   ]
  },
  {
   "cell_type": "code",
   "execution_count": 30,
   "metadata": {},
   "outputs": [
    {
     "data": {
      "text/plain": [
       "(31, 31, 16, 16)"
      ]
     },
     "execution_count": 30,
     "metadata": {},
     "output_type": "execute_result"
    }
   ],
   "source": [
    "train_size = int(len(houses) * 2/3) \n",
    "train_numbers = random.sample(range(len(houses)), train_size)\n",
    "\n",
    "train_features = np.array([features[i] for i in range(len(houses)) if i in train_numbers])\n",
    "train_targets = np.array([targets[i] for i in range(len(houses)) if i in train_numbers])\n",
    "\n",
    "test_features = np.array([features[i] for i in range(len(houses)) if i not in train_numbers])\n",
    "test_targets = np.array([targets[i] for i in range(len(houses)) if i not in train_numbers])\n",
    "\n",
    "len(train_features), len(train_targets), len(test_featW = gradient_step(W, train_features, train_targets, 0.1)ures), len(test_targets)"
   ]
  },
  {
   "cell_type": "markdown",
   "metadata": {},
   "source": [
    "Let's train our model. Our model will consider only the training se during the training. \n",
    "\n",
    "We will plot the cost function to see how well the model performs on the training data, but also, separately, plot cost calculated for test data. This will help us see how well the model generalizes."
   ]
  },
  {
   "cell_type": "code",
   "execution_count": 33,
   "metadata": {},
   "outputs": [
    {
     "data": {
      "image/png": "[encoded data removed]",
      "text/plain": [
       "<matplotlib.figure.Figure at 0x7fd9b8ae8198>"
      ]
     },
     "metadata": {},
     "output_type": "display_data"
    }
   ],
   "source": [
    "W = np.random.rand(3)\n",
    "train_costs = []\n",
    "test_costs = []\n",
    "steps = 1000\n",
    "\n",
    "for i in range(steps):\n",
    "    W = gradient_step(W, train_features, train_targets, 0.1)\n",
    "    train_costs.append(cost(W, train_features, train_targets))\n",
    "    test_costs.append(cost(W, test_features, test_targets))\n",
    "    \n",
    "step_nums = [i for i in range(steps)]\n",
    "# plt.scatter(x=step_nums, y=train_costs)\n",
    "plt.scatter(x=step_nums, y=test_costs, color='red')\n",
    "\n",
    "plt.show()"
   ]
  },
  {
   "cell_type": "code",
   "execution_count": 34,
   "metadata": {},
   "outputs": [
    {
     "data": {
      "image/png": "[encoded data removed]",
      "text/plain": [
       "<matplotlib.figure.Figure at 0x7fd9b7c52278>"
      ]
     },
     "metadata": {},
     "output_type": "display_data"
    }
   ],
   "source": [
    "from mpl_toolkits.mplot3d import Axes3D\n",
    "\n",
    "fig = plt.figure()\n",
    "ax = fig.add_subplot(111, projection='3d')\n",
    "ax.scatter(areas, bedrooms_nos, prices)\n",
    "ax.view_init(40, 100)\n",
    "\n",
    "ax.set_xlabel('area')\n",
    "ax.set_ylabel('bedrooms')\n",
    "ax.set_zlabel('price')\n",
    "plt.show()"
   ]
  },
  {
   "cell_type": "code",
   "execution_count": null,
   "metadata": {},
   "outputs": [],
   "source": []
  }
 ],
 "metadata": {
  "kernelspec": {
   "display_name": "Python 3",
   "language": "python",
   "name": "python3"
  },
  "language_info": {
   "codemirror_mode": {
    "name": "ipython",
    "version": 3
   },
   "file_extension": ".py",
   "mimetype": "text/x-python",
   "name": "python",
   "nbconvert_exporter": "python",
   "pygments_lexer": "ipython3",
   "version": "3.6.2"
  }
 },
 "nbformat": 4,
 "nbformat_minor": 2
}
