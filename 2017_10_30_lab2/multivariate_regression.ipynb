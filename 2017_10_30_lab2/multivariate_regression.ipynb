{
 "cells": [
  {
   "cell_type": "markdown",
   "metadata": {},
   "source": [
    "# Welcome!\n",
    "\n",
    "Today we're going to present last-time's topic - **Linear Regression** in a more generalized way. You'll see that this algorithm doesn't change a lot, when we want to fit our model to more features than just one!\n",
    "\n",
    "This will be an occasion to introduce and tackle some problems faced by data scientists on a daily basis, such as:\n",
    "- data normalization\n",
    "- regularization of the cost function\n",
    "- overfitting\n",
    "- dividing the data into training and test sets"
   ]
  },
  {
   "cell_type": "code",
   "execution_count": 1,
   "metadata": {},
   "outputs": [],
   "source": [
    "# imports\n",
    "import numpy as np\n",
    "import matplotlib.pyplot as plt\n",
    "from ipywidgets import interact, fixed\n",
    "import ipywidgets as widgets\n",
    "import solutions\n",
    "\n",
    "%matplotlib inline"
   ]
  },
  {
   "cell_type": "markdown",
   "metadata": {},
   "source": [
    "# Problem\n",
    "\n",
    "## Previously\n",
    "\n",
    "### $$\\hat{y} = h_W(x) = w_0 + w_1x$$ \n",
    "\n",
    "## Today\n",
    "\n",
    "### $$\\hat{y} = h_W(x_1, x_2, ..., x_k) = w_0 + w_1x_1+ w_2x_2+ w_3x_3+ ... + w_kx_k = w_0 + \\sum_{i=1}^k w_i x_i$$ \n",
    "\n",
    "## or:\n",
    "\n",
    "### $W$ - vector of coefficients or 'weights'\n",
    "\n",
    "$$ W = [w_0, w_1, ..., w_k]$$\n",
    "\n",
    "### $X^{(i)}$ - vector of  features of an i-th test case\n",
    "$$ X^{(i)} = [x^{(i)}_0, x^{(i)}_1, ... x^{(i)}_k] $$\n",
    "... where $x_0$ = 1, so that\n",
    "$$h_W(X^{(i)}) = \\sum_{j=0}^k w_j x_j = W * X^{(i)}$$\n"
   ]
  },
  {
   "cell_type": "code",
   "execution_count": 2,
   "metadata": {},
   "outputs": [
    {
     "name": "stdout",
     "output_type": "stream",
     "text": [
      "[[1 2 3]\n",
      " [4 5 6]]\n",
      "[[ 1.  1.  2.  3.]\n",
      " [ 1.  4.  5.  6.]]\n"
     ]
    }
   ],
   "source": [
    "def add_bias_feature(X):\n",
    "       return np.c_[np.ones(len(X)), X]\n",
    "\n",
    "X = np.array([[1,2,3], [4,5,6]])\n",
    "print(X)\n",
    "print(add_bias_feature(X))"
   ]
  },
  {
   "cell_type": "code",
   "execution_count": 3,
   "metadata": {},
   "outputs": [
    {
     "ename": "SyntaxError",
     "evalue": "unexpected EOF while parsing (<ipython-input-3-1c2842ad0924>, line 4)",
     "output_type": "error",
     "traceback": [
      "\u001b[0;36m  File \u001b[0;32m\"<ipython-input-3-1c2842ad0924>\"\u001b[0;36m, line \u001b[0;32m4\u001b[0m\n\u001b[0;31m    # return a vector of hypotheses for *all* x-s\u001b[0m\n\u001b[0m                                                  ^\u001b[0m\n\u001b[0;31mSyntaxError\u001b[0m\u001b[0;31m:\u001b[0m unexpected EOF while parsing\n"
     ]
    }
   ],
   "source": [
    "def hypotheses(W, X):\n",
    "    # W: a vector of weights\n",
    "    # X: a list of feature vectors of some objects (so effectively a matrix)\n",
    "    # return a vector of hypotheses for *all* x-s "
   ]
  },
  {
   "cell_type": "code",
   "execution_count": 4,
   "metadata": {},
   "outputs": [],
   "source": [
    "hypotheses = solutions.hypotheses"
   ]
  },
  {
   "cell_type": "markdown",
   "metadata": {},
   "source": [
    "# Cost function\n",
    "\n",
    "### $$L = \\frac{1}{2N}\\sum_{i=0}^N(h_W(x^{(i)}) - y^{(i)})^2 $$\n",
    "## Previously\n",
    "\n",
    "### $$L(w_0, w_1) = \\frac{1}{2N}\\sum_{i=0}^N(w_0 + w_1x^{(i)} - y^{(i)})^2 $$\n",
    "\n",
    "## Today\n",
    "\n",
    "### $$L(w_0, w_1, ... w_n) = L(W) = \\frac{1}{2N}\\sum_{i=0}^N(\\sum_{j=0}^k w_j x^{(i)}_j - y^{(i)})^2 = \\frac{1}{2N}\\sum_{i=0}^N (h_W(x^{(i)}) - y^{(i)})^2$$"
   ]
  },
  {
   "cell_type": "code",
   "execution_count": 5,
   "metadata": {},
   "outputs": [
    {
     "ename": "SyntaxError",
     "evalue": "unexpected EOF while parsing (<ipython-input-5-c4094194c96f>, line 5)",
     "output_type": "error",
     "traceback": [
      "\u001b[0;36m  File \u001b[0;32m\"<ipython-input-5-c4094194c96f>\"\u001b[0;36m, line \u001b[0;32m5\u001b[0m\n\u001b[0;31m    # return cost (a scalar)\u001b[0m\n\u001b[0m                            ^\u001b[0m\n\u001b[0;31mSyntaxError\u001b[0m\u001b[0;31m:\u001b[0m unexpected EOF while parsing\n"
     ]
    }
   ],
   "source": [
    "def cost(W, X, Y):\n",
    "    # W: a vector of weights\n",
    "    # X: a list of feature vectors of some objects (so effectively a matrix)\n",
    "    # Y: a vector of our values\n",
    "    # return cost (a scalar)"
   ]
  },
  {
   "cell_type": "code",
   "execution_count": 6,
   "metadata": {},
   "outputs": [],
   "source": [
    "cost = solutions.cost"
   ]
  },
  {
   "cell_type": "markdown",
   "metadata": {},
   "source": [
    "# Gradient descent\n",
    "\n",
    "For every iteration:\n",
    "* calculate partial derivatives of cost function with respect to every element of W:\n",
    "\n",
    "$$\\epsilon_j = \\frac{\\partial}{\\partial w_j}L(W) = \\frac{1}{N} \\sum_{i=1}^N(h_W(x^{(i)}) - y^{(i)})x_j^{(i)}$$\n",
    "\n",
    "* **simultaneously** update every element of W:\n",
    "\n",
    "$$w_j = w_j - \\alpha \\epsilon_j$$ \n",
    "\n",
    "Where $\\alpha$ is our learning rate."
   ]
  },
  {
   "cell_type": "code",
   "execution_count": 7,
   "metadata": {},
   "outputs": [
    {
     "ename": "SyntaxError",
     "evalue": "unexpected EOF while parsing (<ipython-input-7-631c40bd8280>, line 5)",
     "output_type": "error",
     "traceback": [
      "\u001b[0;36m  File \u001b[0;32m\"<ipython-input-7-631c40bd8280>\"\u001b[0;36m, line \u001b[0;32m5\u001b[0m\n\u001b[0;31m    # return a vector of new values of W\u001b[0m\n\u001b[0m                                        ^\u001b[0m\n\u001b[0;31mSyntaxError\u001b[0m\u001b[0;31m:\u001b[0m unexpected EOF while parsing\n"
     ]
    }
   ],
   "source": [
    "def gradient_step(W, X, Y, learning_rate=0.01):\n",
    "    # W: a vector of weights\n",
    "    # X: a list of feature vectors of some objects (so effectively a matrix)\n",
    "    # Y: a vector of our values\n",
    "    # return a vector of new values of W"
   ]
  },
  {
   "cell_type": "code",
   "execution_count": 8,
   "metadata": {},
   "outputs": [],
   "source": [
    "gradient_step = solutions.gradient_step"
   ]
  },
  {
   "cell_type": "markdown",
   "metadata": {},
   "source": [
    "# Polynomial regression: a possible use case\n",
    "\n",
    "This is a plot of a secret polynomial:"
   ]
  },
  {
   "cell_type": "code",
   "execution_count": 73,
   "metadata": {},
   "outputs": [
    {
     "data": {
      "image/png": "[encoded data removed]",
      "text/plain": [
       "<matplotlib.figure.Figure at 0x7fb67de29400>"
      ]
     },
     "metadata": {},
     "output_type": "display_data"
    }
   ],
   "source": [
    "secret = solutions.secret_polynomial\n",
    "X = np.arange(-4, 4, 0.7)\n",
    "Y = [secret(x) for x in X]\n",
    "plt.scatter(X, Y)\n",
    "plt.show()"
   ]
  },
  {
   "cell_type": "markdown",
   "metadata": {},
   "source": [
    "What degree of a polynomial could that be?"
   ]
  },
  {
   "cell_type": "code",
   "execution_count": 74,
   "metadata": {},
   "outputs": [],
   "source": [
    "def to_poly_features(X, proposed_degree):\n",
    "    # notice that x ** 0 = 1, so bias feature is already added here\n",
    "    return np.array([[x ** n for n in range(proposed_degree)] for x in X])\n"
   ]
  },
  {
   "cell_type": "code",
   "execution_count": 75,
   "metadata": {},
   "outputs": [
    {
     "data": {
      "text/plain": [
       "array([[  1.   ,  -4.   ,  16.   , -64.   ],\n",
       "       [  1.   ,  -3.3  ,  10.89 , -35.937],\n",
       "       [  1.   ,  -2.6  ,   6.76 , -17.576],\n",
       "       [  1.   ,  -1.9  ,   3.61 ,  -6.859],\n",
       "       [  1.   ,  -1.2  ,   1.44 ,  -1.728]])"
      ]
     },
     "execution_count": 75,
     "metadata": {},
     "output_type": "execute_result"
    }
   ],
   "source": [
    "proposed_degree = 4\n",
    "features = to_poly_features(X, proposed_degree)\n",
    "targets = np.array(Y)\n",
    "features[0:5]"
   ]
  },
  {
   "cell_type": "markdown",
   "metadata": {},
   "source": [
    "## Feature scaling to the rescue!\n",
    "\n",
    "We want all our features to be roughly in the same range, i.e [-1, 1]. This is called **data normalization**. \n",
    "\n",
    "One way to achieve it is **mean normalization**:\n",
    "\n",
    "$$x_i = \\frac{x_i - \\mu_i}{max(X) - min(X)}$$\n",
    "\n",
    "Of course, since $x_0$ is always equal to 1, we don't normalize it!"
   ]
  },
  {
   "cell_type": "code",
   "execution_count": 76,
   "metadata": {},
   "outputs": [
    {
     "ename": "SyntaxError",
     "evalue": "unexpected EOF while parsing (<ipython-input-76-0522779538c6>, line 5)",
     "output_type": "error",
     "traceback": [
      "\u001b[0;36m  File \u001b[0;32m\"<ipython-input-76-0522779538c6>\"\u001b[0;36m, line \u001b[0;32m5\u001b[0m\n\u001b[0;31m    # do not normalize thefirst column of ones!\u001b[0m\n\u001b[0m                                               ^\u001b[0m\n\u001b[0;31mSyntaxError\u001b[0m\u001b[0;31m:\u001b[0m unexpected EOF while parsing\n"
     ]
    }
   ],
   "source": [
    "def mean_normalization(X):\n",
    "    # implement me!\n",
    "    # X - a matrix of features\n",
    "    # return normalized matrix X\n",
    "    # do not normalize thefirst column of ones!"
   ]
  },
  {
   "cell_type": "code",
   "execution_count": 77,
   "metadata": {},
   "outputs": [],
   "source": [
    "mean_normalization = solutions.mean_normalization"
   ]
  },
  {
   "cell_type": "code",
   "execution_count": 78,
   "metadata": {},
   "outputs": [
    {
     "data": {
      "text/plain": [
       "array([[ 1.        , -0.5       ,  0.63523392, -0.53525856],\n",
       "       [ 1.        , -0.40909091,  0.31505848, -0.29049393],\n",
       "       [ 1.        , -0.31818182,  0.05628655, -0.13034984],\n",
       "       [ 1.        , -0.22727273, -0.14108187, -0.03687649],\n",
       "       [ 1.        , -0.13636364, -0.27704678,  0.00787594]])"
      ]
     },
     "execution_count": 78,
     "metadata": {},
     "output_type": "execute_result"
    }
   ],
   "source": [
    "features = mean_normalization(features)\n",
    "features[0:5]"
   ]
  },
  {
   "cell_type": "code",
   "execution_count": 96,
   "metadata": {},
   "outputs": [
    {
     "data": {
      "image/png": "[encoded data removed]",
      "text/plain": [
       "<matplotlib.figure.Figure at 0x7fb6a89e9048>"
      ]
     },
     "metadata": {},
     "output_type": "display_data"
    }
   ],
   "source": [
    "W = np.random.rand(proposed_degree)\n",
    "costs = []\n",
    "steps = 100000\n",
    "\n",
    "for i in range(steps):\n",
    "    W = gradient_step(W, features, targets, 0.1)\n",
    "    costs.append(cost(W, features, targets))\n",
    "\n",
    "# it is always a good idea to plot the cost function to see how learning goes\n",
    "step_nums = [i for i in range(steps)]\n",
    "plt.scatter(x=step_nums, y=costs)\n",
    "plt.show()"
   ]
  },
  {
   "cell_type": "code",
   "execution_count": 97,
   "metadata": {},
   "outputs": [
    {
     "data": {
      "image/png": "[encoded data removed]",
      "text/plain": [
       "<matplotlib.figure.Figure at 0x7fb6880f9780>"
      ]
     },
     "metadata": {},
     "output_type": "display_data"
    },
    {
     "data": {
      "text/plain": [
       "array([  1.99805689, -29.57951793,  -0.65950715,  55.94816829])"
      ]
     },
     "execution_count": 97,
     "metadata": {},
     "output_type": "execute_result"
    }
   ],
   "source": [
    "calculated_targets = hypotheses(W, features)\n",
    "plt.scatter(X, Y)\n",
    "plt.plot(X, calculated_targets, color='red')\n",
    "plt.show()\n",
    "W"
   ]
  },
  {
   "cell_type": "code",
   "execution_count": 98,
   "metadata": {},
   "outputs": [
    {
     "data": {
      "image/png": "[encoded data removed]",
      "text/plain": [
       "<matplotlib.figure.Figure at 0x7fb68858b6a0>"
      ]
     },
     "metadata": {},
     "output_type": "display_data"
    }
   ],
   "source": [
    "more_X = np.arange(-4, 4, 0.3)\n",
    "more_Y = [secret(x) for x in more_X]\n",
    "more_features = to_poly_features(more_X, proposed_degree)\n",
    "more_features = mean_normalization(more_features)\n",
    "more_targets = np.array(Y)\n",
    "\n",
    "more_calculated_targets = hypotheses(W, more_features)\n",
    "plt.scatter(more_X, more_Y)\n",
    "plt.plot(more_X, more_calculated_targets, color='red')\n",
    "plt.show()"
   ]
  },
  {
   "cell_type": "markdown",
   "metadata": {},
   "source": [
    "# Let's play with real-life data!\n"
   ]
  },
  {
   "cell_type": "code",
   "execution_count": null,
   "metadata": {},
   "outputs": [],
   "source": []
  }
 ],
 "metadata": {
  "kernelspec": {
   "display_name": "Python 3",
   "language": "python",
   "name": "python3"
  },
  "language_info": {
   "codemirror_mode": {
    "name": "ipython",
    "version": 3
   },
   "file_extension": ".py",
   "mimetype": "text/x-python",
   "name": "python",
   "nbconvert_exporter": "python",
   "pygments_lexer": "ipython3",
   "version": "3.6.2"
  }
 },
 "nbformat": 4,
 "nbformat_minor": 2
}
