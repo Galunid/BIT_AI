{
 "cells": [
  {
   "cell_type": "markdown",
   "metadata": {},
   "source": [
    "# resources"
   ]
  },
  {
   "cell_type": "markdown",
   "metadata": {},
   "source": [
    "https://en.wikipedia.org/wiki/Decision_tree - name of that model says everything that you need to understand what is it about\n",
    "\n",
    "https://en.wikipedia.org/wiki/Ensemble_learning - usually we don't use one tree but many\n",
    "\n",
    "https://en.wikipedia.org/wiki/Boosting_(machine_learning) - type of ensemble learning, we will discuss it today\n",
    "\n",
    "http://xgboost.readthedocs.io/en/latest/ - xgboost documentation, read it before"
   ]
  },
  {
   "cell_type": "markdown",
   "metadata": {},
   "source": [
    "# imports "
   ]
  },
  {
   "cell_type": "code",
   "execution_count": null,
   "metadata": {},
   "outputs": [],
   "source": [
    "import xgboost as xgb\n",
    "\n",
    "import matplotlib.pyplot as plt\n",
    "import numpy as np\n",
    "import pandas as pd\n",
    "\n",
    "from sklearn.model_selection import train_test_split\n",
    "from ipywidgets import interact\n",
    "from functools import lru_cache"
   ]
  },
  {
   "cell_type": "code",
   "execution_count": null,
   "metadata": {},
   "outputs": [],
   "source": [
    "FIGSIZE = (15, 8)\n",
    "\n",
    "def ground_truth(x):\n",
    "    return x * np.sin(x) + 5 * np.sin(2 * x) + 2 * np.sin(3 * x)\n",
    "\n",
    "def gen_data(n_samples=200):\n",
    "    np.random.seed(15)\n",
    "    X = np.random.uniform(0, 10, size=n_samples).reshape(-1, 1)\n",
    "    y = ground_truth(X.reshape(-1)) + np.random.normal(scale=2, size=n_samples)\n",
    "    \n",
    "    X_train, X_test, y_train, y_test = train_test_split(X, y, test_size=0.2, random_state=3)\n",
    "    return X_train, X_test, y_train, y_test\n",
    "\n",
    "X_train, X_test, y_train, y_test = gen_data(100)\n",
    "\n",
    "\n",
    "x_plot = np.linspace(0, 10, 500)\n",
    "\n",
    "def plot_data(alpha=0.4, s=20):\n",
    "    fig = plt.figure(figsize=FIGSIZE)\n",
    "    gt = plt.plot(x_plot, ground_truth(x_plot), alpha=alpha, label='ground truth')\n",
    "\n",
    "    plt.scatter(X_train, y_train, s=s, alpha=alpha)\n",
    "    plt.scatter(X_test, y_test, s=s, alpha=alpha, color='red')\n",
    "    plt.xlim((0, 10))\n",
    "    plt.ylim((-15, 20))\n",
    "    plt.ylabel('y')\n",
    "    plt.xlabel('x')\n",
    "    \n",
    "plot_data()\n",
    "plt.show()"
   ]
  },
  {
   "cell_type": "code",
   "execution_count": null,
   "metadata": {},
   "outputs": [],
   "source": [
    "@lru_cache(maxsize=None)\n",
    "def fib(n):\n",
    "    if n < 2:\n",
    "        return n\n",
    "    return fib(n-1) + fib(n-2)\n",
    "\n",
    "@lru_cache(maxsize=None)\n",
    "def train_xgb(params):\n",
    "    params = dict(list(params))\n",
    "    return xgb.XGBRegressor(**params).fit(X_train, y_train)"
   ]
  },
  {
   "cell_type": "code",
   "execution_count": null,
   "metadata": {},
   "outputs": [],
   "source": [
    "xgb.XGBClassifier"
   ]
  },
  {
   "cell_type": "code",
   "execution_count": null,
   "metadata": {},
   "outputs": [],
   "source": [
    "interact_params = {\n",
    "    'n_estimators': [fib(x) for x in range(2, 20)],\n",
    "    'max_depth': [fib(x) for x in range(2, 20)],\n",
    "    'gamma': np.linspace(0, 1, 10),\n",
    "    'subsample': np.linspace(1, 0.5, 8),\n",
    "    'learning_rate': np.linspace(0.1, 2, 10),\n",
    "    'reg_alpha': np.linspace(0, 1, 10),\n",
    "    'reg_lambda': np.linspace(1, 0, 10),\n",
    "    'min_child_weight': np.linspace(1, 10, 9)\n",
    "}"
   ]
  },
  {
   "cell_type": "code",
   "execution_count": null,
   "metadata": {},
   "outputs": [],
   "source": [
    "def pretty_format_params(params):\n",
    "    def _single_pretty_format(param):\n",
    "        \n",
    "        return f'{param:.2f}'\n",
    "    return str({k: _single_pretty_format(v) for k, v in params.items()})"
   ]
  },
  {
   "cell_type": "code",
   "execution_count": null,
   "metadata": {},
   "outputs": [],
   "source": [
    "@interact(**interact_params)\n",
    "def plot(**params):\n",
    "    plot_data()\n",
    "    est = train_xgb(tuple(params.items()))\n",
    "    plt.plot(\n",
    "        x_plot,\n",
    "        est.predict(x_plot[:, np.newaxis]),\n",
    "        label=pretty_format_params(params),\n",
    "        color='g',\n",
    "        alpha=0.9,\n",
    "        linewidth=3\n",
    "    )\n",
    "    plt.legend(loc='upper left')\n",
    "    plt.show()"
   ]
  },
  {
   "cell_type": "code",
   "execution_count": null,
   "metadata": {},
   "outputs": [],
   "source": []
  }
 ],
 "metadata": {
  "kernelspec": {
   "display_name": "Python [conda env:bit]",
   "language": "python",
   "name": "conda-env-bit-py"
  },
  "language_info": {
   "codemirror_mode": {
    "name": "ipython",
    "version": 3
   },
   "file_extension": ".py",
   "mimetype": "text/x-python",
   "name": "python",
   "nbconvert_exporter": "python",
   "pygments_lexer": "ipython3",
   "version": "3.6.3"
  }
 },
 "nbformat": 4,
 "nbformat_minor": 2
}
