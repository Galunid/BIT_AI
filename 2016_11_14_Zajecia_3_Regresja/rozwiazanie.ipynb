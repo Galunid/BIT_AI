{
 "cells": [
  {
   "cell_type": "code",
   "execution_count": 8,
   "metadata": {
    "collapsed": true
   },
   "outputs": [],
   "source": [
    "# magiczna linijka, żeby wykresy się rysowały bezpośrednio w dokumencie\n",
    "%matplotlib inline"
   ]
  },
  {
   "cell_type": "markdown",
   "metadata": {
    "collapsed": true
   },
   "source": [
    "## Regresja liniowa\n",
    "\n",
    "<!-- -->1. W pliku __ex1.csv__ znajdują się dane, których będziemy używać w dalszej części ćwiczeń. Pierwsza kolumna to losowa liczba, druga wartość oznacza jak bardzo prowadzący ją lubi. Estymować będziemy lubienie przez prowadzącego. Na początek dane należy wczytać. Można użyć biblioteki _pandas_, można to zrobić bezpośrednio."
   ]
  },
  {
   "cell_type": "code",
   "execution_count": 6,
   "metadata": {
    "collapsed": false
   },
   "outputs": [],
   "source": [
    "import numpy as np\n",
    "import pandas\n",
    "\n",
    "X = []\n",
    "Y = []\n",
    "\n",
    "# Wczytywanie\n",
    "data = pandas.read_csv(\"ex1.csv\", header=None)\n",
    "X = data[0]\n",
    "Y = data[1]\n",
    "\n",
    "# Na końcu upewnijmy się, że bawimy się z numpyowymi wektorami \n",
    "N = len(X)\n",
    "X = np.array(X)\n",
    "Y = np.array(Y)\n",
    "X = X.reshape((N, 1))\n",
    "Y = Y.reshape((N, 1))"
   ]
  },
  {
   "cell_type": "markdown",
   "metadata": {},
   "source": [
    "<!-- -->2. Mając już wczytane dane warto na nie popatrzeć czujnym okiem. Przy pomocy biblioteki matplotlib narysuj wykres z wcześniej wczytanymi danymi."
   ]
  },
  {
   "cell_type": "code",
   "execution_count": 9,
   "metadata": {
    "collapsed": false
   },
   "outputs": [
    {
     "data": {
      "image/png": "[encoded data removed]",
      "text/plain": [
       "<matplotlib.figure.Figure at 0x7f6a4040e2d0>"
      ]
     },
     "metadata": {},
     "output_type": "display_data"
    }
   ],
   "source": [
    "import matplotlib.pyplot as plt\n",
    "\n",
    "\n",
    "plt.plot(X, Y, '.')\n",
    "plt.show()"
   ]
  },
  {
   "cell_type": "markdown",
   "metadata": {},
   "source": [
    "<!-- --> 3. Przejdźmy do meritum. Zaimplementujmy szukanie regresji liniowej metodą najmniejszych kwadratów. Dla ułatwienia przyjmijmy, że operujemy na płaszczyźnie dwuwymiarowej, więc rozważamy rozwiązania postaci: $$\\theta_0 + \\theta_1 x$$"
   ]
  },
  {
   "cell_type": "code",
   "execution_count": 77,
   "metadata": {
    "collapsed": false
   },
   "outputs": [],
   "source": [
    "def cost(theta, x, y):\n",
    "    cost = 0.\n",
    "    # theta: [b, a] -> f(x) = b + ax\n",
    "    a = theta[1]\n",
    "    b = theta[0]\n",
    "    N = len(x)\n",
    "    for _x, _y in zip(x, y):\n",
    "        cost += (a*_x[0] + b - _y[0]) ** 2\n",
    "    return cost/N\n",
    "\n",
    "def gradient_step(theta, x, y, alpha):\n",
    "    new_theta = []\n",
    "    # theta: [b, a] -> f(x) = b + ax\n",
    "    a = theta[1]\n",
    "    b = theta[0]\n",
    "    N = len(x)\n",
    "    \n",
    "    delta_a = 0.\n",
    "    delta_b = 0.\n",
    "    \n",
    "    for _x, _y in zip(x, y):\n",
    "        delta_a += (a*_x[0] + b - _y[0])*_x[0]*(2./N)\n",
    "        delta_b += (a*_x[0] + b - _y[0])*(2./N)\n",
    "        \n",
    "    a = a - alpha*delta_a\n",
    "    b = b - alpha*delta_b\n",
    "    \n",
    "    new_theta = [b, a]\n",
    "    return new_theta\n",
    "    \n",
    "def gradient_descent(theta, x, y, alpha, steps):\n",
    "    for i in range(steps):\n",
    "        if i%100 == 0:\n",
    "            print \"Current cost: \", cost(theta, x, y)\n",
    "        theta = gradient_step(theta, x, y, alpha)\n",
    "        \n",
    "    return theta"
   ]
  },
  {
   "cell_type": "markdown",
   "metadata": {},
   "source": [
    "<!-- --> 4. Sprawdź swój kod w boju! \n",
    "1. Podziel dane na zbiór uczący i testowy (np. w stosunku 3:1). Pamiętaj, że na początku dane warto losowo wymieszać. Przy pomocy napisanych wcześniej funkcji wytrenuj model i porównaj wartość błędu dla obu zbiorów. Jak zmieniają się wyniki w zależności od parametrów alpha i liczby iteracji?\n",
    "2. Na jednym wykresie pokaż zarówno dane wejściowe jak i znalezioną funkcję.\n"
   ]
  },
  {
   "cell_type": "code",
   "execution_count": 150,
   "metadata": {
    "collapsed": false
   },
   "outputs": [
    {
     "name": "stdout",
     "output_type": "stream",
     "text": [
      "Current cost:  91457.13936\n",
      "Current cost:  6014.63758819\n",
      "Current cost:  6011.7755804\n",
      "Current cost:  6008.91683528\n",
      "Current cost:  6006.06134913\n",
      "Current cost:  6003.20911821\n",
      "Current cost:  6000.36013883\n",
      "Current cost:  5997.51440727\n",
      "Current cost:  5994.67191984\n",
      "Current cost:  5991.83267283\n",
      "Training cost:  5988.99666255\n",
      "Test cost:  6588.39741443\n"
     ]
    },
    {
     "data": {
      "image/png": "[encoded data removed]",
      "text/plain": [
       "<matplotlib.figure.Figure at 0x7f6a40380b90>"
      ]
     },
     "metadata": {},
     "output_type": "display_data"
    }
   ],
   "source": [
    "import random\n",
    "\n",
    "initial_theta = np.zeros(2)\n",
    "\n",
    "# Wymieszajmy dane wejściowe. Ten krok nie jest konieczny, ale to bardzo dobry nawyk\n",
    "merged = zip(X, Y)\n",
    "random.shuffle(merged)\n",
    "shuffled_X, shuffled_Y = zip(*merged)\n",
    "\n",
    "N = len(shuffled_X)\n",
    "\n",
    "x_train = np.array(shuffled_X[:N*3/4])\n",
    "y_train = np.array(shuffled_Y[:N*3/4])\n",
    "\n",
    "x_test = np.array(shuffled_X[N*3/4:])\n",
    "y_test = np.array(shuffled_Y[N*3/4:])\n",
    "\n",
    "theta = gradient_descent(initial_theta, x_train, y_train, 0.00001, 1000)\n",
    "\n",
    "print \"Training cost: \", cost(theta, x_train, y_train)\n",
    "print \"Test cost: \", cost(theta, x_test, y_test)\n",
    "\n",
    "\n",
    "# plot all the data!\n",
    "# ...\n",
    "plt.plot(X, Y, 'b.')\n",
    "\n",
    "est_x = np.linspace(min(X), max(X))\n",
    "est_y = [theta[1]*x + theta[0] for x in est_x]\n",
    "plt.plot(est_x, est_y, 'r')\n",
    "plt.show()"
   ]
  },
  {
   "cell_type": "markdown",
   "metadata": {},
   "source": [
    "<!-- --> 5. Uogólnij swój kod tak, aby działał niezależnie od liczby featurów. Dodatkowe punkty uzyskasz, jeśli operacje będą zwektoryzowane przy pomocy biblioteki _numpy_. (tj. zamiast pętli będą operacje na _numpy.array_). Sprawdź, czy wyniki wciąż są satysfakcjonujące wykonując ponownie zadanie __4__.\n",
    "\n",
    "Pomocny artykuł: [regresja liniowa na macierzach](https://www.stat.cmu.edu/~cshalizi/mreg/15/lectures/13/lecture-13.pdf)"
   ]
  },
  {
   "cell_type": "code",
   "execution_count": 164,
   "metadata": {
    "collapsed": false
   },
   "outputs": [
    {
     "name": "stdout",
     "output_type": "stream",
     "text": [
      "Current cost:  91457.13936\n",
      "Current cost:  6016.06981902\n",
      "Current cost:  6014.63759227\n",
      "Current cost:  6013.20618235\n",
      "Current cost:  6011.77558855\n",
      "Current cost:  6010.34581043\n",
      "Current cost:  6008.9168475\n",
      "Current cost:  6007.48869932\n",
      "Current cost:  6006.0613654\n",
      "Current cost:  6004.6348453\n",
      "Training cost:  6003.20913854\n",
      "Test cost:  6603.29894469\n"
     ]
    },
    {
     "data": {
      "image/png": "[encoded data removed]",
      "text/plain": [
       "<matplotlib.figure.Figure at 0x7f6a3b383ad0>"
      ]
     },
     "metadata": {},
     "output_type": "display_data"
    }
   ],
   "source": [
    "def vec_cost(theta, x, y):\n",
    "    N = len(x)\n",
    "    difference = np.dot(x, theta.transpose()) - y\n",
    "    return np.sum(difference**2/N)\n",
    " \n",
    "def vec_gradient_step(theta, x, y, alpha):\n",
    "    N = len(x)\n",
    "    difference = np.dot(x, theta.transpose()) - y\n",
    "    return theta-np.sum(difference * x, axis=0)*alpha/N\n",
    " \n",
    "def vec_gradient_descent(theta, x, y, alpha, steps):\n",
    "    for i in range(steps):\n",
    "        if i%100 == 0:\n",
    "            print \"Current cost: \", vec_cost(theta, x, y)\n",
    "        theta = vec_gradient_step(theta, x, y, alpha)\n",
    "    return theta\n",
    " \n",
    "# mała sztuczka - dorzucamy \n",
    "def add_column_of_ones(matrix):\n",
    "    ones = np.ones((len(matrix), 1))\n",
    "    return np.append(ones, matrix, axis=1)\n",
    "    \n",
    "theta = vec_gradient_descent(np.zeros((2,1)).reshape((1, 2)), add_column_of_ones(x_train), y_train, 0.00001, 1000)\n",
    "\n",
    "print \"Training cost: \", vec_cost(theta, add_column_of_ones(x_train), y_train)\n",
    "print \"Test cost: \", vec_cost(theta, add_column_of_ones(x_test), y_test)\n",
    "\n",
    "\n",
    "# plot all the data!\n",
    "# ...\n",
    "plt.plot(X, Y, 'b.')\n",
    "\n",
    "est_x = np.linspace(min(X), max(X))\n",
    "est_y = [theta[0][1]*x + theta[0][0] for x in est_x]\n",
    "plt.plot(est_x, est_y, 'r')\n",
    "plt.show()"
   ]
  },
  {
   "cell_type": "markdown",
   "metadata": {},
   "source": [
    "<!-- --> 6. Na koniec postarajmy się zrobić to lepiej. Na potrzeby trenowania modelu wzbogać zbiór featurów o dodatkową kolumnę - kwadrat wartości. Porównaj wartości błędów i wykresy dla zwykłych danych i tych wzbogaconych."
   ]
  },
  {
   "cell_type": "code",
   "execution_count": 163,
   "metadata": {
    "collapsed": false
   },
   "outputs": [
    {
     "name": "stdout",
     "output_type": "stream",
     "text": [
      "Current cost:  91457.13936\n",
      "Current cost:  51582.5805376\n",
      "Current cost:  29121.7570484\n",
      "Current cost:  16469.8655407\n",
      "Current cost:  9343.21860448\n",
      "Current cost:  5328.87050276\n",
      "Current cost:  3067.6400975\n",
      "Current cost:  1793.91822567\n",
      "Current cost:  1076.44714381\n",
      "Current cost:  672.304940508\n",
      "Training cost:  444.656843663\n",
      "Test cost:  323.787670565\n"
     ]
    },
    {
     "data": {
      "image/png": "[encoded data removed]",
      "text/plain": [
       "<matplotlib.figure.Figure at 0x7f6a40380410>"
      ]
     },
     "metadata": {},
     "output_type": "display_data"
    }
   ],
   "source": [
    "def add_poly_features(x):\n",
    "    return np.append(x, x*x, axis=1)\n",
    "\n",
    "theta = vec_gradient_descent(np.zeros((3,1)).reshape((1,3)), add_column_of_ones(add_poly_features(x_train)), y_train, 0.00000000001, 1000)\n",
    "\n",
    "print \"Training cost: \", vec_cost(theta, add_column_of_ones(add_poly_features(x_train)), y_train)\n",
    "print \"Test cost: \", vec_cost(theta, add_column_of_ones(add_poly_features(x_test)), y_test)\n",
    "\n",
    "\n",
    "# plot all the data!\n",
    "# ...\n",
    "plt.plot(X, Y, 'b.')\n",
    "\n",
    "est_x = np.linspace(min(X), max(X))\n",
    "est_y = [theta[0][2]*x*x + theta[0][1]*x + theta[0][0] for x in est_x]\n",
    "plt.plot(est_x, est_y, 'r')\n",
    "plt.show()"
   ]
  }
 ],
 "metadata": {
  "kernelspec": {
   "display_name": "Python [Root]",
   "language": "python",
   "name": "Python [Root]"
  },
  "language_info": {
   "codemirror_mode": {
    "name": "ipython",
    "version": 2
   },
   "file_extension": ".py",
   "mimetype": "text/x-python",
   "name": "python",
   "nbconvert_exporter": "python",
   "pygments_lexer": "ipython2",
   "version": "2.7.12"
  }
 },
 "nbformat": 4,
 "nbformat_minor": 0
}
