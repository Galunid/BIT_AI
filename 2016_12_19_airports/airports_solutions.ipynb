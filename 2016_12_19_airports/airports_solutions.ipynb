{
 "cells": [
  {
   "cell_type": "code",
   "execution_count": null,
   "metadata": {
    "collapsed": false
   },
   "outputs": [],
   "source": [
    "# http://openflights.org/data.html"
   ]
  },
  {
   "cell_type": "markdown",
   "metadata": {},
   "source": [
    "# Data preparation"
   ]
  },
  {
   "cell_type": "code",
   "execution_count": null,
   "metadata": {
    "collapsed": false
   },
   "outputs": [],
   "source": [
    "import pandas as pd\n",
    "import csv, sys\n",
    "import matplotlib.pyplot as plt\n",
    "import matplotlib.cm as cm\n",
    "\n",
    "airports_raw = []\n",
    "filename = 'airports.dat'\n",
    "with open(filename, 'rb') as f:\n",
    "    reader = csv.reader(f)\n",
    "    try:\n",
    "        for row in reader:\n",
    "            airports_raw.append(row)\n",
    "    except csv.Error, e:\n",
    "        sys.exit('file %s, line %d: %s' % (filename, reader.line_num, e))\n",
    "\n",
    "airlines_raw = []\n",
    "filename = 'airlines.dat'\n",
    "with open(filename, 'rb') as f:\n",
    "    reader = csv.reader(f)\n",
    "    try:\n",
    "        for row in reader:\n",
    "            airlines_raw.append(row)\n",
    "    except csv.Error, e:\n",
    "        sys.exit('file %s, line %d: %s' % (filename, reader.line_num, e))\n",
    "\n",
    "routes_raw = []\n",
    "filename = 'routes.dat'\n",
    "with open(filename, 'rb') as f:\n",
    "    reader = csv.reader(f)\n",
    "    try:\n",
    "        for row in reader:\n",
    "            routes_raw.append(row)\n",
    "    except csv.Error, e:\n",
    "        sys.exit('file %s, line %d: %s' % (filename, reader.line_num, e))\n",
    "\n"
   ]
  },
  {
   "cell_type": "code",
   "execution_count": null,
   "metadata": {
    "collapsed": false
   },
   "outputs": [],
   "source": [
    "airports_df = pd.DataFrame(airports_raw)\n",
    "airlines_df = pd.DataFrame(airlines_raw)\n",
    "routes_df = pd.DataFrame(routes_raw)"
   ]
  },
  {
   "cell_type": "code",
   "execution_count": null,
   "metadata": {
    "collapsed": false
   },
   "outputs": [],
   "source": [
    "airports_df.columns = ['ID', 'Name', 'City', 'Country', 'IATA/FAA', 'ICAO','Latitude','Longitude','Altitude','Timezone','DST','Tz']\n",
    "airlines_df.columns = ['ID', 'Name','Alias','IATA','ICAO','Callsign','Country','Active']\n",
    "routes_df.columns = ['Airline', 'AirlineID', 'Source', 'Source ID', 'Destination', 'Destination ID', 'Codeshare', 'Stops', 'Equipment']"
   ]
  },
  {
   "cell_type": "code",
   "execution_count": null,
   "metadata": {
    "collapsed": false
   },
   "outputs": [],
   "source": [
    "airports_df['Longitude'] = pd.to_numeric(airports_df['Longitude']);\n",
    "airports_df['Latitude'] = pd.to_numeric(airports_df['Latitude']);"
   ]
  },
  {
   "cell_type": "code",
   "execution_count": null,
   "metadata": {
    "collapsed": false
   },
   "outputs": [],
   "source": [
    "plt.plot(airports_df['Longitude'], airports_df['Latitude'], 'g.', markersize = 1)\n",
    "plt.show()"
   ]
  },
  {
   "cell_type": "code",
   "execution_count": null,
   "metadata": {
    "collapsed": false
   },
   "outputs": [],
   "source": [
    "geo_values = pd.concat([airports_df['Longitude'], airports_df['Latitude']], axis=1)"
   ]
  },
  {
   "cell_type": "markdown",
   "metadata": {},
   "source": [
    "# Part 1: Geo Clustering"
   ]
  },
  {
   "cell_type": "markdown",
   "metadata": {},
   "source": [
    "## K-means"
   ]
  },
  {
   "cell_type": "code",
   "execution_count": null,
   "metadata": {
    "collapsed": false
   },
   "outputs": [],
   "source": [
    "from sklearn.cluster import KMeans\n",
    "\n",
    "kmeans_array = []\n",
    "labels_array = []\n",
    "centroids_array = []\n",
    "for n_clusters in range(2,8):\n",
    "    kmeans = KMeans(n_clusters=n_clusters, random_state=0).fit(geo_values)\n",
    "    kmeans_array.append(kmeans)\n",
    "    labels_array.append(kmeans.labels_)\n",
    "    centroids_array.append(kmeans.cluster_centers_)"
   ]
  },
  {
   "cell_type": "code",
   "execution_count": null,
   "metadata": {
    "collapsed": false
   },
   "outputs": [],
   "source": [
    "for i in range(len(kmeans_array)):\n",
    "    labels = labels_array[i]\n",
    "    centroids = centroids_array[i]\n",
    "    plt.scatter(geo_values['Longitude'], geo_values['Latitude'], s=10, c = labels+1, cmap = cm.rainbow)\n",
    "    plt.scatter(centroids[:,0],centroids[:,1], s=30)\n",
    "    plt.show()"
   ]
  },
  {
   "cell_type": "markdown",
   "metadata": {},
   "source": [
    "## Spectral clustering"
   ]
  },
  {
   "cell_type": "code",
   "execution_count": null,
   "metadata": {
    "collapsed": false
   },
   "outputs": [],
   "source": [
    "from sklearn.cluster import SpectralClustering\n",
    "\n",
    "spectral_array = []\n",
    "labels_array = []\n",
    "centroids_array = []\n",
    "for n_clusters in range(3,8):\n",
    "    print n_clusters\n",
    "    spectral = SpectralClustering(n_clusters=n_clusters, eigen_solver='arpack', affinity=\"nearest_neighbors\",random_state=0).fit(geo_values)\n",
    "    spectral_array.append(spectral)\n",
    "    labels_array.append(spectral.labels_)"
   ]
  },
  {
   "cell_type": "code",
   "execution_count": null,
   "metadata": {
    "collapsed": false
   },
   "outputs": [],
   "source": [
    "for i in range(len(spectral_array)):\n",
    "    labels = labels_array[i]\n",
    "    plt.scatter(geo_values['Longitude'], geo_values['Latitude'], s=10, c = labels+1, cmap = cm.rainbow)\n",
    "    plt.show()"
   ]
  },
  {
   "cell_type": "markdown",
   "metadata": {},
   "source": [
    "## Hierarchical clustering"
   ]
  },
  {
   "cell_type": "code",
   "execution_count": null,
   "metadata": {
    "collapsed": false
   },
   "outputs": [],
   "source": [
    "from sklearn.cluster import AgglomerativeClustering\n",
    "\n",
    "agglo_array = []\n",
    "labels_array = []\n",
    "centroids_array = []\n",
    "for n_clusters in range(2,9):\n",
    "    print n_clusters\n",
    "    agglo = AgglomerativeClustering(n_clusters=n_clusters, linkage = 'ward').fit(geo_values)\n",
    "    agglo_array.append(agglo)\n",
    "    labels_array.append(agglo.labels_)"
   ]
  },
  {
   "cell_type": "code",
   "execution_count": null,
   "metadata": {
    "collapsed": false
   },
   "outputs": [],
   "source": [
    "for i in range(len(agglo_array)):\n",
    "    labels = labels_array[i]\n",
    "    plt.scatter(geo_values['Longitude'], geo_values['Latitude'], s=10, c = labels+1, cmap = cm.rainbow)\n",
    "    plt.show()"
   ]
  },
  {
   "cell_type": "markdown",
   "metadata": {},
   "source": [
    "# Part 2 - data analysis"
   ]
  },
  {
   "cell_type": "code",
   "execution_count": null,
   "metadata": {
    "collapsed": true
   },
   "outputs": [],
   "source": [
    "import math\n",
    "import numpy as np\n",
    "\n",
    "def route_distance(route, airports_df):\n",
    "    source = np.array(route['Source'])[0]\n",
    "    dest = np.array(route['Destination'])[0]\n",
    "    source_lat = np.array(airports_df[airports_df['IATA/FAA']==source]['Latitude'])[0]\n",
    "    source_lon = np.array(airports_df[airports_df['IATA/FAA']==source]['Longitude'])[0]\n",
    "    dest_lat = airports_df[airports_df['IATA/FAA']==dest]['Latitude']\n",
    "    dest_lon = airports_df[airports_df['IATA/FAA']==dest]['Longitude']\n",
    "    dist = math.sqrt((source_lat - dest_lat)**2 + (source_lon - dest_lon)**2)\n",
    "    return dist"
   ]
  },
  {
   "cell_type": "markdown",
   "metadata": {},
   "source": [
    "## 2.1 Continents extraction"
   ]
  },
  {
   "cell_type": "code",
   "execution_count": null,
   "metadata": {
    "collapsed": false
   },
   "outputs": [],
   "source": [
    "import copy\n",
    "continents_num_labels = copy.copy(agglo_array[-1].labels_)\n",
    "continents_labels = []\n",
    "\n",
    "for i in range(len(continents_num_labels)):\n",
    "    if continents_num_labels[i]==3:\n",
    "        continents_num_labels[i] = 2\n",
    "    if continents_num_labels[i]==5:\n",
    "        continents_num_labels[i] = 0\n",
    "\n",
    "for i in range(len(continents_num_labels)):\n",
    "    if continents_num_labels[i]==0:\n",
    "        continents_labels.append('North America')\n",
    "    elif continents_num_labels[i]==1:\n",
    "        continents_labels.append('South America')\n",
    "    elif continents_num_labels[i]==2:\n",
    "        continents_labels.append('Asia')\n",
    "    elif continents_num_labels[i]==4:\n",
    "        continents_labels.append('Europe')\n",
    "    elif continents_num_labels[i]==6:\n",
    "        continents_labels.append('Australia')\n",
    "    elif continents_num_labels[i]==7:\n",
    "        continents_labels.append('Africa')\n"
   ]
  },
  {
   "cell_type": "code",
   "execution_count": null,
   "metadata": {
    "collapsed": true
   },
   "outputs": [],
   "source": [
    "continents_df = pd.DataFrame(continents_labels)\n",
    "continents_df.columns = ['Continent']\n",
    "airports_new = pd.concat([airports_df, continents_df], axis=1)\n",
    "continents = ['North America', 'South America', 'Asia', 'Europe', 'Australia', 'Africa']"
   ]
  },
  {
   "cell_type": "code",
   "execution_count": null,
   "metadata": {
    "collapsed": false
   },
   "outputs": [],
   "source": [
    "plt.scatter(geo_values['Longitude'], geo_values['Latitude'], s=10, c = continents_num_labels, cmap = cm.rainbow)\n",
    "plt.show()"
   ]
  },
  {
   "cell_type": "markdown",
   "metadata": {},
   "source": [
    "## 2.2 Questions we want to answer"
   ]
  },
  {
   "cell_type": "markdown",
   "metadata": {},
   "source": [
    "1. Which two continents are best connected?\n",
    "2. Which two continents are worst connected?\n",
    "3. Which country has the biggest number of internal flights?\n",
    "4. Which country has the biggest ratio of internal vs external?\n",
    "5. Which country has the lowest ratio of internal vs external flights?\n",
    "6. What is the best connected airport in the world?\n",
    "7. What is the worst connected airport in the world?\n",
    "8. Is there any one-way flight?"
   ]
  },
  {
   "cell_type": "markdown",
   "metadata": {},
   "source": [
    "### Question 1 & 2"
   ]
  },
  {
   "cell_type": "code",
   "execution_count": null,
   "metadata": {
    "collapsed": false
   },
   "outputs": [],
   "source": [
    "# 1. Merge routes with continents\n",
    "# 2. Create distance matrix for matrices"
   ]
  },
  {
   "cell_type": "code",
   "execution_count": null,
   "metadata": {
    "collapsed": false
   },
   "outputs": [],
   "source": [
    "continents"
   ]
  },
  {
   "cell_type": "code",
   "execution_count": null,
   "metadata": {
    "collapsed": false
   },
   "outputs": [],
   "source": [
    "source_continent_column = []\n",
    "dest_continent_column = []\n",
    "\n",
    "inter_continents = pd.DataFrame(np.zeros((len(continents), len(continents))))\n",
    "inter_continents.columns = continents\n",
    "inter_continents.index = continents\n",
    "\n",
    "for index, route in routes_df.iterrows():\n",
    "    if index%3500==0 or index==len(routes_df)-1:\n",
    "        print float(index)/len(routes_df)*100, \"%\"\n",
    "    source = route['Source']\n",
    "    dest = route['Destination']\n",
    "    source_continent = np.array(airports_new[airports_new['IATA/FAA'] == source]['Continent'])\n",
    "    dest_continent = np.array(airports_new[airports_new['IATA/FAA'] == dest]['Continent'])\n",
    "    source_continent_column.append(source_continent)\n",
    "    dest_continent_column.append(dest_continent)\n",
    "    if source_continent.size != 0 and dest_continent.size != 0:\n",
    "        inter_continents.ix[dest_continent[0], source_continent[0]] += 1\n",
    "\n",
    "source_continent_df = pd.DataFrame(source_continent_column)\n",
    "source_continent_df.columns = ['Source Continent']\n",
    "dest_continent_df = pd.DataFrame(dest_continent_column)\n",
    "dest_continent_df.columns = ['Destination Continent']\n",
    "\n",
    "routes_new = pd.concat([routes_df, source_continent_df, dest_continent_df], axis=1)"
   ]
  },
  {
   "cell_type": "code",
   "execution_count": null,
   "metadata": {
    "collapsed": false
   },
   "outputs": [],
   "source": [
    "inter_continents"
   ]
  },
  {
   "cell_type": "code",
   "execution_count": null,
   "metadata": {
    "collapsed": true
   },
   "outputs": [],
   "source": []
  }
 ],
 "metadata": {
  "kernelspec": {
   "display_name": "Python 2",
   "language": "python",
   "name": "python2"
  },
  "language_info": {
   "codemirror_mode": {
    "name": "ipython",
    "version": 2
   },
   "file_extension": ".py",
   "mimetype": "text/x-python",
   "name": "python",
   "nbconvert_exporter": "python",
   "pygments_lexer": "ipython2",
   "version": "2.7.12"
  }
 },
 "nbformat": 4,
 "nbformat_minor": 1
}
