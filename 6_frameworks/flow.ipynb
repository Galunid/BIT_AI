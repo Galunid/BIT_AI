{
 "cells": [
  {
   "cell_type": "markdown",
   "metadata": {},
   "source": [
    "# Tensorflow"
   ]
  },
  {
   "cell_type": "code",
   "execution_count": null,
   "metadata": {},
   "outputs": [],
   "source": [
    "import tensorflow as tf\n",
    "\n",
    "import numpy as np\n",
    "\n",
    "from sklearn import datasets\n",
    "\n",
    "from load_cifar import load_cifar"
   ]
  },
  {
   "cell_type": "markdown",
   "metadata": {
    "collapsed": true
   },
   "source": [
    "TensorFlow is a deep learning framework brought to you by Google. It allows you to build computational graphs from tensors and operations on them and then helps those _tensors flow_."
   ]
  },
  {
   "cell_type": "markdown",
   "metadata": {},
   "source": [
    "As in PyTorch, we'll start with the Iris dataset."
   ]
  },
  {
   "cell_type": "code",
   "execution_count": null,
   "metadata": {},
   "outputs": [],
   "source": [
    "iris = datasets.load_iris()\n",
    "X_train = iris['data']\n",
    "y_train = iris['target']\n",
    "# We'll train on the whole dataset - don't ever do that - but for ilustrating behaviour it's good enough!"
   ]
  },
  {
   "cell_type": "markdown",
   "metadata": {},
   "source": [
    "A computational graph is made of:\n",
    "* placeholders (inputs to the graph)\n",
    "* variables\n",
    "* operations on them and their results"
   ]
  },
  {
   "cell_type": "code",
   "execution_count": null,
   "metadata": {
    "collapsed": true
   },
   "outputs": [],
   "source": [
    "# of course, you can also define your own operations - tensorflow's syntax is in many ways similar to numpy's \n",
    "def relu(activation):\n",
    "    return activation * tf.cast((activation > 0), dtype=tf.float32)"
   ]
  },
  {
   "cell_type": "code",
   "execution_count": null,
   "metadata": {},
   "outputs": [],
   "source": [
    "D_in, H, D_out = 4, 10, 3\n",
    "\n",
    "X = tf.placeholder(tf.float32, shape=(None, D_in))\n",
    "y = tf.placeholder(tf.int32, shape=(None))\n",
    "\n",
    "L = tf.one_hot(y, D_out)\n",
    "W1 = tf.Variable(tf.random_uniform((D_in, H)))\n",
    "W2 = tf.Variable(tf.random_uniform((H, D_out)))\n",
    "\n",
    "# and our graph is buit here:\n",
    "y_pred = relu(X @ W1) @ W2 \n",
    "\n",
    "print(L.shape)\n",
    "\n",
    "loss = tf.reduce_mean(tf.nn.softmax_cross_entropy_with_logits(labels=L, logits=y_pred))\n",
    "\n",
    "\n",
    "# this is a more explicit, but also impractical AF method of performing gradient descent\n",
    "grad_W1, grad_W2 = tf.gradients(loss, [W1, W2])\n",
    "\n",
    "lr = 1e-2\n",
    "\n",
    "new_W1 = W1.assign(W1 - lr * grad_W1)\n",
    "new_W2 = W2.assign(W2 - lr * grad_W2)\n",
    "updates = tf.group(new_W1, new_W2)\n"
   ]
  },
  {
   "cell_type": "markdown",
   "metadata": {},
   "source": [
    "In tensorflow, as opposed to PyTorch graphs are constructed statically - which means you need to define them in your code and cannot change later.\n",
    "\n",
    "An interesting thing to note is that a graph can have many inputs and many outputs, such as `y_pred` and `loss` here\n",
    "\n",
    "Another important thing to know is that nothing has been calculated or initialized yet!\n",
    "\n",
    "How does the training go?"
   ]
  },
  {
   "cell_type": "code",
   "execution_count": null,
   "metadata": {},
   "outputs": [],
   "source": [
    "train_dict = {X: X_train, y: y_train}\n",
    "\n",
    "num_iterations = 500\n",
    "\n",
    "with tf.Session() as sess:\n",
    "    with tf.device(\"/gpu:0\"): #\"/cpu:0\" or \"/gpu:0\"\n",
    "        tf.global_variables_initializer().run()\n",
    "        \n",
    "        for i in range(num_iterations):\n",
    "            loss_val, _ = sess.run([loss, updates], feed_dict=train_dict)\n",
    "            if i % 50 == 0: print(loss_val)\n",
    "        "
   ]
  },
  {
   "cell_type": "markdown",
   "metadata": {},
   "source": [
    "Let's train again, but without perfoming Gradient Descent manually"
   ]
  },
  {
   "cell_type": "code",
   "execution_count": null,
   "metadata": {
    "collapsed": true
   },
   "outputs": [],
   "source": [
    "train_step = tf.train.GradientDescentOptimizer(0.1).minimize(loss)\n",
    "\n",
    "train_dict = {X: X_train, y: y_train}\n",
    "\n",
    "num_iterations = 500\n",
    "\n",
    "with tf.Session() as sess:\n",
    "    with tf.device(\"/gpu:0\"): #\"/cpu:0\" or \"/gpu:0\"\n",
    "        tf.global_variables_initializer().run()\n",
    "        for i in range(num_iterations):\n",
    "            train_step.run(feed_dict=train_dict)\n",
    "            loss_val = loss.eval(feed_dict=train_dict)\n",
    "            if i % 50 == 0: print(loss_val)"
   ]
  },
  {
   "cell_type": "markdown",
   "metadata": {},
   "source": [
    "## As for CIFAR-10\n",
    "\n",
    "Let's now try to train a network on a more serious dataset!"
   ]
  },
  {
   "cell_type": "code",
   "execution_count": null,
   "metadata": {},
   "outputs": [],
   "source": [
    "X_train, y_train, X_test, y_test = load_cifar()\n",
    "\n",
    "X_train = X_train.reshape(-1, 32, 32, 3)\n",
    "X_test = X_test.reshape(-1, 32, 32, 3)"
   ]
  },
  {
   "cell_type": "markdown",
   "metadata": {},
   "source": [
    "Tensorflow provides implementations of layers in it's `layers` module. However, as opposed to PyTorch, it doesn't have one single way to minimize the amount of written code when creating the model.\n",
    "\n",
    "Some of the high-level wrappers include:\n",
    "\n",
    "* `tf.layers`\n",
    "* `TFLearn`\n",
    "* `Estimator API`\n",
    "* `Pretty Tensor`\n",
    "* `Keras`"
   ]
  },
  {
   "cell_type": "markdown",
   "metadata": {},
   "source": [
    "First, let's take a look at the Estimators"
   ]
  },
  {
   "cell_type": "code",
   "execution_count": null,
   "metadata": {
    "collapsed": true
   },
   "outputs": [],
   "source": [
    "def my_cnn(features, labels, mode):\n",
    "    \n",
    "    X = tf.cast(features[\"x\"], tf.float32)    \n",
    "    reg = tf.contrib.layers.l2_regularizer(scale=0.01)\n",
    "    # convolutional layers\n",
    "    # 3 - 5 - 7\n",
    "    h1 = tf.layers.conv2d(X, 32, 5, activation=tf.nn.relu, kernel_regularizer=reg, padding='same')\n",
    "    h1_1 = tf.layers.conv2d(h1, 32, 5, activation=tf.nn.relu, kernel_regularizer=reg, padding='same')\n",
    "    h1_2 = tf.layers.conv2d(h1_1, 32, 5, activation=tf.nn.relu, kernel_regularizer=reg, padding='same')\n",
    "    \n",
    "    \n",
    "    h1_pool = tf.layers.max_pooling2d(h1_2, (2, 2), (2, 2))\n",
    "    h1_batchnorm = tf.layers.batch_normalization(h1_pool)\n",
    "    \n",
    "    h2 = tf.layers.conv2d(h1_batchnorm, 64, 5, activation=tf.nn.relu, kernel_regularizer=reg, padding='same')\n",
    "    h2_1 = tf.layers.conv2d(h2, 64, 5, activation=tf.nn.relu, kernel_regularizer=reg, padding='same')\n",
    "    h2_2 = tf.layers.conv2d(h2_1, 64, 5, activation=tf.nn.relu, kernel_regularizer=reg, padding='same')\n",
    "\n",
    "    h2_pool = tf.layers.max_pooling2d(h2_2, (2, 2), (2, 2))\n",
    "    h2_batchnorm = tf.layers.batch_normalization(h2_pool)\n",
    "    \n",
    "    h3 = tf.layers.conv2d(h2_batchnorm, 128, 5, activation=tf.nn.relu, kernel_regularizer=reg, padding='same')\n",
    "    h3_1 = tf.layers.conv2d(h3, 128, 5, activation=tf.nn.relu, kernel_regularizer=reg, padding='same')\n",
    "    h3_2 = tf.layers.conv2d(h3_1, 128, 5, activation=tf.nn.relu, kernel_regularizer=reg, padding='same')\n",
    "    h3_batchnorm = tf.layers.batch_normalization(h3_2)\n",
    "\n",
    "    # dense layers\n",
    "    d0 = tf.layers.flatten(h3_batchnorm)\n",
    "    \n",
    "    d1 = tf.layers.dense(d0, 2048, activation=tf.nn.relu, kernel_regularizer=reg)\n",
    "    d1_batchnorm = tf.layers.batch_normalization(d1)    \n",
    "    \n",
    "    d2 = tf.layers.dense(d1_batchnorm, 1024, activation=tf.nn.relu, kernel_regularizer=reg)\n",
    "    d2_batchnorm = tf.layers.batch_normalization(d2)    \n",
    "    \n",
    "    d3 = tf.layers.dense(d2_batchnorm, 10, kernel_regularizer=reg)\n",
    "    \n",
    "    y_out = d3\n",
    "        \n",
    "    predictions = {\n",
    "        \"classes\": tf.argmax(input=y_out, axis=1),\n",
    "        \"probabilities\": tf.nn.softmax(y_out, name=\"softmax_tensor\")\n",
    "    }\n",
    "    \n",
    "    if mode == tf.estimator.ModeKeys.PREDICT:\n",
    "        return tf.estimator.EstimatorSpec(mode=mode, predictions=predictions)\n",
    "    \n",
    "    l2_loss = tf.losses.get_regularization_loss()\n",
    "    onehot_labels = tf.one_hot(indices=labels, depth=10)\n",
    "    softmax_loss = tf.losses.softmax_cross_entropy(logits=y_out, onehot_labels=onehot_labels)\n",
    "    loss = l2_loss + softmax_loss\n",
    "    \n",
    "    if mode == tf.estimator.ModeKeys.TRAIN:\n",
    "        global_step = tf.train.get_global_step()\n",
    "        start_lr = 3e-4\n",
    "        lr = tf.train.exponential_decay(start_lr, global_step, 500, 0.9, staircase=True)\n",
    "        optimizer = tf.train.AdamOptimizer(lr)\n",
    "        train_op = optimizer.minimize(loss=loss, global_step=global_step)\n",
    "        return tf.estimator.EstimatorSpec(mode=mode, loss=loss, train_op=train_op)\n",
    "    \n",
    "    eval_metric = {\n",
    "        \"accuracy\": tf.metrics.accuracy(labels=labels, predictions=predictions[\"classes\"])\n",
    "    }\n",
    "    return tf.estimator.EstimatorSpec(mode=mode, loss=loss, eval_metric_ops=eval_metric)"
   ]
  },
  {
   "cell_type": "markdown",
   "metadata": {},
   "source": [
    "In order for estimator to work, we must provide input functions for it:"
   ]
  },
  {
   "cell_type": "code",
   "execution_count": null,
   "metadata": {
    "collapsed": true
   },
   "outputs": [],
   "source": [
    "train_input_fn = tf.estimator.inputs.numpy_input_fn(\n",
    "    x={\"x\": X_train},\n",
    "    y=y_train,\n",
    "    batch_size=256,\n",
    "    num_epochs=None,\n",
    "    shuffle=True    \n",
    ")\n",
    "\n",
    "test_input_fn = tf.estimator.inputs.numpy_input_fn(\n",
    "    x={\"x\": X_test},\n",
    "    y=y_test,\n",
    "    num_epochs=1,\n",
    "    shuffle=False    \n",
    ")\n",
    "\n",
    "# this differs from test_input_fn in its number of epochs\n",
    "# if num_epochs == None, input_fn returns data for as long as we want it to (so it's good for training)\n",
    "train_test_input_fn = tf.estimator.inputs.numpy_input_fn(\n",
    "    x={\"x\": X_train},\n",
    "    y=y_train,\n",
    "    batch_size=256,\n",
    "    num_epochs=1,\n",
    "    shuffle=True    \n",
    ")"
   ]
  },
  {
   "cell_type": "code",
   "execution_count": null,
   "metadata": {},
   "outputs": [],
   "source": [
    "model = tf.estimator.Estimator(model_fn=my_cnn, model_dir='/tmp/my_cnn')"
   ]
  },
  {
   "cell_type": "code",
   "execution_count": null,
   "metadata": {},
   "outputs": [],
   "source": [
    "X_train.shape"
   ]
  },
  {
   "cell_type": "code",
   "execution_count": null,
   "metadata": {},
   "outputs": [],
   "source": [
    "model.train(input_fn=train_input_fn, steps=4000)"
   ]
  },
  {
   "cell_type": "code",
   "execution_count": null,
   "metadata": {},
   "outputs": [],
   "source": [
    "test_results = model.evaluate(input_fn=test_input_fn)\n",
    "train_results = model.evaluate(input_fn=train_test_input_fn)\n",
    "print('train', train_results)\n",
    "print('test', test_results)\n"
   ]
  },
  {
   "cell_type": "markdown",
   "metadata": {},
   "source": [
    "## That's a lot of boilerplate code! Can it be simplified?"
   ]
  },
  {
   "cell_type": "code",
   "execution_count": null,
   "metadata": {},
   "outputs": [],
   "source": [
    "from tensorflow import keras"
   ]
  },
  {
   "cell_type": "markdown",
   "metadata": {},
   "source": [
    "Yup."
   ]
  },
  {
   "cell_type": "markdown",
   "metadata": {},
   "source": [
    "Keras lets you define and train models much more simply. It uses Tensorflow (or Theano if you want, but Theano is dead) as a backend."
   ]
  },
  {
   "cell_type": "code",
   "execution_count": null,
   "metadata": {},
   "outputs": [],
   "source": [
    "model = keras.models.Sequential([\n",
    "    keras.layers.Conv2D(32, 5, activation='relu', padding='same', input_shape=(32, 32, 3)),\n",
    "    keras.layers.Conv2D(32, 5, activation='relu', padding='same'),\n",
    "    keras.layers.Conv2D(32, 5, activation='relu', padding='same'),\n",
    "    \n",
    "    keras.layers.MaxPooling2D(2, 2),\n",
    "    keras.layers.BatchNormalization(),\n",
    "    \n",
    "    keras.layers.Conv2D(64, 5, activation='relu', padding='same', input_shape=(32, 32, 3)),\n",
    "    keras.layers.Conv2D(64, 5, activation='relu', padding='same'),\n",
    "    keras.layers.Conv2D(64, 5, activation='relu', padding='same'),\n",
    "    \n",
    "    keras.layers.MaxPooling2D(2, 2),\n",
    "    keras.layers.BatchNormalization(),\n",
    "    \n",
    "    keras.layers.Conv2D(128, 5, activation='relu', padding='same', input_shape=(32, 32, 3)),\n",
    "    keras.layers.Conv2D(128, 5, activation='relu', padding='same'),\n",
    "    keras.layers.Conv2D(128, 5, activation='relu', padding='same'),\n",
    "    \n",
    "    keras.layers.MaxPooling2D(2, 2),\n",
    "    keras.layers.BatchNormalization(),\n",
    "    keras.layers.Flatten(),\n",
    "\n",
    "    keras.layers.Dense(10, activation='relu')\n",
    "])\n",
    "model.compile(loss='categorical_crossentropy', \n",
    "              optimizer=keras.optimizers.Adam(), \n",
    "              metrics=['accuracy']) "
   ]
  },
  {
   "cell_type": "markdown",
   "metadata": {},
   "source": [
    "Training is much easier to call and also more verbose"
   ]
  },
  {
   "cell_type": "code",
   "execution_count": null,
   "metadata": {},
   "outputs": [],
   "source": [
    "y_train_onehot = keras.utils.to_categorical(y_train, 10)\n",
    "\n",
    "model.fit(X_train, y_train_onehot, epochs=10)"
   ]
  },
  {
   "cell_type": "code",
   "execution_count": null,
   "metadata": {},
   "outputs": [],
   "source": [
    "y_test_onehot = keras.utils.to_categorical(y_test, 10)\n",
    "\n",
    "model.evaluate(X_test, y_test_onehot)"
   ]
  },
  {
   "cell_type": "markdown",
   "metadata": {},
   "source": [
    "As you can see, on the outside the philosophy is similar to PyTorch. However, computational graphs here are still static - you cannot edit them that easily after creation!\n",
    "\n",
    "Funnily enough, implementing your own layers in Keras is similar to PyTorch with one exception - in order for shape inference, you need to implement the function which will, well infer it :P\n",
    "\n",
    "Read more here!\n",
    "\n",
    "https://keras.io/layers/writing-your-own-keras-layers/"
   ]
  }
 ],
 "metadata": {
  "kernelspec": {
   "display_name": "Python 3",
   "language": "python",
   "name": "python3"
  },
  "language_info": {
   "codemirror_mode": {
    "name": "ipython",
    "version": 3
   },
   "file_extension": ".py",
   "mimetype": "text/x-python",
   "name": "python",
   "nbconvert_exporter": "python",
   "pygments_lexer": "ipython3",
   "version": "3.6.2"
  }
 },
 "nbformat": 4,
 "nbformat_minor": 2
}
