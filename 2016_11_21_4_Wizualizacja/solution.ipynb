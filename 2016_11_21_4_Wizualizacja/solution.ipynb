{
 "cells": [
  {
   "cell_type": "code",
   "execution_count": null,
   "metadata": {
    "collapsed": true
   },
   "outputs": [],
   "source": [
    "# magic line to make plots inside the notebook\n",
    "%matplotlib inline"
   ]
  },
  {
   "cell_type": "code",
   "execution_count": null,
   "metadata": {
    "collapsed": false
   },
   "outputs": [],
   "source": [
    "# Dataset source: http://archive.ics.uci.edu/ml/datasets/Occupancy+Detection+\n",
    "import numpy as np\n",
    "import pandas as pd\n",
    "import matplotlib.pyplot as plt"
   ]
  },
  {
   "cell_type": "markdown",
   "metadata": {},
   "source": [
    "    1. Zobacz plik \"occupancy.csv\". Opisuje on dane pomiarowe z mieszkań wraz z ich zajętością. Przyjrzyj się danym, wczytaj je i sprawdź, czy wszystko jest dobrze. Część kolumn i wierszy może być zbędna. "
   ]
  },
  {
   "cell_type": "code",
   "execution_count": null,
   "metadata": {
    "collapsed": false
   },
   "outputs": [],
   "source": [
    "#Read data\n",
    "raw_data = np.genfromtxt(\"occupancy.csv\", delimiter = ',', skip_header=1)\n",
    "\n",
    "#Take a look at data\n",
    "print raw_data"
   ]
  },
  {
   "cell_type": "markdown",
   "metadata": {
    "collapsed": true
   },
   "source": [
    "    2. Usuń niepotrzebne kolumny i sprawdź ilu wartości brakuje\n"
   ]
  },
  {
   "cell_type": "code",
   "execution_count": null,
   "metadata": {
    "collapsed": false
   },
   "outputs": [],
   "source": [
    "#Remove two first columns\n",
    "data = raw_data[:,2:]\n",
    "print data\n",
    "\n",
    "#Check number of nans in the dataset\n",
    "nan_table = np.isnan(data)\n",
    "np.sum(nan_table)"
   ]
  },
  {
   "cell_type": "markdown",
   "metadata": {},
   "source": []
  },
  {
   "cell_type": "markdown",
   "metadata": {},
   "source": [
    "    3. Podziel dane na osobne tablice (tj. temperatura w osobnej itp.)"
   ]
  },
  {
   "cell_type": "code",
   "execution_count": null,
   "metadata": {
    "collapsed": false
   },
   "outputs": [],
   "source": [
    "#Create separate variables for each column\n",
    "temp = data[:,0]\n",
    "humidity = data[:,1]\n",
    "light = data[:,2]\n",
    "co2 = data[:,3]\n",
    "hum_ratio = data[:,4]\n",
    "occupancy = data[:,5]"
   ]
  },
  {
   "cell_type": "markdown",
   "metadata": {},
   "source": []
  },
  {
   "cell_type": "markdown",
   "metadata": {},
   "source": [
    "    4. Dla każdej danej wypisz minimum, maksimum, średnią i medianę"
   ]
  },
  {
   "cell_type": "code",
   "execution_count": null,
   "metadata": {
    "collapsed": false
   },
   "outputs": [],
   "source": [
    "#Get summary info about each value\n",
    "#At least: min, mean, median, max\n",
    "def summary_info(data, verbose=True):\n",
    "    #To implement\n",
    "    min_val = np.min(data)\n",
    "    max_val = np.max(data)\n",
    "    mean_val = np.mean(data)\n",
    "    med_val = np.median(data)\n",
    "    std = np.std(data)\n",
    "    count = len(data)\n",
    "    if verbose:\n",
    "        print \"Range of values: \", min_val, \"-\", max_val\n",
    "        print \"Mean: \", mean_val, \"STD: \", std\n",
    "        print \"Median: \", med_val\n",
    "        print \"Count: \", count\n",
    "    return [min_val, max_val, mean_val, med_val, count]"
   ]
  },
  {
   "cell_type": "code",
   "execution_count": null,
   "metadata": {
    "collapsed": false
   },
   "outputs": [],
   "source": [
    "print \"Temperature\"\n",
    "summary_info(temp)\n",
    "print \"Humidity\"\n",
    "summary_info(humidity)\n",
    "print \"Light\"\n",
    "summary_info(light)\n",
    "print \"Co2\"\n",
    "summary_info(co2)\n",
    "print \"Humidity ratio\"\n",
    "summary_info(hum_ratio)\n",
    "print \"\\n\""
   ]
  },
  {
   "cell_type": "code",
   "execution_count": null,
   "metadata": {
    "collapsed": false
   },
   "outputs": [],
   "source": [
    "#Create boxplots for each value\n",
    "plt.boxplot(temp)"
   ]
  },
  {
   "cell_type": "markdown",
   "metadata": {},
   "source": [
    "    5. Narysuj wykres dla każdej danej"
   ]
  },
  {
   "cell_type": "code",
   "execution_count": null,
   "metadata": {
    "collapsed": false
   },
   "outputs": [],
   "source": [
    "#Check if there is a clear correlation between any of the variables and occupancy\n",
    "#Use plt.plot\n",
    "plt.plot(temp,occupancy,'.')\n",
    "plt.show()\n",
    "plt.plot(humidity,occupancy,'.')\n",
    "plt.show()\n",
    "plt.plot(light,occupancy,'.')\n",
    "plt.show()\n",
    "plt.plot(co2,occupancy,'.')\n",
    "plt.show()\n",
    "plt.plot(hum_ratio,occupancy,'.')\n",
    "plt.show()"
   ]
  },
  {
   "cell_type": "markdown",
   "metadata": {
    "collapsed": true
   },
   "source": [
    "    6. Zobacz, jak wyglądają wykresy dla par danych. Podziel dane na \"occupied\" i \"non_occupied\". Narysuj wykrest w 2D względem dwóch wybranych wartości, pokoloruj punkty na dwa kolory względem occupied i non_occupied."
   ]
  },
  {
   "cell_type": "code",
   "execution_count": null,
   "metadata": {
    "collapsed": false
   },
   "outputs": [],
   "source": [
    "plt.plot(free_temp, free_light, 'b.')\n",
    "plt.plot(occ_temp, occ_light, 'r.')\n",
    "plt.show()\n",
    "\n",
    "plt.plot(free_humidity, free_co2, 'b.')\n",
    "plt.plot(occ_humidity, occ_co2, 'r.')\n",
    "plt.show()\n",
    "\n",
    "plt.plot(free_temp, free_humidity, 'b.')\n",
    "plt.plot(occ_temp, occ_humidity, 'r.')\n",
    "plt.show()\n",
    "\n",
    "plt.plot(free_light, free_hum_ratio, 'b.')\n",
    "plt.plot(occ_light, occ_hum_ratio, 'r.')\n",
    "plt.show()"
   ]
  },
  {
   "cell_type": "markdown",
   "metadata": {},
   "source": [
    "    7. Znormalizuj dane, tj. spraw, że dane będą przeskalowane do przedziału [0; 1]. Jak wpłynie to na wykresy?"
   ]
  },
  {
   "cell_type": "code",
   "execution_count": null,
   "metadata": {
    "collapsed": false
   },
   "outputs": [],
   "source": [
    "# Normalize the data - make all values to be from [0; 1] range and see how it affects both plots and results\n",
    "\n",
    "def normalize(arr):\n",
    "    return (arr - min(arr)) / (max(arr) - min(arr))\n",
    "\n",
    "plt.plot(normalize(free_temp), normalize(free_light), 'b.')\n",
    "plt.plot(normalize(occ_temp), normalize(occ_light), 'r.')\n",
    "plt.show()\n",
    "\n",
    "plt.plot(normalize(free_humidity), normalize(free_co2), 'b.')\n",
    "plt.plot(normalize(occ_humidity), normalize(occ_co2), 'r.')\n",
    "plt.show()\n",
    "\n",
    "plt.plot(normalize(free_temp), normalize(free_humidity), 'b.')\n",
    "plt.plot(normalize(occ_temp), normalize(occ_humidity), 'r.')\n",
    "plt.show()\n",
    "\n",
    "plt.plot(normalize(free_light), normalize(free_hum_ratio), 'b.')\n",
    "plt.plot(normalize(occ_light), normalize(occ_hum_ratio), 'r.')\n",
    "plt.show()"
   ]
  },
  {
   "cell_type": "markdown",
   "metadata": {},
   "source": [
    "    8. Na koniec skorzystaj z algorytmu K Nearest Neighbours. Możesz napisać go samemu lub skorzystać z biblioteki sklearn. Zobacz, jak zachowuje się klasyfikacja dla danych żywych i znormalizowanych."
   ]
  },
  {
   "cell_type": "code",
   "execution_count": null,
   "metadata": {
    "collapsed": false
   },
   "outputs": [],
   "source": [
    "def dist(a, b):\n",
    "    return np.sqrt(np.sum((a-b) ** 2))\n",
    "    \n",
    "\n",
    "def KNN(training_x, training_y, to_classify_x, K):\n",
    "    distances = []\n",
    "    for x, y in zip(training_x, training_y):\n",
    "        distances.append((dist(x, to_classify_x), y))\n",
    "    distances.sort(key=lambda tup: tup[0])\n",
    "    votes = [0, 0]\n",
    "    for _, label in distances[:K]:\n",
    "        votes[label] += 1\n",
    "    if votes[0] > votes[1]:\n",
    "        return 0\n",
    "    return 1\n",
    "\n",
    "np.random.shuffle(data)\n",
    "X = data[:, range(5)]\n",
    "Y = data[:, 5]\n",
    "\n",
    "trainX = X[:2000]\n",
    "trainY = Y[:2000]\n",
    "testX = X[2000:]\n",
    "testY = Y[2000:]\n",
    "\n",
    "good = 0\n",
    "bad = 0\n",
    "for x, y in zip(testX, testY):\n",
    "    estimated = KNN(X, Y.astype(np.int64), x, 5)\n",
    "    real = y\n",
    "    \n",
    "    if real == estimated:\n",
    "        good += 1\n",
    "    else:\n",
    "        bad += 1\n",
    "    \n",
    "print good, bad\n",
    "            "
   ]
  },
  {
   "cell_type": "code",
   "execution_count": null,
   "metadata": {
    "collapsed": true
   },
   "outputs": [],
   "source": []
  }
 ],
 "metadata": {
  "kernelspec": {
   "display_name": "Python 2",
   "language": "python",
   "name": "python2"
  },
  "language_info": {
   "codemirror_mode": {
    "name": "ipython",
    "version": 2
   },
   "file_extension": ".py",
   "mimetype": "text/x-python",
   "name": "python",
   "nbconvert_exporter": "python",
   "pygments_lexer": "ipython2",
   "version": "2.7.10"
  }
 },
 "nbformat": 4,
 "nbformat_minor": 1
}
